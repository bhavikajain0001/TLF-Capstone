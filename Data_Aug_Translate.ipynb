{
  "nbformat": 4,
  "nbformat_minor": 0,
  "metadata": {
    "colab": {
      "name": "Data_aug_code.ipynb",
      "provenance": []
    },
    "kernelspec": {
      "name": "python3",
      "display_name": "Python 3"
    },
    "language_info": {
      "name": "python"
    }
  },
  "cells": [
    {
      "cell_type": "code",
      "metadata": {
        "colab": {
          "base_uri": "https://localhost:8080/"
        },
        "id": "HNPIhyLP6LQC",
        "outputId": "add5be07-6fdd-4e8a-ef1b-e5e20f017abf"
      },
      "source": [
        "import os, sys\n",
        "from google.colab import drive\n",
        "drive.mount('/content/drive')"
      ],
      "execution_count": 1,
      "outputs": [
        {
          "output_type": "stream",
          "text": [
            "Mounted at /content/drive\n"
          ],
          "name": "stdout"
        }
      ]
    },
    {
      "cell_type": "code",
      "metadata": {
        "id": "LYYT8h7L6IPA"
      },
      "source": [
        "import csv\n",
        "import re"
      ],
      "execution_count": 2,
      "outputs": []
    },
    {
      "cell_type": "code",
      "metadata": {
        "id": "l3F0DaeC48jz"
      },
      "source": [
        "!pip install translators"
      ],
      "execution_count": null,
      "outputs": []
    },
    {
      "cell_type": "code",
      "metadata": {
        "colab": {
          "base_uri": "https://localhost:8080/"
        },
        "id": "SsYqoUab41XI",
        "outputId": "a27d59a8-2145-4fa9-a0c3-e64b0c91be47"
      },
      "source": [
        "import pandas as pd\n",
        "# current version have logs, which is not very comfortable\n",
        "import translators as ts\n",
        "from multiprocessing import Pool\n",
        "from tqdm import *\n",
        "\n",
        "CSV_PATH = '/content/drive/MyDrive/Colab Notebooks/Data/Engine_design/Data_Aug/b2.csv'\n",
        "LANG = 'fr'\n",
        "API = 'google'\n",
        "\n",
        "\n",
        "def translator_constructor(api):\n",
        "    if api == 'google':\n",
        "        return ts.google\n",
        "    elif api == 'bing':\n",
        "        return ts.bing\n",
        "    elif api == 'baidu':\n",
        "        return ts.baidu\n",
        "    elif api == 'sogou':\n",
        "        return ts.sogou\n",
        "    elif api == 'youdao':\n",
        "        return ts.youdao\n",
        "    elif api == 'tencent':\n",
        "        return ts.tencent\n",
        "    elif api == 'alibaba':\n",
        "        return ts.alibaba\n",
        "    else:\n",
        "        raise NotImplementedError(f'{api} translator is not realised!')\n",
        "\n",
        "\n",
        "def translate(x):\n",
        "    try:\n",
        "        return [x[0], translator_constructor(API)(x[1], 'en', LANG),x[2]]\n",
        "    except:\n",
        "        return [x[0], None,x[2]]\n",
        "\n",
        "\n",
        "def imap_unordered_bar(func, args, n_processes: int = 48):\n",
        "    p = Pool(n_processes, maxtasksperchild=100)\n",
        "    res_list = []\n",
        "    with tqdm(total=len(args)) as pbar:\n",
        "        for i, res in tqdm(enumerate(p.imap_unordered(func, args))):\n",
        "            pbar.update()\n",
        "            res_list.append(res)\n",
        "    pbar.close()\n",
        "    p.close()\n",
        "    p.join()\n",
        "    return res_list\n",
        "\n",
        "\n",
        "def main():\n",
        "    df = pd.read_csv(CSV_PATH).sample(100)\n",
        "    tqdm.pandas('Translation progress')\n",
        "    df[['id', 'body','intent_2']] = imap_unordered_bar(translate, df[['id', 'body','intent_2']].values)\n",
        "    df.to_csv('/content/drive/MyDrive/Colab Notebooks/Data/Engine_design/Data_Aug/b2trans.csv', index=False)\n",
        "\n",
        "\n",
        "if __name__ == '__main__':\n",
        "    main()"
      ],
      "execution_count": 13,
      "outputs": [
        {
          "output_type": "stream",
          "text": [
            "/usr/local/lib/python3.7/dist-packages/tqdm/std.py:658: FutureWarning: The Panel class is removed from pandas. Accessing it from the top-level namespace will also be removed in the next version\n",
            "  from pandas import Panel\n",
            "  0%|          | 0/100 [00:00<?, ?it/s]\n",
            "  1%|          | 1/100 [00:02<04:05,  2.48s/it]\n",
            "  5%|▌         | 5/100 [00:02<02:45,  1.74s/it]\n",
            " 10%|█         | 10/100 [00:02<01:50,  1.23s/it]\n",
            " 16%|█▌        | 16/100 [00:02<01:12,  1.16it/s]\n",
            " 30%|███       | 30/100 [00:02<00:42,  1.65it/s]\n",
            " 37%|███▋      | 37/100 [00:03<00:27,  2.32it/s]\n",
            " 43%|████▎     | 43/100 [00:03<00:17,  3.22it/s]\n",
            " 49%|████▉     | 49/100 [00:03<00:12,  4.23it/s]\n",
            "49it [00:03,  4.33it/s]\u001b[A\n",
            " 54%|█████▍    | 54/100 [00:03<00:08,  5.49it/s]\n",
            " 58%|█████▊    | 58/100 [00:04<00:05,  7.20it/s]\n",
            " 67%|██████▋   | 67/100 [00:04<00:02, 12.14it/s]\n",
            " 76%|███████▌  | 76/100 [00:04<00:01, 16.17it/s]\n",
            " 85%|████████▌ | 85/100 [00:04<00:00, 21.40it/s]\n",
            " 92%|█████████▏| 92/100 [00:04<00:00, 27.02it/s]\n",
            " 99%|█████████▉| 99/100 [00:05<00:00, 21.25it/s]\n",
            "100it [00:05, 19.62it/s]\n",
            "100%|██████████| 100/100 [00:05<00:00, 19.46it/s]\n"
          ],
          "name": "stderr"
        }
      ]
    },
    {
      "cell_type": "code",
      "metadata": {
        "colab": {
          "base_uri": "https://localhost:8080/"
        },
        "id": "d036k8aK9mKh",
        "outputId": "17660e3e-3746-442a-805d-f7cf04007868"
      },
      "source": [
        "CSV_PATH = '/content/drive/MyDrive/Colab Notebooks/Data/Engine_design/Data_Aug/b2trans.csv'\n",
        "LANG = 'en'\n",
        "API = 'google'\n",
        "\n",
        "\n",
        "def translator_constructor(api):\n",
        "    if api == 'google':\n",
        "        return ts.google\n",
        "    elif api == 'bing':\n",
        "        return ts.bing\n",
        "    elif api == 'baidu':\n",
        "        return ts.baidu\n",
        "    elif api == 'sogou':\n",
        "        return ts.sogou\n",
        "    elif api == 'youdao':\n",
        "        return ts.youdao\n",
        "    elif api == 'tencent':\n",
        "        return ts.tencent\n",
        "    elif api == 'alibaba':\n",
        "        return ts.alibaba\n",
        "    else:\n",
        "        raise NotImplementedError(f'{api} translator is not realised!')\n",
        "\n",
        "\n",
        "def translate(x):\n",
        "    try:\n",
        "        return [x[0], translator_constructor(API)(x[1], 'fr', LANG),x[2]]\n",
        "    except:\n",
        "        return [x[0], None,x[2]]\n",
        "\n",
        "\n",
        "def imap_unordered_bar(func, args, n_processes: int = 48):\n",
        "    p = Pool(n_processes, maxtasksperchild=100)\n",
        "    res_list = []\n",
        "    with tqdm(total=len(args)) as pbar:\n",
        "        for i, res in tqdm(enumerate(p.imap_unordered(func, args))):\n",
        "            pbar.update()\n",
        "            res_list.append(res)\n",
        "    pbar.close()\n",
        "    p.close()\n",
        "    p.join()\n",
        "    return res_list\n",
        "\n",
        "\n",
        "def main():\n",
        "    df = pd.read_csv(CSV_PATH).sample(100)\n",
        "    tqdm.pandas('Translation progress')\n",
        "    df[['id', 'body','intent_2']] = imap_unordered_bar(translate, df[['id', 'body','intent_2']].values)\n",
        "    df.to_csv('/content/drive/MyDrive/Colab Notebooks/Data/Engine_design/Data_Aug/trans3.csv', index=False)\n",
        "\n",
        "\n",
        "if __name__ == '__main__':\n",
        "    main()"
      ],
      "execution_count": 14,
      "outputs": [
        {
          "output_type": "stream",
          "text": [
            "/usr/local/lib/python3.7/dist-packages/tqdm/std.py:658: FutureWarning: The Panel class is removed from pandas. Accessing it from the top-level namespace will also be removed in the next version\n",
            "  from pandas import Panel\n",
            "  0%|          | 0/100 [00:00<?, ?it/s]\n",
            "  1%|          | 1/100 [00:02<04:00,  2.43s/it]\n",
            "  7%|▋         | 7/100 [00:02<02:39,  1.71s/it]\n",
            " 12%|█▏        | 12/100 [00:02<01:46,  1.21s/it]\n",
            " 22%|██▏       | 22/100 [00:02<01:06,  1.18it/s]\n",
            " 27%|██▋       | 27/100 [00:03<00:44,  1.65it/s]\n",
            " 31%|███       | 31/100 [00:03<00:30,  2.26it/s]\n",
            " 35%|███▌      | 35/100 [00:03<00:20,  3.11it/s]\n",
            " 38%|███▊      | 38/100 [00:03<00:14,  4.17it/s]\n",
            " 41%|████      | 41/100 [00:03<00:10,  5.56it/s]\n",
            " 55%|█████▌    | 55/100 [00:03<00:05,  7.72it/s]\n",
            " 60%|██████    | 60/100 [00:04<00:04,  9.44it/s]\n",
            " 74%|███████▍  | 74/100 [00:04<00:01, 16.38it/s]\n",
            " 86%|████████▌ | 86/100 [00:04<00:00, 21.35it/s]\n",
            " 97%|█████████▋| 97/100 [00:04<00:00, 28.07it/s]\n",
            "100it [00:04, 21.54it/s]\n",
            "100%|██████████| 100/100 [00:04<00:00, 21.42it/s]\n"
          ],
          "name": "stderr"
        }
      ]
    }
  ]
}
