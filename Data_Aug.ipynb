{
  "nbformat": 4,
  "nbformat_minor": 0,
  "metadata": {
    "colab": {
      "name": "Data Aug.ipynb",
      "provenance": [],
      "collapsed_sections": []
    },
    "kernelspec": {
      "name": "python3",
      "display_name": "Python 3"
    },
    "language_info": {
      "name": "python"
    }
  },
  "cells": [
    {
      "cell_type": "code",
      "metadata": {
        "colab": {
          "base_uri": "https://localhost:8080/"
        },
        "id": "UxriFFQCK5Nm",
        "outputId": "37e38fc0-1f95-49e2-f864-f42c02185f13"
      },
      "source": [
        "#import os to provide access to functionality dependent on Operating system, The sys module is tells about which Python script is interacting with the host system\n",
        "\n",
        "import os, sys\n",
        "from google.colab import drive\n",
        "drive.mount('/content/drive')"
      ],
      "execution_count": 1,
      "outputs": [
        {
          "output_type": "stream",
          "text": [
            "Drive already mounted at /content/drive; to attempt to forcibly remount, call drive.mount(\"/content/drive\", force_remount=True).\n"
          ],
          "name": "stdout"
        }
      ]
    },
    {
      "cell_type": "code",
      "metadata": {
        "id": "O15mOkmUbmch"
      },
      "source": [
        "import csv\n",
        "import re"
      ],
      "execution_count": 2,
      "outputs": []
    },
    {
      "cell_type": "code",
      "metadata": {
        "id": "ecf3MsIqg33Z"
      },
      "source": [
        "!pip install contractions"
      ],
      "execution_count": 3,
      "outputs": []
    },
    {
      "cell_type": "code",
      "metadata": {
        "id": "9L7DbddBhBzR"
      },
      "source": [
        "!pip install num2words"
      ],
      "execution_count": 4,
      "outputs": []
    },
    {
      "cell_type": "code",
      "metadata": {
        "id": "Pu3NagK6hKyF"
      },
      "source": [
        "import nltk\n",
        "\n",
        "#Download the punkt package to remove punctuations\n",
        "nltk.download('punkt')\n",
        "\n",
        "#Download the stopwors package to remove common stopwords\n",
        "nltk.download('stopwords')"
      ],
      "execution_count": null,
      "outputs": []
    },
    {
      "cell_type": "code",
      "metadata": {
        "id": "iSA6_04LhRdK"
      },
      "source": [
        "import pandas as pd                        #Import pandas package as pd\n",
        "import numpy as np\n",
        "import matplotlib.pyplot as plt\n",
        "import contractions      \n",
        "import seaborn as sns\n",
        "from sklearn.feature_extraction.text import CountVectorizer\n",
        "from collections import  Counter                  #Import contractions package\n",
        "from num2words import num2words            #Import num2words package\n",
        "from nltk.tokenize import word_tokenize    #Import the word_tokenizer package\n",
        "from nltk.tokenize import regexp_tokenize  #Import the regexp_tokenizer package\n",
        "from nltk.stem import WordNetLemmatizer    #Import the WordNetLemmatizer package\n",
        "from nltk.stem import PorterStemmer "
      ],
      "execution_count": 6,
      "outputs": []
    },
    {
      "cell_type": "code",
      "metadata": {
        "id": "b-JWMzuNhUhh"
      },
      "source": [
        "df = pd.read_csv(\"/content/drive/MyDrive/Colab Notebooks/Data/Engine_design/Data_Aug/trainset1.csv\")"
      ],
      "execution_count": 7,
      "outputs": []
    },
    {
      "cell_type": "code",
      "metadata": {
        "id": "pCuttTUhhbEd"
      },
      "source": [
        "df1 = df.drop_duplicates(keep=False, inplace=False)"
      ],
      "execution_count": 8,
      "outputs": []
    },
    {
      "cell_type": "code",
      "metadata": {
        "colab": {
          "base_uri": "https://localhost:8080/",
          "height": 370
        },
        "id": "skcwmDzJhckl",
        "outputId": "b7bb4545-7beb-4d11-cfdd-4966a57effb9"
      },
      "source": [
        "sns.countplot(df1['intent_2'])\n",
        "plt.xlabel('Label')\n",
        "plt.title('Frequency of categories')"
      ],
      "execution_count": 9,
      "outputs": [
        {
          "output_type": "stream",
          "text": [
            "/usr/local/lib/python3.7/dist-packages/seaborn/_decorators.py:43: FutureWarning: Pass the following variable as a keyword arg: x. From version 0.12, the only valid positional argument will be `data`, and passing other arguments without an explicit keyword will result in an error or misinterpretation.\n",
            "  FutureWarning\n"
          ],
          "name": "stderr"
        },
        {
          "output_type": "execute_result",
          "data": {
            "text/plain": [
              "Text(0.5, 1.0, 'Frequency of categories')"
            ]
          },
          "metadata": {
            "tags": []
          },
          "execution_count": 9
        },
        {
          "output_type": "display_data",
          "data": {
            "image/png": "[encoded data removed]",
            "text/plain": [
              "<Figure size 432x288 with 1 Axes>"
            ]
          },
          "metadata": {
            "tags": [],
            "needs_background": "light"
          }
        }
      ]
    },
    {
      "cell_type": "code",
      "metadata": {
        "colab": {
          "base_uri": "https://localhost:8080/"
        },
        "id": "ew-8PShQCqSo",
        "outputId": "7614fb9f-609d-4792-d580-2a38a37ddac0"
      },
      "source": [
        "# import nltk, csv, re packages\n",
        "import nltk\n",
        "import csv\n",
        "import re\n",
        "\n",
        "#Download the punkt package to remove punctuations\n",
        "nltk.download('punkt')\n",
        "\n",
        "#Download the stopwors package to remove common stopwords\n",
        "nltk.download('stopwords')"
      ],
      "execution_count": null,
      "outputs": [
        {
          "output_type": "stream",
          "text": [
            "[nltk_data] Downloading package punkt to /root/nltk_data...\n",
            "[nltk_data]   Package punkt is already up-to-date!\n",
            "[nltk_data] Downloading package stopwords to /root/nltk_data...\n",
            "[nltk_data]   Package stopwords is already up-to-date!\n"
          ],
          "name": "stdout"
        },
        {
          "output_type": "execute_result",
          "data": {
            "text/plain": [
              "True"
            ]
          },
          "metadata": {
            "tags": []
          },
          "execution_count": 214
        }
      ]
    },
    {
      "cell_type": "code",
      "metadata": {
        "id": "pqJ6eofIC7Jo"
      },
      "source": [
        "import pandas as pd                        #Import pandas package as pd\n",
        "import contractions                        #Import contractions package\n",
        "from num2words import num2words            #Import num2words package\n",
        "from nltk.tokenize import word_tokenize    #Import the word_tokenizer package\n",
        "from nltk.tokenize import regexp_tokenize  #Import the regexp_tokenizer package\n",
        "from nltk.stem import WordNetLemmatizer    #Import the WordNetLemmatizer package\n",
        "from nltk.stem import PorterStemmer        #Impport the Porter stemmer package"
      ],
      "execution_count": 10,
      "outputs": []
    },
    {
      "cell_type": "code",
      "metadata": {
        "id": "a4dC4qwqDKDh"
      },
      "source": [
        "df2 = df[['body']].astype('str')"
      ],
      "execution_count": 11,
      "outputs": []
    },
    {
      "cell_type": "code",
      "metadata": {
        "id": "u9iSKuw7E-8a"
      },
      "source": [
        "df2['expan_contra']=\"\"\n",
        "\n",
        "for i in range(len(df2['body'])):\n",
        "   df2.loc[[i],['expan_contra']] = contractions.fix(df2['body'][i])"
      ],
      "execution_count": 12,
      "outputs": []
    },
    {
      "cell_type": "code",
      "metadata": {
        "id": "hU6Uj1l6JQL2"
      },
      "source": [
        "def expabr(user_string):\n",
        "    user_string = user_string.split(\" \")\n",
        "    # File path which consists of Abbreviations.\n",
        "    fileName = \"/content/drive/MyDrive/Colab Notebooks/Data/Engine_design/slang.txt\"\n",
        "    j = 0\n",
        "\n",
        "    for _str in user_string:\n",
        "      # File Access mode [Read Mode]\n",
        "      accessMode = \"r\"\n",
        "      with open(fileName, accessMode) as myCSVfile:\n",
        "      # Reading file as CSV with delimiter as \"=\", so that abbreviation are stored in row[0] and phrases in row[1]\n",
        "          dataFromFile = csv.reader(myCSVfile, delimiter=\"=\")\n",
        "          for row in dataFromFile:\n",
        "# Check if selected word matches short forms[LHS] in text file.\n",
        "            if _str.upper() == row[0]:  \n",
        "              user_string[j] = row[1]   \n",
        "          myCSVfile.close()\n",
        "      j = j + 1\n",
        "    # Replacing commas with spaces for final output.\n",
        "    return ' '.join(user_string)"
      ],
      "execution_count": 15,
      "outputs": []
    },
    {
      "cell_type": "code",
      "metadata": {
        "id": "GXgG0ETBLuDD"
      },
      "source": [
        "df2['body_abbr']=\"\"\n",
        "for i in range(len(df2['body_abbr'])): \n",
        "  df2['body_abbr'][i] = expabr(df2['expan_contra'][i])"
      ],
      "execution_count": 18,
      "outputs": []
    },
    {
      "cell_type": "code",
      "metadata": {
        "id": "s8uFCMsGNnGS"
      },
      "source": [
        "def expsym(user_string):\n",
        "    user_string = re.sub(\";\", \" ; \", user_string)\n",
        "    user_string = re.sub(\"\\\\?\", \" question mark \", user_string)\n",
        "    user_string = re.sub(\"=\", \" equals to \", user_string)\n",
        "    user_string = re.sub(\":\", \" : \", user_string)\n",
        "    user_string = re.sub(\">\", \" greater than \", user_string)\n",
        "    user_string = re.sub(\"<\", \" lesser than \", user_string)\n",
        "    user_string = re.sub(\"_\", \" _ \", user_string)\n",
        "    user_string = re.sub(\"[^0-9a-zA-Z=\\s:;?_-]+\", \"\",user_string)\n",
        "    user_string = ' '.join(re.split('(\\d+)', user_string))\n",
        "    user_string = user_string.split(\" \")\n",
        "    # File path which consists of Abbreviations.\n",
        "    fileName = \"/content/drive/MyDrive/Colab Notebooks/Data/Engine_design/symbols.txt\"\n",
        "    j = 0\n",
        "\n",
        "    for _str in user_string:\n",
        "      # File Access mode [Read Mode]\n",
        "      accessMode = \"r\"\n",
        "      with open(fileName, accessMode) as myCSVfile:\n",
        "      # Reading file as CSV with delimiter as \"=\", so that abbreviation are stored in row[0] and phrases in row[1]\n",
        "          dataFromFile = csv.reader(myCSVfile, delimiter=\"=\")\n",
        "          for row in dataFromFile:\n",
        "# Check if selected word matches short forms[LHS] in text file.\n",
        "            if _str == row[0]:  \n",
        "              user_string[j] = row[1]   \n",
        "          myCSVfile.close()\n",
        "      j = j + 1\n",
        "    # Replacing commas with spaces for final output.\n",
        "    return ' '.join(user_string)"
      ],
      "execution_count": 19,
      "outputs": []
    },
    {
      "cell_type": "code",
      "metadata": {
        "id": "SF5nRmJ3OKFE"
      },
      "source": [
        "df2['body_syexp']=\" \"\n",
        "for i in range(len(df2['body'])):\n",
        "  df2['body_syexp'][i] = expsym(df2['body_abbr'][i])"
      ],
      "execution_count": 22,
      "outputs": []
    },
    {
      "cell_type": "code",
      "metadata": {
        "id": "Rj0I9zBhQkAp"
      },
      "source": [
        "df2.head()"
      ],
      "execution_count": null,
      "outputs": []
    },
    {
      "cell_type": "code",
      "metadata": {
        "id": "YqGA64axRM7o"
      },
      "source": [
        "from nltk.tokenize import word_tokenize"
      ],
      "execution_count": null,
      "outputs": []
    },
    {
      "cell_type": "code",
      "metadata": {
        "id": "vHfI4JDXRKoH"
      },
      "source": [
        "def wordtok(user_string):\n",
        "  tokenized_word=word_tokenize(user_string)\n",
        "  return tokenized_word"
      ],
      "execution_count": null,
      "outputs": []
    },
    {
      "cell_type": "code",
      "metadata": {
        "id": "I_kVlHOoRPkz"
      },
      "source": [
        "df2['word_token']=\" \"\n",
        "for i in range(len(df2['body_syexp'])):\n",
        " df2['word_token'][i] = wordtok(df2['body_syexp'][i])"
      ],
      "execution_count": null,
      "outputs": []
    },
    {
      "cell_type": "code",
      "metadata": {
        "id": "KqZK2ggQTx_X"
      },
      "source": [
        "df3 = df2[['body_syexp']]"
      ],
      "execution_count": 24,
      "outputs": []
    },
    {
      "cell_type": "code",
      "metadata": {
        "id": "eI7oXJMGVTpf"
      },
      "source": [
        "ndf = pd.concat([df, df3], axis=1)"
      ],
      "execution_count": 25,
      "outputs": []
    },
    {
      "cell_type": "code",
      "metadata": {
        "id": "fOZtTFTwcE45"
      },
      "source": [
        "ndf = ndf.drop_duplicates(keep=False, inplace=False)"
      ],
      "execution_count": 26,
      "outputs": []
    },
    {
      "cell_type": "code",
      "metadata": {
        "id": "Ft2xERUwT5J1"
      },
      "source": [
        "ndf.to_csv('/content/drive/MyDrive/Colab Notebooks/Data/Engine_design/Data_Aug/m2_prep.csv', index=False)"
      ],
      "execution_count": 28,
      "outputs": []
    },
    {
      "cell_type": "markdown",
      "metadata": {
        "id": "nTB25qoF0MoG"
      },
      "source": [
        "Augumentation through data translation"
      ]
    },
    {
      "cell_type": "code",
      "metadata": {
        "id": "9j6DqKkJ7cvB"
      },
      "source": [
        "#Installing the nlpaug package\n",
        "!pip install nlpaug==0.0.14"
      ],
      "execution_count": null,
      "outputs": []
    },
    {
      "cell_type": "code",
      "metadata": {
        "id": "Ildyj4OO7XxF"
      },
      "source": [
        "import nlpaug.augmenter.char as nac\n",
        "import nlpaug.augmenter.word as naw\n",
        "import nlpaug.augmenter.sentence as nas\n",
        "import nlpaug.flow as nafc\n",
        "\n",
        "from nlpaug.util import Action"
      ],
      "execution_count": null,
      "outputs": []
    },
    {
      "cell_type": "code",
      "metadata": {
        "id": "9ON5daha-nQS",
        "colab": {
          "base_uri": "https://localhost:8080/",
          "height": 190
        },
        "outputId": "7d8fe5e6-be8e-4c7b-818c-ca6ffcd88519"
      },
      "source": [
        "nldf = pd.read_csv(\"/content/drive/MyDrive/Colab Notebooks/Data/Engine_design/Data_Aug/m2s1_aug.csv\").astype('str')"
      ],
      "execution_count": 1,
      "outputs": [
        {
          "output_type": "error",
          "ename": "NameError",
          "evalue": "ignored",
          "traceback": [
            "\u001b[0;31m---------------------------------------------------------------------------\u001b[0m",
            "\u001b[0;31mNameError\u001b[0m                                 Traceback (most recent call last)",
            "\u001b[0;32m<ipython-input-1-60c9b8ef4bc0>\u001b[0m in \u001b[0;36m<module>\u001b[0;34m()\u001b[0m\n\u001b[0;32m----> 1\u001b[0;31m \u001b[0mnldf\u001b[0m \u001b[0;34m=\u001b[0m \u001b[0mpd\u001b[0m\u001b[0;34m.\u001b[0m\u001b[0mread_csv\u001b[0m\u001b[0;34m(\u001b[0m\u001b[0;34m\"/content/drive/MyDrive/Colab Notebooks/Data/Engine_design/Data_Aug/trainset1.csv\"\u001b[0m\u001b[0;34m)\u001b[0m\u001b[0;34m.\u001b[0m\u001b[0mastype\u001b[0m\u001b[0;34m(\u001b[0m\u001b[0;34m'str'\u001b[0m\u001b[0;34m)\u001b[0m\u001b[0;34m\u001b[0m\u001b[0;34m\u001b[0m\u001b[0m\n\u001b[0m",
            "\u001b[0;31mNameError\u001b[0m: name 'pd' is not defined"
          ]
        }
      ]
    },
    {
      "cell_type": "code",
      "metadata": {
        "id": "80-WAtNj_TNl"
      },
      "source": [
        "nldf.head()"
      ],
      "execution_count": null,
      "outputs": []
    },
    {
      "cell_type": "code",
      "metadata": {
        "id": "aOtNswqB-kHj"
      },
      "source": [
        "def key_aug(text):\n",
        "  aug = nac.KeyboardAug()\n",
        "  augmented_text = aug.augment(text, n=1)\n",
        "  return augmented_text\n",
        "\n"
      ],
      "execution_count": null,
      "outputs": []
    },
    {
      "cell_type": "code",
      "metadata": {
        "id": "SwG_m6cwH0GL"
      },
      "source": [
        "nldf['keyaug1']= \"\"\n",
        "nldf['keyaug1'] = nldf['body'].apply(lambda text: key_aug(text))\n",
        "nldf['keyaug1'].head()"
      ],
      "execution_count": null,
      "outputs": []
    },
    {
      "cell_type": "code",
      "metadata": {
        "id": "JXX18MbL_yKt"
      },
      "source": [
        "nldf['keyaug2']= \"\"\n",
        "nldf['keyaug2'] = nldf['body'].apply(lambda text: key_aug(text))\n",
        "nldf['keyaug2'].head()"
      ],
      "execution_count": null,
      "outputs": []
    },
    {
      "cell_type": "code",
      "metadata": {
        "id": "GhrlJShTHq5p"
      },
      "source": [
        "def spell_aug(text):\n",
        "  aug = naw.SpellingAug()\n",
        "  augmented_text = aug.augment(text, n=1)\n",
        "  return augmented_text"
      ],
      "execution_count": null,
      "outputs": []
    },
    {
      "cell_type": "code",
      "metadata": {
        "id": "BYtbztBMHrp3"
      },
      "source": [
        "nldf['spellaug1']= \"\"\n",
        "nldf['spellaug1'] = nldf['body'].apply(lambda text: key_aug(text))\n",
        "nldf['spellaug1'].head()"
      ],
      "execution_count": null,
      "outputs": []
    },
    {
      "cell_type": "code",
      "metadata": {
        "id": "Cn8-yPn0QZne"
      },
      "source": [
        "from nltk.corpus import wordnet \n",
        "\n",
        "def get_synonyms(word):\n",
        "    \"\"\"\n",
        "    Get synonyms of a word\n",
        "    \"\"\"\n",
        "    synonyms = set()\n",
        "    \n",
        "    for syn in wordnet.synsets(word): \n",
        "        for l in syn.lemmas(): \n",
        "            synonym = l.name().replace(\"_\", \" \").replace(\"-\", \" \").lower()\n",
        "            synonym = \"\".join([char for char in synonym if char in ' qwertyuiopasdfghjklzxcvbnm'])\n",
        "            synonyms.add(synonym) \n",
        "    \n",
        "    if word in synonyms:\n",
        "        synonyms.remove(word)\n",
        "    \n",
        "    return list(synonyms)\n"
      ],
      "execution_count": null,
      "outputs": []
    },
    {
      "cell_type": "code",
      "metadata": {
        "id": "GfJwyS0xPMkb"
      },
      "source": [
        "def synonym_replacement(words, n):\n",
        "    \n",
        "    words = words.split()\n",
        "    \n",
        "    new_words = words.copy()\n",
        "    random_word_list = list(set([word for word in words if word not in stop_words]))\n",
        "    random.shuffle(random_word_list)\n",
        "    num_replaced = 0\n",
        "    \n",
        "    for random_word in random_word_list:\n",
        "        synonyms = get_synonyms(random_word)\n",
        "        \n",
        "        if len(synonyms) >= 1:\n",
        "            synonym = random.choice(list(synonyms))\n",
        "            new_words = [synonym if word == random_word else word for word in new_words]\n",
        "            num_replaced += 1\n",
        "        \n",
        "        if num_replaced >= n: #only replace up to n words\n",
        "            break\n",
        "\n",
        "    sentence = ' '.join(new_words)\n",
        "    return sentence"
      ],
      "execution_count": null,
      "outputs": []
    },
    {
      "cell_type": "code",
      "metadata": {
        "id": "QgWLUMi8QsY8"
      },
      "source": [
        "import random "
      ],
      "execution_count": 72,
      "outputs": []
    },
    {
      "cell_type": "code",
      "metadata": {
        "colab": {
          "base_uri": "https://localhost:8080/"
        },
        "id": "jvimskOTQw3l",
        "outputId": "80a51a02-f62c-41ce-a05f-f9af3d8eabbf"
      },
      "source": [
        "import nltk\n",
        "nltk.download('wordnet')"
      ],
      "execution_count": 73,
      "outputs": [
        {
          "output_type": "stream",
          "text": [
            "[nltk_data] Downloading package wordnet to /root/nltk_data...\n",
            "[nltk_data]   Unzipping corpora/wordnet.zip.\n"
          ],
          "name": "stdout"
        },
        {
          "output_type": "execute_result",
          "data": {
            "text/plain": [
              "True"
            ]
          },
          "metadata": {
            "tags": []
          },
          "execution_count": 73
        }
      ]
    },
    {
      "cell_type": "code",
      "metadata": {
        "id": "WJ8Jwt5fPemI"
      },
      "source": [
        "nldf['syn_rep']=\"\"\n",
        "for i in range(len(nldf['body'])):\n",
        "  nldf['syn_rep'][i] = synonym_replacement(nldf['body'][i],2)"
      ],
      "execution_count": null,
      "outputs": []
    },
    {
      "cell_type": "code",
      "metadata": {
        "id": "rgvXizHjS3t1"
      },
      "source": [
        "nldf.head()"
      ],
      "execution_count": null,
      "outputs": []
    },
    {
      "cell_type": "code",
      "metadata": {
        "id": "-0OkvBY5S48R"
      },
      "source": [
        "nldf.to_csv('/content/drive/MyDrive/Colab Notebooks/Data/Engine_design/Data_Aug/M2inital.csv', index=False)"
      ],
      "execution_count": null,
      "outputs": []
    }
  ]
}