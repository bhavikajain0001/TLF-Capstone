{
  "nbformat": 4,
  "nbformat_minor": 0,
  "metadata": {
    "colab": {
      "name": " XLnet_classification_model2.ipynb",
      "provenance": [],
      "collapsed_sections": [],
      "machine_shape": "hm"
    },
    "kernelspec": {
      "name": "python3",
      "display_name": "Python 3"
    },
    "language_info": {
      "name": "python"
    },
    "accelerator": "GPU"
  },
  "cells": [
    {
      "cell_type": "code",
      "metadata": {
        "colab": {
          "base_uri": "https://localhost:8080/"
        },
        "id": "-7K1aLxyhVBQ",
        "outputId": "dba7106d-8b1a-49ee-9cf5-fc6269e93f01"
      },
      "source": [
        "from google.colab import drive\n",
        "drive.mount('/content/drive')"
      ],
      "execution_count": 273,
      "outputs": [
        {
          "output_type": "stream",
          "text": [
            "Drive already mounted at /content/drive; to attempt to forcibly remount, call drive.mount(\"/content/drive\", force_remount=True).\n"
          ],
          "name": "stdout"
        }
      ]
    },
    {
      "cell_type": "code",
      "metadata": {
        "id": "4p5sxD-NZvgz",
        "colab": {
          "base_uri": "https://localhost:8080/"
        },
        "outputId": "2fcbaeb1-974a-4056-d06b-4584c13031c4"
      },
      "source": [
        "!pip install torch==1.5.1"
      ],
      "execution_count": 274,
      "outputs": [
        {
          "output_type": "stream",
          "text": [
            "Requirement already satisfied: torch==1.5.1 in /usr/local/lib/python3.7/dist-packages (1.5.1)\n",
            "Requirement already satisfied: numpy in /usr/local/lib/python3.7/dist-packages (from torch==1.5.1) (1.19.5)\n",
            "Requirement already satisfied: future in /usr/local/lib/python3.7/dist-packages (from torch==1.5.1) (0.16.0)\n"
          ],
          "name": "stdout"
        }
      ]
    },
    {
      "cell_type": "code",
      "metadata": {
        "id": "v3SRAvG0JVYI",
        "colab": {
          "base_uri": "https://localhost:8080/"
        },
        "outputId": "a295fd73-9201-4998-a468-c8ee8e90ec84"
      },
      "source": [
        "!pip install transformers"
      ],
      "execution_count": 275,
      "outputs": [
        {
          "output_type": "stream",
          "text": [
            "Requirement already satisfied: transformers in /usr/local/lib/python3.7/dist-packages (4.6.1)\n",
            "Requirement already satisfied: huggingface-hub==0.0.8 in /usr/local/lib/python3.7/dist-packages (from transformers) (0.0.8)\n",
            "Requirement already satisfied: importlib-metadata; python_version < \"3.8\" in /usr/local/lib/python3.7/dist-packages (from transformers) (4.0.1)\n",
            "Requirement already satisfied: requests in /usr/local/lib/python3.7/dist-packages (from transformers) (2.23.0)\n",
            "Requirement already satisfied: packaging in /usr/local/lib/python3.7/dist-packages (from transformers) (20.9)\n",
            "Requirement already satisfied: tokenizers<0.11,>=0.10.1 in /usr/local/lib/python3.7/dist-packages (from transformers) (0.10.2)\n",
            "Requirement already satisfied: tqdm>=4.27 in /usr/local/lib/python3.7/dist-packages (from transformers) (4.41.1)\n",
            "Requirement already satisfied: regex!=2019.12.17 in /usr/local/lib/python3.7/dist-packages (from transformers) (2019.12.20)\n",
            "Requirement already satisfied: sacremoses in /usr/local/lib/python3.7/dist-packages (from transformers) (0.0.45)\n",
            "Requirement already satisfied: filelock in /usr/local/lib/python3.7/dist-packages (from transformers) (3.0.12)\n",
            "Requirement already satisfied: numpy>=1.17 in /usr/local/lib/python3.7/dist-packages (from transformers) (1.19.5)\n",
            "Requirement already satisfied: typing-extensions>=3.6.4; python_version < \"3.8\" in /usr/local/lib/python3.7/dist-packages (from importlib-metadata; python_version < \"3.8\"->transformers) (3.7.4.3)\n",
            "Requirement already satisfied: zipp>=0.5 in /usr/local/lib/python3.7/dist-packages (from importlib-metadata; python_version < \"3.8\"->transformers) (3.4.1)\n",
            "Requirement already satisfied: chardet<4,>=3.0.2 in /usr/local/lib/python3.7/dist-packages (from requests->transformers) (3.0.4)\n",
            "Requirement already satisfied: certifi>=2017.4.17 in /usr/local/lib/python3.7/dist-packages (from requests->transformers) (2020.12.5)\n",
            "Requirement already satisfied: idna<3,>=2.5 in /usr/local/lib/python3.7/dist-packages (from requests->transformers) (2.10)\n",
            "Requirement already satisfied: urllib3!=1.25.0,!=1.25.1,<1.26,>=1.21.1 in /usr/local/lib/python3.7/dist-packages (from requests->transformers) (1.24.3)\n",
            "Requirement already satisfied: pyparsing>=2.0.2 in /usr/local/lib/python3.7/dist-packages (from packaging->transformers) (2.4.7)\n",
            "Requirement already satisfied: click in /usr/local/lib/python3.7/dist-packages (from sacremoses->transformers) (8.0.0)\n",
            "Requirement already satisfied: six in /usr/local/lib/python3.7/dist-packages (from sacremoses->transformers) (1.15.0)\n",
            "Requirement already satisfied: joblib in /usr/local/lib/python3.7/dist-packages (from sacremoses->transformers) (1.0.1)\n"
          ],
          "name": "stdout"
        }
      ]
    },
    {
      "cell_type": "code",
      "metadata": {
        "id": "LyCKJaeSYBVt",
        "colab": {
          "base_uri": "https://localhost:8080/"
        },
        "outputId": "917bff40-f1aa-4800-e7cb-5c2cc8a81d54"
      },
      "source": [
        "% pip install sentencepiece"
      ],
      "execution_count": 276,
      "outputs": [
        {
          "output_type": "stream",
          "text": [
            "Requirement already satisfied: sentencepiece in /usr/local/lib/python3.7/dist-packages (0.1.95)\n"
          ],
          "name": "stdout"
        }
      ]
    },
    {
      "cell_type": "code",
      "metadata": {
        "id": "NwTHAUqXk7_B"
      },
      "source": [
        "import os\n",
        "import math\n",
        "\n",
        "import torch\n",
        "from torch.nn import CrossEntropyLoss\n",
        "from collections import defaultdict\n",
        "from torch import nn, optim\n",
        "import torch.nn.functional as F\n",
        "from torch.utils.data import TensorDataset, Dataset, DataLoader, RandomSampler, SequentialSampler\n",
        "from transformers import AdamW, XLNetTokenizer, XLNetModel, XLNetLMHeadModel, XLNetConfig, get_linear_schedule_with_warmup\n",
        "from keras.preprocessing.sequence import pad_sequences\n",
        "from sklearn.model_selection import train_test_split\n",
        "from sklearn.metrics import confusion_matrix, classification_report\n",
        "import numpy as np\n",
        "from sklearn.utils import shuffle\n",
        "from sklearn import metrics\n",
        "import pandas as pd\n",
        "from pylab import rcParams\n",
        "import seaborn as sns\n",
        "from tqdm import tqdm, trange\n",
        "import matplotlib.pyplot as plt\n",
        "%matplotlib inline"
      ],
      "execution_count": 277,
      "outputs": []
    },
    {
      "cell_type": "code",
      "metadata": {
        "colab": {
          "base_uri": "https://localhost:8080/"
        },
        "id": "jsE38mxfKePI",
        "outputId": "75caea18-254b-4407-febc-406db2ada374"
      },
      "source": [
        "print(\"GPU Available: {}\".format(torch.cuda.is_available()))\n",
        "n_gpu = torch.cuda.device_count()\n",
        "print(\"Number of GPU Available: {}\".format(n_gpu))\n",
        "print(\"GPU: {}\".format(torch.cuda.get_device_name(0)))"
      ],
      "execution_count": 278,
      "outputs": [
        {
          "output_type": "stream",
          "text": [
            "GPU Available: True\n",
            "Number of GPU Available: 1\n",
            "GPU: Tesla P100-PCIE-16GB\n"
          ],
          "name": "stdout"
        }
      ]
    },
    {
      "cell_type": "code",
      "metadata": {
        "id": "jHg4z2nAbpa-",
        "colab": {
          "base_uri": "https://localhost:8080/"
        },
        "outputId": "c18924cb-0aa7-43be-ddb4-d5e1f3016b84"
      },
      "source": [
        "device = torch.device(\"cuda:0\" if torch.cuda.is_available() else \"cpu\")\n",
        "device"
      ],
      "execution_count": 279,
      "outputs": [
        {
          "output_type": "execute_result",
          "data": {
            "text/plain": [
              "device(type='cuda', index=0)"
            ]
          },
          "metadata": {
            "tags": []
          },
          "execution_count": 279
        }
      ]
    },
    {
      "cell_type": "code",
      "metadata": {
        "id": "OKOfVSf_uHvK",
        "colab": {
          "base_uri": "https://localhost:8080/",
          "height": 206
        },
        "outputId": "cb878b15-8da5-4484-b4e1-74f6022edf69"
      },
      "source": [
        "df1 = pd.read_csv('/content/drive/MyDrive/Colab Notebooks/Data/Engine_design/Data_Aug/trainset1.csv')\n",
        "df1.head()"
      ],
      "execution_count": 280,
      "outputs": [
        {
          "output_type": "execute_result",
          "data": {
            "text/html": [
              "<div>\n",
              "<style scoped>\n",
              "    .dataframe tbody tr th:only-of-type {\n",
              "        vertical-align: middle;\n",
              "    }\n",
              "\n",
              "    .dataframe tbody tr th {\n",
              "        vertical-align: top;\n",
              "    }\n",
              "\n",
              "    .dataframe thead th {\n",
              "        text-align: right;\n",
              "    }\n",
              "</style>\n",
              "<table border=\"1\" class=\"dataframe\">\n",
              "  <thead>\n",
              "    <tr style=\"text-align: right;\">\n",
              "      <th></th>\n",
              "      <th>body</th>\n",
              "      <th>intent_2</th>\n",
              "    </tr>\n",
              "  </thead>\n",
              "  <tbody>\n",
              "    <tr>\n",
              "      <th>0</th>\n",
              "      <td>Hi piston! My crankshaft depends on your bore ...</td>\n",
              "      <td>Dependencies between design parameters</td>\n",
              "    </tr>\n",
              "    <tr>\n",
              "      <th>1</th>\n",
              "      <td>Hi flywheel! My crankshaft depends on your fly...</td>\n",
              "      <td>Dependencies between design parameters</td>\n",
              "    </tr>\n",
              "    <tr>\n",
              "      <th>2</th>\n",
              "      <td>min of 40</td>\n",
              "      <td>Selected design parameter values for objective(s)</td>\n",
              "    </tr>\n",
              "    <tr>\n",
              "      <th>3</th>\n",
              "      <td>My flywheel also depends on your crankshaft be...</td>\n",
              "      <td>Dependencies between design parameters</td>\n",
              "    </tr>\n",
              "    <tr>\n",
              "      <th>4</th>\n",
              "      <td>45 seems decent</td>\n",
              "      <td>Selected design parameter values for objective(s)</td>\n",
              "    </tr>\n",
              "  </tbody>\n",
              "</table>\n",
              "</div>"
            ],
            "text/plain": [
              "                                                body                                           intent_2\n",
              "0  Hi piston! My crankshaft depends on your bore ...             Dependencies between design parameters\n",
              "1  Hi flywheel! My crankshaft depends on your fly...             Dependencies between design parameters\n",
              "2                                          min of 40  Selected design parameter values for objective(s)\n",
              "3  My flywheel also depends on your crankshaft be...             Dependencies between design parameters\n",
              "4                                    45 seems decent  Selected design parameter values for objective(s)"
            ]
          },
          "metadata": {
            "tags": []
          },
          "execution_count": 280
        }
      ]
    },
    {
      "cell_type": "code",
      "metadata": {
        "id": "SCi8xpREuvf0",
        "colab": {
          "base_uri": "https://localhost:8080/"
        },
        "outputId": "cf61eb5c-6ba4-4c8e-b0d0-6e5086e0d44d"
      },
      "source": [
        "df1 = shuffle(df1)\n",
        "len(df1)"
      ],
      "execution_count": 281,
      "outputs": [
        {
          "output_type": "execute_result",
          "data": {
            "text/plain": [
              "518"
            ]
          },
          "metadata": {
            "tags": []
          },
          "execution_count": 281
        }
      ]
    },
    {
      "cell_type": "code",
      "metadata": {
        "id": "A20aJK29xRJE",
        "colab": {
          "base_uri": "https://localhost:8080/"
        },
        "outputId": "d169b41d-8e44-406d-8a72-2f9728826b20"
      },
      "source": [
        "df2 = pd.read_csv('/content/drive/MyDrive/Colab Notebooks/Data/Engine_design/Data_Aug/Validation_data.csv')\n",
        "df2 = shuffle(df2)\n",
        "len(df2)"
      ],
      "execution_count": 282,
      "outputs": [
        {
          "output_type": "execute_result",
          "data": {
            "text/plain": [
              "48"
            ]
          },
          "metadata": {
            "tags": []
          },
          "execution_count": 282
        }
      ]
    },
    {
      "cell_type": "code",
      "metadata": {
        "id": "6B_SZfWsc1ES",
        "colab": {
          "base_uri": "https://localhost:8080/",
          "height": 370
        },
        "outputId": "eebd4dd5-b213-4964-95be-61b0a21319ba"
      },
      "source": [
        "sns.countplot(df1['intent_2'])\n",
        "plt.xlabel('Label')\n",
        "plt.title('Frequency of categories')"
      ],
      "execution_count": 283,
      "outputs": [
        {
          "output_type": "stream",
          "text": [
            "/usr/local/lib/python3.7/dist-packages/seaborn/_decorators.py:43: FutureWarning: Pass the following variable as a keyword arg: x. From version 0.12, the only valid positional argument will be `data`, and passing other arguments without an explicit keyword will result in an error or misinterpretation.\n",
            "  FutureWarning\n"
          ],
          "name": "stderr"
        },
        {
          "output_type": "execute_result",
          "data": {
            "text/plain": [
              "Text(0.5, 1.0, 'Frequency of categories')"
            ]
          },
          "metadata": {
            "tags": []
          },
          "execution_count": 283
        },
        {
          "output_type": "display_data",
          "data": {
            "image/png": "[encoded data removed]",
            "text/plain": [
              "<Figure size 432x288 with 1 Axes>"
            ]
          },
          "metadata": {
            "tags": [],
            "needs_background": "light"
          }
        }
      ]
    },
    {
      "cell_type": "code",
      "metadata": {
        "id": "0yWyySKMdgC8"
      },
      "source": [
        "df1['Body'] = df1['body'].astype('str')"
      ],
      "execution_count": 284,
      "outputs": []
    },
    {
      "cell_type": "code",
      "metadata": {
        "colab": {
          "base_uri": "https://localhost:8080/"
        },
        "id": "Rf3EPaWl5hsL",
        "outputId": "a6f9d07e-d452-46a2-ff63-43f57f32b9b5"
      },
      "source": [
        "df2 \n",
        "df2['Body'] = df2['body'].astype('str')\n",
        "df2['Intent'] = df2['intent_2'].astype(\"category\")\n",
        "print(df2['Intent'].unique)\n",
        "df2.drop(labels=[\"intent_2\",\"body\"], axis=1,inplace=True)\n",
        "df2['Intent'] = df2['Intent'].cat.codes"
      ],
      "execution_count": 285,
      "outputs": [
        {
          "output_type": "stream",
          "text": [
            "<bound method Series.unique of 29                          Monitoring objective values\n",
            "8            Effects of design parameters on objectives\n",
            "4                Dependencies between design parameters\n",
            "15               Exploration of design parameter values\n",
            "23                          Monitoring objective values\n",
            "40                          Tradeoff between objectives\n",
            "3                Dependencies between design parameters\n",
            "16               Exploration of design parameter values\n",
            "36                                                  NAN\n",
            "0                Dependencies between design parameters\n",
            "17               Exploration of design parameter values\n",
            "42                          Tradeoff between objectives\n",
            "27                          Monitoring objective values\n",
            "1                Dependencies between design parameters\n",
            "24                          Monitoring objective values\n",
            "10           Effects of design parameters on objectives\n",
            "44    Selected design parameter values for objective(s)\n",
            "47    Selected design parameter values for objective(s)\n",
            "41                          Tradeoff between objectives\n",
            "20               Exploration of design parameter values\n",
            "26                          Monitoring objective values\n",
            "37                                                  NAN\n",
            "33                                                  NAN\n",
            "12           Effects of design parameters on objectives\n",
            "32                                                  NAN\n",
            "43                          Tradeoff between objectives\n",
            "21               Exploration of design parameter values\n",
            "39                                                  NAN\n",
            "13           Effects of design parameters on objectives\n",
            "34                                                  NAN\n",
            "5            Effects of design parameters on objectives\n",
            "11           Effects of design parameters on objectives\n",
            "18               Exploration of design parameter values\n",
            "14           Effects of design parameters on objectives\n",
            "22               Exploration of design parameter values\n",
            "9            Effects of design parameters on objectives\n",
            "38                                                  NAN\n",
            "28                          Monitoring objective values\n",
            "30                                                  NAN\n",
            "31                                                  NAN\n",
            "46    Selected design parameter values for objective(s)\n",
            "7            Effects of design parameters on objectives\n",
            "6            Effects of design parameters on objectives\n",
            "25                          Monitoring objective values\n",
            "35                                                  NAN\n",
            "45    Selected design parameter values for objective(s)\n",
            "19               Exploration of design parameter values\n",
            "2                Dependencies between design parameters\n",
            "Name: Intent, dtype: category\n",
            "Categories (7, object): ['Dependencies between design parameters', 'Effects of design parameters on objectives',\n",
            "                         'Exploration of design parameter values', 'Monitoring objective values', 'NAN',\n",
            "                         'Selected design parameter values for objectiv..., 'Tradeoff between objectives']>\n"
          ],
          "name": "stdout"
        }
      ]
    },
    {
      "cell_type": "code",
      "metadata": {
        "id": "pFXCEdXA8VbS"
      },
      "source": [
        "df1['Intent'] = df1['intent_2'].astype(\"category\")"
      ],
      "execution_count": 286,
      "outputs": []
    },
    {
      "cell_type": "code",
      "metadata": {
        "id": "sVg7caSfg5Du"
      },
      "source": [
        "df1.drop(labels=[\"intent_2\",\"body\"], axis=1,inplace=True)"
      ],
      "execution_count": 287,
      "outputs": []
    },
    {
      "cell_type": "code",
      "metadata": {
        "id": "GoOvUCDH8nEU",
        "colab": {
          "base_uri": "https://localhost:8080/"
        },
        "outputId": "271bc89c-7d1e-4fce-fae9-34dd1c8d807c"
      },
      "source": [
        "df1['Intent']"
      ],
      "execution_count": 288,
      "outputs": [
        {
          "output_type": "execute_result",
          "data": {
            "text/plain": [
              "86     Selected design parameter values for objective(s)\n",
              "478               Exploration of design parameter values\n",
              "502               Dependencies between design parameters\n",
              "457    Selected design parameter values for objective(s)\n",
              "251                          Monitoring objective values\n",
              "                             ...                        \n",
              "407           Effects of design parameters on objectives\n",
              "63                Dependencies between design parameters\n",
              "474    Selected design parameter values for objective(s)\n",
              "264                                                  NAN\n",
              "204                          Monitoring objective values\n",
              "Name: Intent, Length: 518, dtype: category\n",
              "Categories (7, object): ['Dependencies between design parameters', 'Effects of design parameters on objectives',\n",
              "                         'Exploration of design parameter values', 'Monitoring objective values', 'NAN',\n",
              "                         'Selected design parameter values for objectiv..., 'Tradeoff between objectives']"
            ]
          },
          "metadata": {
            "tags": []
          },
          "execution_count": 288
        }
      ]
    },
    {
      "cell_type": "code",
      "metadata": {
        "id": "pJaZUgAc8cNH"
      },
      "source": [
        "df1['Intent'] = df1['Intent'].cat.codes"
      ],
      "execution_count": 289,
      "outputs": []
    },
    {
      "cell_type": "code",
      "metadata": {
        "id": "Djw42HB5hVtr"
      },
      "source": [
        "#df1.to_csv('/content/drive/MyDrive/Colab Notebooks/Data/Engine_design/check.csv', index=False)"
      ],
      "execution_count": 290,
      "outputs": []
    },
    {
      "cell_type": "code",
      "metadata": {
        "id": "5Bv4S-r6iy5T"
      },
      "source": [
        "#df1['Intent'].unique"
      ],
      "execution_count": 291,
      "outputs": []
    },
    {
      "cell_type": "code",
      "metadata": {
        "id": "6WJCvn8F8vfN"
      },
      "source": [
        "#df2['Intent'].value_counts()"
      ],
      "execution_count": 292,
      "outputs": []
    },
    {
      "cell_type": "code",
      "metadata": {
        "id": "nRUFVig99t5X"
      },
      "source": [
        "class_names = ['Dependencies between design parameters', 'Effects of design parameters on objectives',\n",
        "                         'Exploration of design parameter values', 'Monitoring objective values', 'NAN',\n",
        "                         'Selected design parameter values for objectives', 'Tradeoff between objectives']"
      ],
      "execution_count": 293,
      "outputs": []
    },
    {
      "cell_type": "code",
      "metadata": {
        "colab": {
          "base_uri": "https://localhost:8080/",
          "height": 445
        },
        "id": "rBgGhOZPvdgA",
        "outputId": "e7d4621b-641f-4da2-9607-252e97876678"
      },
      "source": [
        "rcParams['figure.figsize'] = 8, 6\n",
        "sns.countplot(df1.Intent)\n",
        "plt.xlabel('Number of Intents');"
      ],
      "execution_count": 294,
      "outputs": [
        {
          "output_type": "stream",
          "text": [
            "/usr/local/lib/python3.7/dist-packages/seaborn/_decorators.py:43: FutureWarning: Pass the following variable as a keyword arg: x. From version 0.12, the only valid positional argument will be `data`, and passing other arguments without an explicit keyword will result in an error or misinterpretation.\n",
            "  FutureWarning\n"
          ],
          "name": "stderr"
        },
        {
          "output_type": "display_data",
          "data": {
            "image/png": "[encoded data removed]",
            "text/plain": [
              "<Figure size 576x432 with 1 Axes>"
            ]
          },
          "metadata": {
            "tags": [],
            "needs_background": "light"
          }
        }
      ]
    },
    {
      "cell_type": "code",
      "metadata": {
        "id": "qsiBFbbmN61U"
      },
      "source": [
        "PRE_TRAINED_MODEL_NAME = 'xlnet-base-cased'\n",
        "tokenizer = XLNetTokenizer.from_pretrained(PRE_TRAINED_MODEL_NAME)"
      ],
      "execution_count": 295,
      "outputs": []
    },
    {
      "cell_type": "code",
      "metadata": {
        "colab": {
          "base_uri": "https://localhost:8080/"
        },
        "id": "dIf0RzN6Xgd8",
        "outputId": "98c098ba-0309-4d72-de95-eaf2fa1f352a"
      },
      "source": [
        "input_txt = \"whats the factor of safety\"\n",
        "encodings = tokenizer.encode_plus(input_txt, add_special_tokens=True, max_length=20, return_tensors='pt', return_token_type_ids=False, return_attention_mask=True, pad_to_max_length=False)"
      ],
      "execution_count": 296,
      "outputs": [
        {
          "output_type": "stream",
          "text": [
            "Truncation was not explicitly activated but `max_length` is provided a specific value, please use `truncation=True` to explicitly truncate examples to max length. Defaulting to 'longest_first' truncation strategy. If you encode pairs of sequences (GLUE-style) with the tokenizer you can select this strategy more precisely by providing a specific strategy to `truncation`.\n"
          ],
          "name": "stderr"
        }
      ]
    },
    {
      "cell_type": "code",
      "metadata": {
        "id": "mgmUPsxqXrwq"
      },
      "source": [
        "MAX_LEN=512\n",
        "attention_mask = pad_sequences(encodings['attention_mask'], maxlen=512, dtype=torch.Tensor ,truncating=\"post\",padding=\"post\")"
      ],
      "execution_count": 297,
      "outputs": []
    },
    {
      "cell_type": "code",
      "metadata": {
        "id": "MNID4vkA4CMH",
        "colab": {
          "base_uri": "https://localhost:8080/"
        },
        "outputId": "786eca52-cad7-4f80-dba0-5b03a6230726"
      },
      "source": [
        "attention_mask = attention_mask.astype(dtype = 'int64')\n",
        "attention_mask = torch.tensor(attention_mask) \n",
        "attention_mask.flatten()"
      ],
      "execution_count": 298,
      "outputs": [
        {
          "output_type": "execute_result",
          "data": {
            "text/plain": [
              "tensor([1, 1, 1, 1, 1, 1, 1, 1, 0, 0, 0, 0, 0, 0, 0, 0, 0, 0, 0, 0, 0, 0, 0, 0,\n",
              "        0, 0, 0, 0, 0, 0, 0, 0, 0, 0, 0, 0, 0, 0, 0, 0, 0, 0, 0, 0, 0, 0, 0, 0,\n",
              "        0, 0, 0, 0, 0, 0, 0, 0, 0, 0, 0, 0, 0, 0, 0, 0, 0, 0, 0, 0, 0, 0, 0, 0,\n",
              "        0, 0, 0, 0, 0, 0, 0, 0, 0, 0, 0, 0, 0, 0, 0, 0, 0, 0, 0, 0, 0, 0, 0, 0,\n",
              "        0, 0, 0, 0, 0, 0, 0, 0, 0, 0, 0, 0, 0, 0, 0, 0, 0, 0, 0, 0, 0, 0, 0, 0,\n",
              "        0, 0, 0, 0, 0, 0, 0, 0, 0, 0, 0, 0, 0, 0, 0, 0, 0, 0, 0, 0, 0, 0, 0, 0,\n",
              "        0, 0, 0, 0, 0, 0, 0, 0, 0, 0, 0, 0, 0, 0, 0, 0, 0, 0, 0, 0, 0, 0, 0, 0,\n",
              "        0, 0, 0, 0, 0, 0, 0, 0, 0, 0, 0, 0, 0, 0, 0, 0, 0, 0, 0, 0, 0, 0, 0, 0,\n",
              "        0, 0, 0, 0, 0, 0, 0, 0, 0, 0, 0, 0, 0, 0, 0, 0, 0, 0, 0, 0, 0, 0, 0, 0,\n",
              "        0, 0, 0, 0, 0, 0, 0, 0, 0, 0, 0, 0, 0, 0, 0, 0, 0, 0, 0, 0, 0, 0, 0, 0,\n",
              "        0, 0, 0, 0, 0, 0, 0, 0, 0, 0, 0, 0, 0, 0, 0, 0, 0, 0, 0, 0, 0, 0, 0, 0,\n",
              "        0, 0, 0, 0, 0, 0, 0, 0, 0, 0, 0, 0, 0, 0, 0, 0, 0, 0, 0, 0, 0, 0, 0, 0,\n",
              "        0, 0, 0, 0, 0, 0, 0, 0, 0, 0, 0, 0, 0, 0, 0, 0, 0, 0, 0, 0, 0, 0, 0, 0,\n",
              "        0, 0, 0, 0, 0, 0, 0, 0, 0, 0, 0, 0, 0, 0, 0, 0, 0, 0, 0, 0, 0, 0, 0, 0,\n",
              "        0, 0, 0, 0, 0, 0, 0, 0, 0, 0, 0, 0, 0, 0, 0, 0, 0, 0, 0, 0, 0, 0, 0, 0,\n",
              "        0, 0, 0, 0, 0, 0, 0, 0, 0, 0, 0, 0, 0, 0, 0, 0, 0, 0, 0, 0, 0, 0, 0, 0,\n",
              "        0, 0, 0, 0, 0, 0, 0, 0, 0, 0, 0, 0, 0, 0, 0, 0, 0, 0, 0, 0, 0, 0, 0, 0,\n",
              "        0, 0, 0, 0, 0, 0, 0, 0, 0, 0, 0, 0, 0, 0, 0, 0, 0, 0, 0, 0, 0, 0, 0, 0,\n",
              "        0, 0, 0, 0, 0, 0, 0, 0, 0, 0, 0, 0, 0, 0, 0, 0, 0, 0, 0, 0, 0, 0, 0, 0,\n",
              "        0, 0, 0, 0, 0, 0, 0, 0, 0, 0, 0, 0, 0, 0, 0, 0, 0, 0, 0, 0, 0, 0, 0, 0,\n",
              "        0, 0, 0, 0, 0, 0, 0, 0, 0, 0, 0, 0, 0, 0, 0, 0, 0, 0, 0, 0, 0, 0, 0, 0,\n",
              "        0, 0, 0, 0, 0, 0, 0, 0])"
            ]
          },
          "metadata": {
            "tags": []
          },
          "execution_count": 298
        }
      ]
    },
    {
      "cell_type": "code",
      "metadata": {
        "id": "WxjB9bRL4kqV"
      },
      "source": [
        "token_lens = []\n",
        "\n",
        "for txt in df1['Body']:\n",
        "  tokens = tokenizer.encode(txt, max_length=512)\n",
        "  token_lens.append(len(tokens))"
      ],
      "execution_count": 299,
      "outputs": []
    },
    {
      "cell_type": "code",
      "metadata": {
        "colab": {
          "base_uri": "https://localhost:8080/",
          "height": 445
        },
        "id": "WeBbExk_6FD7",
        "outputId": "0e054e28-55ab-4df0-d5a9-87bc72791490"
      },
      "source": [
        "sns.distplot(token_lens)\n",
        "plt.xlim([0, 200]);\n",
        "plt.xlabel('Token count');"
      ],
      "execution_count": 300,
      "outputs": [
        {
          "output_type": "stream",
          "text": [
            "/usr/local/lib/python3.7/dist-packages/seaborn/distributions.py:2557: FutureWarning: `distplot` is a deprecated function and will be removed in a future version. Please adapt your code to use either `displot` (a figure-level function with similar flexibility) or `histplot` (an axes-level function for histograms).\n",
            "  warnings.warn(msg, FutureWarning)\n"
          ],
          "name": "stderr"
        },
        {
          "output_type": "display_data",
          "data": {
            "image/png": "[encoded data removed]",
            "text/plain": [
              "<Figure size 576x432 with 1 Axes>"
            ]
          },
          "metadata": {
            "tags": [],
            "needs_background": "light"
          }
        }
      ]
    },
    {
      "cell_type": "code",
      "metadata": {
        "id": "-x4xUMZHXwTI"
      },
      "source": [
        "class QaDataset(Dataset):\n",
        "\n",
        "    def __init__(self, reviews, targets, tokenizer, max_len):\n",
        "        self.reviews = reviews\n",
        "        self.targets = targets\n",
        "        self.tokenizer = tokenizer\n",
        "        self.max_len = max_len\n",
        "    \n",
        "    def __len__(self):\n",
        "        return len(self.reviews)\n",
        "    \n",
        "    def __getitem__(self, item):\n",
        "        review = str(self.reviews[item])\n",
        "        target = self.targets[item]\n",
        "\n",
        "        encoding = self.tokenizer.encode_plus(\n",
        "        review,\n",
        "        add_special_tokens=True,\n",
        "        max_length=self.max_len,\n",
        "        return_token_type_ids=False,\n",
        "        pad_to_max_length=False,\n",
        "        return_attention_mask=True,\n",
        "        return_tensors='pt',\n",
        "        )\n",
        "\n",
        "        input_ids = pad_sequences(encoding['input_ids'], maxlen=MAX_LEN, dtype=torch.Tensor ,truncating=\"post\",padding=\"post\")\n",
        "        input_ids = input_ids.astype(dtype = 'int64')\n",
        "        input_ids = torch.tensor(input_ids) \n",
        "\n",
        "        attention_mask = pad_sequences(encoding['attention_mask'], maxlen=MAX_LEN, dtype=torch.Tensor ,truncating=\"post\",padding=\"post\")\n",
        "        attention_mask = attention_mask.astype(dtype = 'int64')\n",
        "        attention_mask = torch.tensor(attention_mask)       \n",
        "\n",
        "        return {\n",
        "        'review_text': review,\n",
        "        'input_ids': input_ids,\n",
        "        'attention_mask': attention_mask.flatten(),\n",
        "        'targets': torch.tensor(target, dtype=torch.long)\n",
        "        }\n"
      ],
      "execution_count": 301,
      "outputs": []
    },
    {
      "cell_type": "code",
      "metadata": {
        "id": "BcXjnH_ECeBe"
      },
      "source": [
        "df_train = df1\n",
        "df_val = df2"
      ],
      "execution_count": 302,
      "outputs": []
    },
    {
      "cell_type": "code",
      "metadata": {
        "id": "pW4F2hQ8gYhM",
        "colab": {
          "base_uri": "https://localhost:8080/"
        },
        "outputId": "cc3df603-c0f4-439d-9d5d-ac028274fcc0"
      },
      "source": [
        "df_train.shape, df_val.shape"
      ],
      "execution_count": 303,
      "outputs": [
        {
          "output_type": "execute_result",
          "data": {
            "text/plain": [
              "((518, 2), (48, 2))"
            ]
          },
          "metadata": {
            "tags": []
          },
          "execution_count": 303
        }
      ]
    },
    {
      "cell_type": "code",
      "metadata": {
        "id": "EAmfsyjC8rgB"
      },
      "source": [
        "#df_train = df_train.iloc[0:2748,]"
      ],
      "execution_count": 304,
      "outputs": []
    },
    {
      "cell_type": "code",
      "metadata": {
        "id": "GPk_GRqP9hBD"
      },
      "source": [
        "#df_val = df_val.iloc[0:1372,]"
      ],
      "execution_count": 305,
      "outputs": []
    },
    {
      "cell_type": "code",
      "metadata": {
        "id": "0yqznSg097Rg"
      },
      "source": [
        "#df_test = df_test.iloc[0:1372,]"
      ],
      "execution_count": 306,
      "outputs": []
    },
    {
      "cell_type": "code",
      "metadata": {
        "id": "uSAPMpJQ_cLd"
      },
      "source": [
        "#df_train.shape, df_val.shape"
      ],
      "execution_count": 307,
      "outputs": []
    },
    {
      "cell_type": "code",
      "metadata": {
        "id": "TC4osp0CgZjU"
      },
      "source": [
        "def create_data_loader(df, tokenizer, max_len, batch_size):\n",
        "  ds = QaDataset(\n",
        "    reviews=df.Body.to_numpy(),\n",
        "    targets=df.Intent.to_numpy(),\n",
        "    tokenizer=tokenizer,\n",
        "    max_len=max_len\n",
        "  )\n",
        "\n",
        "  return DataLoader(\n",
        "    ds,\n",
        "    batch_size=batch_size,\n",
        "    num_workers=4\n",
        "  )"
      ],
      "execution_count": 308,
      "outputs": []
    },
    {
      "cell_type": "code",
      "metadata": {
        "id": "dCURFw9uiC2F"
      },
      "source": [
        "BATCH_SIZE = 2\n",
        "\n",
        "train_data_loader = create_data_loader(df_train, tokenizer, MAX_LEN, BATCH_SIZE)\n",
        "val_data_loader = create_data_loader(df_val, tokenizer, MAX_LEN, BATCH_SIZE)\n",
        "#test_data_loader = create_data_loader(df_test, tokenizer, MAX_LEN, BATCH_SIZE)"
      ],
      "execution_count": 309,
      "outputs": []
    },
    {
      "cell_type": "code",
      "metadata": {
        "colab": {
          "base_uri": "https://localhost:8080/"
        },
        "id": "zJW8qkVEDrFM",
        "outputId": "ded76ea7-1847-41e0-fe91-820d04f8e351"
      },
      "source": [
        "from transformers import XLNetForSequenceClassification\n",
        "model = XLNetForSequenceClassification.from_pretrained('xlnet-base-cased', num_labels = 7)\n",
        "model = model.to(device)"
      ],
      "execution_count": 310,
      "outputs": [
        {
          "output_type": "stream",
          "text": [
            "Some weights of the model checkpoint at xlnet-base-cased were not used when initializing XLNetForSequenceClassification: ['lm_loss.bias', 'lm_loss.weight']\n",
            "- This IS expected if you are initializing XLNetForSequenceClassification from the checkpoint of a model trained on another task or with another architecture (e.g. initializing a BertForSequenceClassification model from a BertForPreTraining model).\n",
            "- This IS NOT expected if you are initializing XLNetForSequenceClassification from the checkpoint of a model that you expect to be exactly identical (initializing a BertForSequenceClassification model from a BertForSequenceClassification model).\n",
            "Some weights of XLNetForSequenceClassification were not initialized from the model checkpoint at xlnet-base-cased and are newly initialized: ['sequence_summary.summary.weight', 'logits_proj.bias', 'sequence_summary.summary.bias', 'logits_proj.weight']\n",
            "You should probably TRAIN this model on a down-stream task to be able to use it for predictions and inference.\n"
          ],
          "name": "stderr"
        }
      ]
    },
    {
      "cell_type": "code",
      "metadata": {
        "id": "ocREwqB-iGAn"
      },
      "source": [
        "EPOCHS = 3\n",
        "\n",
        "param_optimizer = list(model.named_parameters())\n",
        "no_decay = ['bias', 'LayerNorm.bias', 'LayerNorm.weight']\n",
        "optimizer_grouped_parameters = [\n",
        "                                {'params': [p for n, p in param_optimizer if not any(nd in n for nd in no_decay)], 'weight_decay': 0.01},\n",
        "                                {'params': [p for n, p in param_optimizer if any(nd in n for nd in no_decay)], 'weight_decay':0.0}\n",
        "]\n",
        "optimizer = AdamW(optimizer_grouped_parameters, lr=3e-5)\n",
        "\n",
        "total_steps = len(train_data_loader) * EPOCHS\n",
        "\n",
        "scheduler = get_linear_schedule_with_warmup(\n",
        "  optimizer,\n",
        "  num_warmup_steps=0,\n",
        "  num_training_steps=total_steps\n",
        ")"
      ],
      "execution_count": 311,
      "outputs": []
    },
    {
      "cell_type": "code",
      "metadata": {
        "id": "xNf_EFMviJEx",
        "colab": {
          "base_uri": "https://localhost:8080/"
        },
        "outputId": "601cef45-fb5d-45b4-9ac3-1455fca229bc"
      },
      "source": [
        "data = next(iter(val_data_loader))\n",
        "data.keys()"
      ],
      "execution_count": 312,
      "outputs": [
        {
          "output_type": "execute_result",
          "data": {
            "text/plain": [
              "dict_keys(['review_text', 'input_ids', 'attention_mask', 'targets'])"
            ]
          },
          "metadata": {
            "tags": []
          },
          "execution_count": 312
        }
      ]
    },
    {
      "cell_type": "code",
      "metadata": {
        "id": "BlKhGn_MifD-"
      },
      "source": [
        "def train_epoch(model, data_loader, optimizer, device, scheduler, n_examples):\n",
        "    model = model.train()\n",
        "    losses = []\n",
        "    acc = 0\n",
        "    counter = 0\n",
        "  \n",
        "    for d in data_loader:\n",
        "        input_ids = d[\"input_ids\"].reshape(2,512).to(device)\n",
        "        attention_mask = d[\"attention_mask\"].to(device)\n",
        "        targets = d[\"targets\"].to(device)\n",
        "        \n",
        "        outputs = model(input_ids=input_ids, token_type_ids=None, attention_mask=attention_mask, labels = targets)\n",
        "        loss = outputs[0]\n",
        "        logits = outputs[1]\n",
        "\n",
        "        # preds = preds.cpu().detach().numpy()\n",
        "        _, prediction = torch.max(outputs[1], dim=1)\n",
        "        targets = targets.cpu().detach().numpy()\n",
        "        prediction = prediction.cpu().detach().numpy()\n",
        "        accuracy = metrics.accuracy_score(targets, prediction)\n",
        "\n",
        "        acc += accuracy\n",
        "        losses.append(loss.item())\n",
        "        \n",
        "        loss.backward()\n",
        "\n",
        "        nn.utils.clip_grad_norm_(model.parameters(), max_norm=1.0)\n",
        "        optimizer.step()\n",
        "        scheduler.step()\n",
        "        optimizer.zero_grad()\n",
        "        counter = counter + 1\n",
        "\n",
        "    return acc / counter, np.mean(losses)"
      ],
      "execution_count": 313,
      "outputs": []
    },
    {
      "cell_type": "code",
      "metadata": {
        "id": "lZ6qhNeHK4fR"
      },
      "source": [
        "def eval_model(model, data_loader, device, n_examples):\n",
        "    model = model.eval()\n",
        "    losses = []\n",
        "    acc = 0\n",
        "    counter = 0\n",
        "  \n",
        "    with torch.no_grad():\n",
        "        for d in data_loader:\n",
        "            input_ids = d[\"input_ids\"].reshape(2,512).to(device)\n",
        "            attention_mask = d[\"attention_mask\"].to(device)\n",
        "            targets = d[\"targets\"].to(device)\n",
        "            \n",
        "            outputs = model(input_ids=input_ids, token_type_ids=None, attention_mask=attention_mask, labels = targets)\n",
        "            loss = outputs[0]\n",
        "            logits = outputs[1]\n",
        "\n",
        "            _, prediction = torch.max(outputs[1], dim=1)\n",
        "            targets = targets.cpu().detach().numpy()\n",
        "            prediction = prediction.cpu().detach().numpy()\n",
        "            accuracy = metrics.accuracy_score(targets, prediction)\n",
        "\n",
        "            acc += accuracy\n",
        "            losses.append(loss.item())\n",
        "            counter += 1\n",
        "\n",
        "    return acc / counter, np.mean(losses)\n"
      ],
      "execution_count": 314,
      "outputs": []
    },
    {
      "cell_type": "code",
      "metadata": {
        "colab": {
          "base_uri": "https://localhost:8080/"
        },
        "id": "GlMg3GPKLxQT",
        "outputId": "c680f0e5-8ccb-4b6f-8f73-e5b425d7eb1b"
      },
      "source": [
        "%%time\n",
        "history = defaultdict(list)\n",
        "best_accuracy = 0\n",
        "\n",
        "for epoch in range(EPOCHS):\n",
        "    print(f'Epoch {epoch + 1}/{EPOCHS}')\n",
        "    print('-' * 10)\n",
        "\n",
        "    train_acc, train_loss = train_epoch(\n",
        "        model,\n",
        "        train_data_loader,     \n",
        "        optimizer, \n",
        "        device, \n",
        "        scheduler, \n",
        "        len(df_train)\n",
        "    )\n",
        "\n",
        "    print(f'Train loss {train_loss} Train accuracy {train_acc}')\n",
        "\n",
        "    val_acc, val_loss = eval_model(\n",
        "        model,\n",
        "        val_data_loader, \n",
        "        device, \n",
        "        len(df_val)\n",
        "    )\n",
        "\n",
        "    print(f'Val loss {val_loss} Val accuracy {val_acc}')\n",
        "    print()\n",
        "\n",
        "    history['train_acc'].append(train_acc)\n",
        "    history['train_loss'].append(train_loss)\n",
        "    history['val_acc'].append(val_acc)\n",
        "    history['val_loss'].append(val_loss)\n",
        "\n",
        "    if val_acc > best_accuracy:\n",
        "        torch.save(model.state_dict(), '/content/drive/MyDrive/Colab Notebooks/QA/models/xlnet_modelnd.bin')\n",
        "        best_accuracy = val_acc"
      ],
      "execution_count": 315,
      "outputs": [
        {
          "output_type": "stream",
          "text": [
            "Epoch 1/3\n",
            "----------\n",
            "Train loss 1.857129818684346 Train accuracy 0.23552123552123552\n",
            "Val loss 1.461107812821865 Val accuracy 0.4791666666666667\n",
            "\n",
            "Epoch 2/3\n",
            "----------\n",
            "Train loss 1.1754737567717504 Train accuracy 0.5733590733590733\n",
            "Val loss 1.4989269599318504 Val accuracy 0.5208333333333334\n",
            "\n",
            "Epoch 3/3\n",
            "----------\n",
            "Train loss 0.5522305235899553 Train accuracy 0.8185328185328186\n",
            "Val loss 1.6046711926658948 Val accuracy 0.5\n",
            "\n",
            "CPU times: user 2min 49s, sys: 4.59 s, total: 2min 54s\n",
            "Wall time: 2min 50s\n"
          ],
          "name": "stdout"
        }
      ]
    },
    {
      "cell_type": "code",
      "metadata": {
        "colab": {
          "base_uri": "https://localhost:8080/"
        },
        "id": "4yjeP5zUfdst",
        "outputId": "79c2de11-2748-4e90-b6b1-65369728e775"
      },
      "source": [
        "model.load_state_dict(torch.load('/content/drive/MyDrive/Colab Notebooks/QA/models/xlnet_modelnd.bin'))"
      ],
      "execution_count": 316,
      "outputs": [
        {
          "output_type": "execute_result",
          "data": {
            "text/plain": [
              "<All keys matched successfully>"
            ]
          },
          "metadata": {
            "tags": []
          },
          "execution_count": 316
        }
      ]
    },
    {
      "cell_type": "code",
      "metadata": {
        "id": "nUMu7nCRgczP"
      },
      "source": [
        "model = model.to(device)"
      ],
      "execution_count": 317,
      "outputs": []
    },
    {
      "cell_type": "code",
      "metadata": {
        "id": "T3rlA8JhlH0-"
      },
      "source": [
        "def get_predictions(model, data_loader):\n",
        "    model = model.eval()\n",
        "    \n",
        "    review_texts = []\n",
        "    predictions = []\n",
        "    prediction_probs = []\n",
        "    real_values = []\n",
        "\n",
        "    with torch.no_grad():\n",
        "        for d in data_loader:\n",
        "\n",
        "            texts = d[\"review_text\"]\n",
        "            input_ids = d[\"input_ids\"].reshape(2,512).to(device)\n",
        "            attention_mask = d[\"attention_mask\"].to(device)\n",
        "            targets = d[\"targets\"].to(device)\n",
        "            \n",
        "            outputs = model(input_ids=input_ids, token_type_ids=None, attention_mask=attention_mask, labels = targets)\n",
        "\n",
        "            loss = outputs[0]\n",
        "            logits = outputs[1]\n",
        "            \n",
        "            _, preds = torch.max(outputs[1], dim=1)\n",
        "\n",
        "            probs = F.softmax(outputs[1], dim=1)\n",
        "\n",
        "            review_texts.extend(texts)\n",
        "            predictions.extend(preds)\n",
        "            prediction_probs.extend(probs)\n",
        "            real_values.extend(targets)\n",
        "\n",
        "    predictions = torch.stack(predictions).cpu()\n",
        "    prediction_probs = torch.stack(prediction_probs).cpu()\n",
        "    real_values = torch.stack(real_values).cpu()\n",
        "    return review_texts, predictions, prediction_probs, real_values"
      ],
      "execution_count": 318,
      "outputs": []
    },
    {
      "cell_type": "code",
      "metadata": {
        "id": "eQTTnzuDgrHq"
      },
      "source": [
        "y_review_texts, y_pred, y_pred_probs, y_test = get_predictions(\n",
        "  model,\n",
        "  val_data_loader\n",
        ")\n"
      ],
      "execution_count": 319,
      "outputs": []
    },
    {
      "cell_type": "code",
      "metadata": {
        "colab": {
          "base_uri": "https://localhost:8080/"
        },
        "id": "MnTzToucJ393",
        "outputId": "fcafce45-5a6c-4391-b324-90382484afac"
      },
      "source": [
        "print(classification_report(y_test, y_pred, target_names=class_names))"
      ],
      "execution_count": 320,
      "outputs": [
        {
          "output_type": "stream",
          "text": [
            "                                                 precision    recall  f1-score   support\n",
            "\n",
            "         Dependencies between design parameters       1.00      0.40      0.57         5\n",
            "     Effects of design parameters on objectives       0.38      0.50      0.43        10\n",
            "         Exploration of design parameter values       0.50      0.25      0.33         8\n",
            "                    Monitoring objective values       0.50      0.29      0.36         7\n",
            "                                            NAN       0.80      0.80      0.80        10\n",
            "Selected design parameter values for objectives       0.44      1.00      0.62         4\n",
            "                    Tradeoff between objectives       0.33      0.50      0.40         4\n",
            "\n",
            "                                       accuracy                           0.52        48\n",
            "                                      macro avg       0.57      0.53      0.50        48\n",
            "                                   weighted avg       0.57      0.52      0.51        48\n",
            "\n"
          ],
          "name": "stdout"
        }
      ]
    },
    {
      "cell_type": "code",
      "metadata": {
        "id": "f0ixHAGkKdbf"
      },
      "source": [
        "def predict_sentiment(text):\n",
        "    review_text = text\n",
        "\n",
        "    encoded_review = tokenizer.encode_plus(\n",
        "    review_text,\n",
        "    max_length=MAX_LEN,\n",
        "    add_special_tokens=True,\n",
        "    return_token_type_ids=False,\n",
        "    pad_to_max_length=False,\n",
        "    return_attention_mask=True,\n",
        "    return_tensors='pt',\n",
        "    )\n",
        "\n",
        "    input_ids = pad_sequences(encoded_review['input_ids'], maxlen=MAX_LEN, dtype=torch.Tensor ,truncating=\"post\",padding=\"post\")\n",
        "    input_ids = input_ids.astype(dtype = 'int64')\n",
        "    input_ids = torch.tensor(input_ids) \n",
        "\n",
        "    attention_mask = pad_sequences(encoded_review['attention_mask'], maxlen=MAX_LEN, dtype=torch.Tensor ,truncating=\"post\",padding=\"post\")\n",
        "    attention_mask = attention_mask.astype(dtype = 'int64')\n",
        "    attention_mask = torch.tensor(attention_mask) \n",
        "\n",
        "    input_ids = input_ids.reshape(1,512).to(device)\n",
        "    attention_mask = attention_mask.to(device)\n",
        "\n",
        "    outputs = model(input_ids=input_ids, attention_mask=attention_mask)\n",
        "    outputs = outputs[0][0].cpu().detach()\n",
        "    print(outputs)\n",
        "\n",
        "    probs = F.softmax(outputs, dim=-1).cpu().detach().numpy().tolist()\n",
        "    _, prediction = torch.max(outputs, dim =-1)\n",
        "    \n",
        "   \n",
        "    print(\"-----------------------------------------\")\n",
        "    print(f'Message : {review_text}')\n",
        "    print(\"-----------------------------------------\")\n",
        "    print(f'Intent  : {class_names[prediction]}')"
      ],
      "execution_count": 321,
      "outputs": []
    },
    {
      "cell_type": "code",
      "metadata": {
        "colab": {
          "base_uri": "https://localhost:8080/"
        },
        "id": "VWVRYI3FL0XL",
        "outputId": "37f46224-dd99-439b-a686-dd428a085e87"
      },
      "source": [
        "text = \"mass reduced as i decreased crankshaft dia\"\n",
        "predict_sentiment(text)"
      ],
      "execution_count": 322,
      "outputs": [
        {
          "output_type": "stream",
          "text": [
            "tensor([-1.1871,  2.1511,  0.4174, -1.1800, -1.9147, -0.3610, -0.8977])\n",
            "-----------------------------------------\n",
            "Message : mass reduced as i decreased crankshaft dia\n",
            "-----------------------------------------\n",
            "Intent  : Effects of design parameters on objectives\n"
          ],
          "name": "stdout"
        }
      ]
    },
    {
      "cell_type": "code",
      "metadata": {
        "colab": {
          "base_uri": "https://localhost:8080/"
        },
        "id": "aQWukiVWL9wV",
        "outputId": "79270457-2a5c-4058-8536-8e3f3765be10"
      },
      "source": [
        "text = \"my ratio depnds on your crankshaft dia\"\n",
        "predict_sentiment(text)"
      ],
      "execution_count": 323,
      "outputs": [
        {
          "output_type": "stream",
          "text": [
            "tensor([ 3.3407, -0.7928,  1.3910, -0.6315, -1.1629, -1.0440, -2.3683])\n",
            "-----------------------------------------\n",
            "Message : my ratio depnds on your crankshaft dia\n",
            "-----------------------------------------\n",
            "Intent  : Dependencies between design parameters\n"
          ],
          "name": "stdout"
        }
      ]
    },
    {
      "cell_type": "code",
      "metadata": {
        "colab": {
          "base_uri": "https://localhost:8080/"
        },
        "id": "bBWEtzLSNOjD",
        "outputId": "a8c88778-1b20-424e-838d-26726760e4f6"
      },
      "source": [
        "text = \" i will reduce mass by trimming shaft  \"\n",
        "predict_sentiment(text)"
      ],
      "execution_count": 324,
      "outputs": [
        {
          "output_type": "stream",
          "text": [
            "tensor([ 1.4172,  0.6941,  1.5643, -1.4569, -1.9062, -1.4637,  0.0152])\n",
            "-----------------------------------------\n",
            "Message :  i will reduce mass by trimming shaft  \n",
            "-----------------------------------------\n",
            "Intent  : Exploration of design parameter values\n"
          ],
          "name": "stdout"
        }
      ]
    },
    {
      "cell_type": "code",
      "metadata": {
        "colab": {
          "base_uri": "https://localhost:8080/"
        },
        "id": "XXuTCK_kNECg",
        "outputId": "466318f3-3f98-488a-d0ec-8a985210a823"
      },
      "source": [
        "text = \"flywheel says they have an FOS of 3286 apparently?\"\n",
        "predict_sentiment(text)"
      ],
      "execution_count": 325,
      "outputs": [
        {
          "output_type": "stream",
          "text": [
            "tensor([-1.7845,  0.5071,  0.6993,  1.3991, -1.6626,  2.3076, -2.5310])\n",
            "-----------------------------------------\n",
            "Message : flywheel says they have an FOS of 3286 apparently?\n",
            "-----------------------------------------\n",
            "Intent  : Selected design parameter values for objectives\n"
          ],
          "name": "stdout"
        }
      ]
    },
    {
      "cell_type": "code",
      "metadata": {
        "colab": {
          "base_uri": "https://localhost:8080/"
        },
        "id": "YxzshbJ4B6Nz",
        "outputId": "ba8c5250-6a3e-4db0-af0f-77e722aff35b"
      },
      "source": [
        "text = \"i will try increasing diameter value of shaft\"\n",
        "predict_sentiment(text)"
      ],
      "execution_count": 326,
      "outputs": [
        {
          "output_type": "stream",
          "text": [
            "tensor([ 1.4674,  0.7287,  1.0149, -1.1521, -2.2769, -0.2232, -0.0482])\n",
            "-----------------------------------------\n",
            "Message : i will try increasing diameter value of shaft\n",
            "-----------------------------------------\n",
            "Intent  : Dependencies between design parameters\n"
          ],
          "name": "stdout"
        }
      ]
    },
    {
      "cell_type": "code",
      "metadata": {
        "colab": {
          "base_uri": "https://localhost:8080/"
        },
        "id": "YVLv-F_pLUSf",
        "outputId": "7171eadf-3d5c-4c86-fd58-a57ebadc9fef"
      },
      "source": [
        "text = \"Keep 70 mm I'm trying to get out of the poor region\"\n",
        "predict_sentiment(text)"
      ],
      "execution_count": 327,
      "outputs": [
        {
          "output_type": "stream",
          "text": [
            "tensor([-1.5322,  1.7773,  1.9779, -1.3671, -0.8879, -0.4932, -0.3421])\n",
            "-----------------------------------------\n",
            "Message : Keep 70 mm I'm trying to get out of the poor region\n",
            "-----------------------------------------\n",
            "Intent  : Exploration of design parameter values\n"
          ],
          "name": "stdout"
        }
      ]
    }
  ]
}