{
  "nbformat": 4,
  "nbformat_minor": 0,
  "metadata": {
    "colab": {
      "name": "Data_Augmentation_Methods.ipynb",
      "provenance": [],
      "collapsed_sections": []
    },
    "kernelspec": {
      "name": "python3",
      "display_name": "Python 3"
    },
    "language_info": {
      "name": "python"
    },
    "widgets": {
      "application/vnd.jupyter.widget-state+json": {
        "bfbcb8768ec14f43b8a035c30865bde8": {
          "model_module": "@jupyter-widgets/controls",
          "model_name": "HBoxModel",
          "state": {
            "_view_name": "HBoxView",
            "_dom_classes": [],
            "_model_name": "HBoxModel",
            "_view_module": "@jupyter-widgets/controls",
            "_model_module_version": "1.5.0",
            "_view_count": null,
            "_view_module_version": "1.5.0",
            "box_style": "",
            "layout": "IPY_MODEL_c00775bf2e3f4a61831946cc5681a0c2",
            "_model_module": "@jupyter-widgets/controls",
            "children": [
              "IPY_MODEL_cc5fa8ca55714f838209d5827679cb8d",
              "IPY_MODEL_04447e905598491f8c52d330e4ab4da3"
            ]
          }
        },
        "c00775bf2e3f4a61831946cc5681a0c2": {
          "model_module": "@jupyter-widgets/base",
          "model_name": "LayoutModel",
          "state": {
            "_view_name": "LayoutView",
            "grid_template_rows": null,
            "right": null,
            "justify_content": null,
            "_view_module": "@jupyter-widgets/base",
            "overflow": null,
            "_model_module_version": "1.2.0",
            "_view_count": null,
            "flex_flow": null,
            "width": null,
            "min_width": null,
            "border": null,
            "align_items": null,
            "bottom": null,
            "_model_module": "@jupyter-widgets/base",
            "top": null,
            "grid_column": null,
            "overflow_y": null,
            "overflow_x": null,
            "grid_auto_flow": null,
            "grid_area": null,
            "grid_template_columns": null,
            "flex": null,
            "_model_name": "LayoutModel",
            "justify_items": null,
            "grid_row": null,
            "max_height": null,
            "align_content": null,
            "visibility": null,
            "align_self": null,
            "height": null,
            "min_height": null,
            "padding": null,
            "grid_auto_rows": null,
            "grid_gap": null,
            "max_width": null,
            "order": null,
            "_view_module_version": "1.2.0",
            "grid_template_areas": null,
            "object_position": null,
            "object_fit": null,
            "grid_auto_columns": null,
            "margin": null,
            "display": null,
            "left": null
          }
        },
        "cc5fa8ca55714f838209d5827679cb8d": {
          "model_module": "@jupyter-widgets/controls",
          "model_name": "FloatProgressModel",
          "state": {
            "_view_name": "ProgressView",
            "style": "IPY_MODEL_d6acbc0c4ed34ca29c48ef02938ac498",
            "_dom_classes": [],
            "description": "Downloading: 100%",
            "_model_name": "FloatProgressModel",
            "bar_style": "success",
            "max": 570,
            "_view_module": "@jupyter-widgets/controls",
            "_model_module_version": "1.5.0",
            "value": 570,
            "_view_count": null,
            "_view_module_version": "1.5.0",
            "orientation": "horizontal",
            "min": 0,
            "description_tooltip": null,
            "_model_module": "@jupyter-widgets/controls",
            "layout": "IPY_MODEL_587d4ac9030449eb8f33130a93ebf116"
          }
        },
        "04447e905598491f8c52d330e4ab4da3": {
          "model_module": "@jupyter-widgets/controls",
          "model_name": "HTMLModel",
          "state": {
            "_view_name": "HTMLView",
            "style": "IPY_MODEL_1132307752a44898bd2da429f2e61c75",
            "_dom_classes": [],
            "description": "",
            "_model_name": "HTMLModel",
            "placeholder": "​",
            "_view_module": "@jupyter-widgets/controls",
            "_model_module_version": "1.5.0",
            "value": " 570/570 [00:00&lt;00:00, 2.29kB/s]",
            "_view_count": null,
            "_view_module_version": "1.5.0",
            "description_tooltip": null,
            "_model_module": "@jupyter-widgets/controls",
            "layout": "IPY_MODEL_9831012953c04364bf18dda56ff65df4"
          }
        },
        "d6acbc0c4ed34ca29c48ef02938ac498": {
          "model_module": "@jupyter-widgets/controls",
          "model_name": "ProgressStyleModel",
          "state": {
            "_view_name": "StyleView",
            "_model_name": "ProgressStyleModel",
            "description_width": "initial",
            "_view_module": "@jupyter-widgets/base",
            "_model_module_version": "1.5.0",
            "_view_count": null,
            "_view_module_version": "1.2.0",
            "bar_color": null,
            "_model_module": "@jupyter-widgets/controls"
          }
        },
        "587d4ac9030449eb8f33130a93ebf116": {
          "model_module": "@jupyter-widgets/base",
          "model_name": "LayoutModel",
          "state": {
            "_view_name": "LayoutView",
            "grid_template_rows": null,
            "right": null,
            "justify_content": null,
            "_view_module": "@jupyter-widgets/base",
            "overflow": null,
            "_model_module_version": "1.2.0",
            "_view_count": null,
            "flex_flow": null,
            "width": null,
            "min_width": null,
            "border": null,
            "align_items": null,
            "bottom": null,
            "_model_module": "@jupyter-widgets/base",
            "top": null,
            "grid_column": null,
            "overflow_y": null,
            "overflow_x": null,
            "grid_auto_flow": null,
            "grid_area": null,
            "grid_template_columns": null,
            "flex": null,
            "_model_name": "LayoutModel",
            "justify_items": null,
            "grid_row": null,
            "max_height": null,
            "align_content": null,
            "visibility": null,
            "align_self": null,
            "height": null,
            "min_height": null,
            "padding": null,
            "grid_auto_rows": null,
            "grid_gap": null,
            "max_width": null,
            "order": null,
            "_view_module_version": "1.2.0",
            "grid_template_areas": null,
            "object_position": null,
            "object_fit": null,
            "grid_auto_columns": null,
            "margin": null,
            "display": null,
            "left": null
          }
        },
        "1132307752a44898bd2da429f2e61c75": {
          "model_module": "@jupyter-widgets/controls",
          "model_name": "DescriptionStyleModel",
          "state": {
            "_view_name": "StyleView",
            "_model_name": "DescriptionStyleModel",
            "description_width": "",
            "_view_module": "@jupyter-widgets/base",
            "_model_module_version": "1.5.0",
            "_view_count": null,
            "_view_module_version": "1.2.0",
            "_model_module": "@jupyter-widgets/controls"
          }
        },
        "9831012953c04364bf18dda56ff65df4": {
          "model_module": "@jupyter-widgets/base",
          "model_name": "LayoutModel",
          "state": {
            "_view_name": "LayoutView",
            "grid_template_rows": null,
            "right": null,
            "justify_content": null,
            "_view_module": "@jupyter-widgets/base",
            "overflow": null,
            "_model_module_version": "1.2.0",
            "_view_count": null,
            "flex_flow": null,
            "width": null,
            "min_width": null,
            "border": null,
            "align_items": null,
            "bottom": null,
            "_model_module": "@jupyter-widgets/base",
            "top": null,
            "grid_column": null,
            "overflow_y": null,
            "overflow_x": null,
            "grid_auto_flow": null,
            "grid_area": null,
            "grid_template_columns": null,
            "flex": null,
            "_model_name": "LayoutModel",
            "justify_items": null,
            "grid_row": null,
            "max_height": null,
            "align_content": null,
            "visibility": null,
            "align_self": null,
            "height": null,
            "min_height": null,
            "padding": null,
            "grid_auto_rows": null,
            "grid_gap": null,
            "max_width": null,
            "order": null,
            "_view_module_version": "1.2.0",
            "grid_template_areas": null,
            "object_position": null,
            "object_fit": null,
            "grid_auto_columns": null,
            "margin": null,
            "display": null,
            "left": null
          }
        },
        "5c7f4e39d758434db8b69c47acf1a874": {
          "model_module": "@jupyter-widgets/controls",
          "model_name": "HBoxModel",
          "state": {
            "_view_name": "HBoxView",
            "_dom_classes": [],
            "_model_name": "HBoxModel",
            "_view_module": "@jupyter-widgets/controls",
            "_model_module_version": "1.5.0",
            "_view_count": null,
            "_view_module_version": "1.5.0",
            "box_style": "",
            "layout": "IPY_MODEL_17d81cc0beef45a8bb1336b81046ab4d",
            "_model_module": "@jupyter-widgets/controls",
            "children": [
              "IPY_MODEL_92d2fa3a5c084cc6b45bd7ceba0ea322",
              "IPY_MODEL_8ed445abc75c412da0b61a07e02ea856"
            ]
          }
        },
        "17d81cc0beef45a8bb1336b81046ab4d": {
          "model_module": "@jupyter-widgets/base",
          "model_name": "LayoutModel",
          "state": {
            "_view_name": "LayoutView",
            "grid_template_rows": null,
            "right": null,
            "justify_content": null,
            "_view_module": "@jupyter-widgets/base",
            "overflow": null,
            "_model_module_version": "1.2.0",
            "_view_count": null,
            "flex_flow": null,
            "width": null,
            "min_width": null,
            "border": null,
            "align_items": null,
            "bottom": null,
            "_model_module": "@jupyter-widgets/base",
            "top": null,
            "grid_column": null,
            "overflow_y": null,
            "overflow_x": null,
            "grid_auto_flow": null,
            "grid_area": null,
            "grid_template_columns": null,
            "flex": null,
            "_model_name": "LayoutModel",
            "justify_items": null,
            "grid_row": null,
            "max_height": null,
            "align_content": null,
            "visibility": null,
            "align_self": null,
            "height": null,
            "min_height": null,
            "padding": null,
            "grid_auto_rows": null,
            "grid_gap": null,
            "max_width": null,
            "order": null,
            "_view_module_version": "1.2.0",
            "grid_template_areas": null,
            "object_position": null,
            "object_fit": null,
            "grid_auto_columns": null,
            "margin": null,
            "display": null,
            "left": null
          }
        },
        "92d2fa3a5c084cc6b45bd7ceba0ea322": {
          "model_module": "@jupyter-widgets/controls",
          "model_name": "FloatProgressModel",
          "state": {
            "_view_name": "ProgressView",
            "style": "IPY_MODEL_62c11f6e9d4d468595f656cd5bd844fb",
            "_dom_classes": [],
            "description": "Downloading: 100%",
            "_model_name": "FloatProgressModel",
            "bar_style": "success",
            "max": 231508,
            "_view_module": "@jupyter-widgets/controls",
            "_model_module_version": "1.5.0",
            "value": 231508,
            "_view_count": null,
            "_view_module_version": "1.5.0",
            "orientation": "horizontal",
            "min": 0,
            "description_tooltip": null,
            "_model_module": "@jupyter-widgets/controls",
            "layout": "IPY_MODEL_2b9ab96855604028a415baeffbd405c7"
          }
        },
        "8ed445abc75c412da0b61a07e02ea856": {
          "model_module": "@jupyter-widgets/controls",
          "model_name": "HTMLModel",
          "state": {
            "_view_name": "HTMLView",
            "style": "IPY_MODEL_0c8dda0ff3724f0e9bce0b5b2c925131",
            "_dom_classes": [],
            "description": "",
            "_model_name": "HTMLModel",
            "placeholder": "​",
            "_view_module": "@jupyter-widgets/controls",
            "_model_module_version": "1.5.0",
            "value": " 232k/232k [00:02&lt;00:00, 113kB/s]",
            "_view_count": null,
            "_view_module_version": "1.5.0",
            "description_tooltip": null,
            "_model_module": "@jupyter-widgets/controls",
            "layout": "IPY_MODEL_6c9342c3863c460d9b02b85dfd78af9d"
          }
        },
        "62c11f6e9d4d468595f656cd5bd844fb": {
          "model_module": "@jupyter-widgets/controls",
          "model_name": "ProgressStyleModel",
          "state": {
            "_view_name": "StyleView",
            "_model_name": "ProgressStyleModel",
            "description_width": "initial",
            "_view_module": "@jupyter-widgets/base",
            "_model_module_version": "1.5.0",
            "_view_count": null,
            "_view_module_version": "1.2.0",
            "bar_color": null,
            "_model_module": "@jupyter-widgets/controls"
          }
        },
        "2b9ab96855604028a415baeffbd405c7": {
          "model_module": "@jupyter-widgets/base",
          "model_name": "LayoutModel",
          "state": {
            "_view_name": "LayoutView",
            "grid_template_rows": null,
            "right": null,
            "justify_content": null,
            "_view_module": "@jupyter-widgets/base",
            "overflow": null,
            "_model_module_version": "1.2.0",
            "_view_count": null,
            "flex_flow": null,
            "width": null,
            "min_width": null,
            "border": null,
            "align_items": null,
            "bottom": null,
            "_model_module": "@jupyter-widgets/base",
            "top": null,
            "grid_column": null,
            "overflow_y": null,
            "overflow_x": null,
            "grid_auto_flow": null,
            "grid_area": null,
            "grid_template_columns": null,
            "flex": null,
            "_model_name": "LayoutModel",
            "justify_items": null,
            "grid_row": null,
            "max_height": null,
            "align_content": null,
            "visibility": null,
            "align_self": null,
            "height": null,
            "min_height": null,
            "padding": null,
            "grid_auto_rows": null,
            "grid_gap": null,
            "max_width": null,
            "order": null,
            "_view_module_version": "1.2.0",
            "grid_template_areas": null,
            "object_position": null,
            "object_fit": null,
            "grid_auto_columns": null,
            "margin": null,
            "display": null,
            "left": null
          }
        },
        "0c8dda0ff3724f0e9bce0b5b2c925131": {
          "model_module": "@jupyter-widgets/controls",
          "model_name": "DescriptionStyleModel",
          "state": {
            "_view_name": "StyleView",
            "_model_name": "DescriptionStyleModel",
            "description_width": "",
            "_view_module": "@jupyter-widgets/base",
            "_model_module_version": "1.5.0",
            "_view_count": null,
            "_view_module_version": "1.2.0",
            "_model_module": "@jupyter-widgets/controls"
          }
        },
        "6c9342c3863c460d9b02b85dfd78af9d": {
          "model_module": "@jupyter-widgets/base",
          "model_name": "LayoutModel",
          "state": {
            "_view_name": "LayoutView",
            "grid_template_rows": null,
            "right": null,
            "justify_content": null,
            "_view_module": "@jupyter-widgets/base",
            "overflow": null,
            "_model_module_version": "1.2.0",
            "_view_count": null,
            "flex_flow": null,
            "width": null,
            "min_width": null,
            "border": null,
            "align_items": null,
            "bottom": null,
            "_model_module": "@jupyter-widgets/base",
            "top": null,
            "grid_column": null,
            "overflow_y": null,
            "overflow_x": null,
            "grid_auto_flow": null,
            "grid_area": null,
            "grid_template_columns": null,
            "flex": null,
            "_model_name": "LayoutModel",
            "justify_items": null,
            "grid_row": null,
            "max_height": null,
            "align_content": null,
            "visibility": null,
            "align_self": null,
            "height": null,
            "min_height": null,
            "padding": null,
            "grid_auto_rows": null,
            "grid_gap": null,
            "max_width": null,
            "order": null,
            "_view_module_version": "1.2.0",
            "grid_template_areas": null,
            "object_position": null,
            "object_fit": null,
            "grid_auto_columns": null,
            "margin": null,
            "display": null,
            "left": null
          }
        },
        "35820644b5084789b3628f7bcd7aac8e": {
          "model_module": "@jupyter-widgets/controls",
          "model_name": "HBoxModel",
          "state": {
            "_view_name": "HBoxView",
            "_dom_classes": [],
            "_model_name": "HBoxModel",
            "_view_module": "@jupyter-widgets/controls",
            "_model_module_version": "1.5.0",
            "_view_count": null,
            "_view_module_version": "1.5.0",
            "box_style": "",
            "layout": "IPY_MODEL_7c02e21d0f984f4a8868a47834511945",
            "_model_module": "@jupyter-widgets/controls",
            "children": [
              "IPY_MODEL_ec469c5f9f1d45aebd08deb3cd5fa4e8",
              "IPY_MODEL_9023220c788142e7b414618ca11d0e4b"
            ]
          }
        },
        "7c02e21d0f984f4a8868a47834511945": {
          "model_module": "@jupyter-widgets/base",
          "model_name": "LayoutModel",
          "state": {
            "_view_name": "LayoutView",
            "grid_template_rows": null,
            "right": null,
            "justify_content": null,
            "_view_module": "@jupyter-widgets/base",
            "overflow": null,
            "_model_module_version": "1.2.0",
            "_view_count": null,
            "flex_flow": null,
            "width": null,
            "min_width": null,
            "border": null,
            "align_items": null,
            "bottom": null,
            "_model_module": "@jupyter-widgets/base",
            "top": null,
            "grid_column": null,
            "overflow_y": null,
            "overflow_x": null,
            "grid_auto_flow": null,
            "grid_area": null,
            "grid_template_columns": null,
            "flex": null,
            "_model_name": "LayoutModel",
            "justify_items": null,
            "grid_row": null,
            "max_height": null,
            "align_content": null,
            "visibility": null,
            "align_self": null,
            "height": null,
            "min_height": null,
            "padding": null,
            "grid_auto_rows": null,
            "grid_gap": null,
            "max_width": null,
            "order": null,
            "_view_module_version": "1.2.0",
            "grid_template_areas": null,
            "object_position": null,
            "object_fit": null,
            "grid_auto_columns": null,
            "margin": null,
            "display": null,
            "left": null
          }
        },
        "ec469c5f9f1d45aebd08deb3cd5fa4e8": {
          "model_module": "@jupyter-widgets/controls",
          "model_name": "FloatProgressModel",
          "state": {
            "_view_name": "ProgressView",
            "style": "IPY_MODEL_3e70487f522448d3a2993afbb17b1950",
            "_dom_classes": [],
            "description": "Downloading: 100%",
            "_model_name": "FloatProgressModel",
            "bar_style": "success",
            "max": 466062,
            "_view_module": "@jupyter-widgets/controls",
            "_model_module_version": "1.5.0",
            "value": 466062,
            "_view_count": null,
            "_view_module_version": "1.5.0",
            "orientation": "horizontal",
            "min": 0,
            "description_tooltip": null,
            "_model_module": "@jupyter-widgets/controls",
            "layout": "IPY_MODEL_6ef2fbc2c0bd42f0aaf79c9a8602b944"
          }
        },
        "9023220c788142e7b414618ca11d0e4b": {
          "model_module": "@jupyter-widgets/controls",
          "model_name": "HTMLModel",
          "state": {
            "_view_name": "HTMLView",
            "style": "IPY_MODEL_6e91b3b7cad54a20adb557af9da883c0",
            "_dom_classes": [],
            "description": "",
            "_model_name": "HTMLModel",
            "placeholder": "​",
            "_view_module": "@jupyter-widgets/controls",
            "_model_module_version": "1.5.0",
            "value": " 466k/466k [00:01&lt;00:00, 393kB/s]",
            "_view_count": null,
            "_view_module_version": "1.5.0",
            "description_tooltip": null,
            "_model_module": "@jupyter-widgets/controls",
            "layout": "IPY_MODEL_1e7ee23751b3473d87ae6d11a65c0d71"
          }
        },
        "3e70487f522448d3a2993afbb17b1950": {
          "model_module": "@jupyter-widgets/controls",
          "model_name": "ProgressStyleModel",
          "state": {
            "_view_name": "StyleView",
            "_model_name": "ProgressStyleModel",
            "description_width": "initial",
            "_view_module": "@jupyter-widgets/base",
            "_model_module_version": "1.5.0",
            "_view_count": null,
            "_view_module_version": "1.2.0",
            "bar_color": null,
            "_model_module": "@jupyter-widgets/controls"
          }
        },
        "6ef2fbc2c0bd42f0aaf79c9a8602b944": {
          "model_module": "@jupyter-widgets/base",
          "model_name": "LayoutModel",
          "state": {
            "_view_name": "LayoutView",
            "grid_template_rows": null,
            "right": null,
            "justify_content": null,
            "_view_module": "@jupyter-widgets/base",
            "overflow": null,
            "_model_module_version": "1.2.0",
            "_view_count": null,
            "flex_flow": null,
            "width": null,
            "min_width": null,
            "border": null,
            "align_items": null,
            "bottom": null,
            "_model_module": "@jupyter-widgets/base",
            "top": null,
            "grid_column": null,
            "overflow_y": null,
            "overflow_x": null,
            "grid_auto_flow": null,
            "grid_area": null,
            "grid_template_columns": null,
            "flex": null,
            "_model_name": "LayoutModel",
            "justify_items": null,
            "grid_row": null,
            "max_height": null,
            "align_content": null,
            "visibility": null,
            "align_self": null,
            "height": null,
            "min_height": null,
            "padding": null,
            "grid_auto_rows": null,
            "grid_gap": null,
            "max_width": null,
            "order": null,
            "_view_module_version": "1.2.0",
            "grid_template_areas": null,
            "object_position": null,
            "object_fit": null,
            "grid_auto_columns": null,
            "margin": null,
            "display": null,
            "left": null
          }
        },
        "6e91b3b7cad54a20adb557af9da883c0": {
          "model_module": "@jupyter-widgets/controls",
          "model_name": "DescriptionStyleModel",
          "state": {
            "_view_name": "StyleView",
            "_model_name": "DescriptionStyleModel",
            "description_width": "",
            "_view_module": "@jupyter-widgets/base",
            "_model_module_version": "1.5.0",
            "_view_count": null,
            "_view_module_version": "1.2.0",
            "_model_module": "@jupyter-widgets/controls"
          }
        },
        "1e7ee23751b3473d87ae6d11a65c0d71": {
          "model_module": "@jupyter-widgets/base",
          "model_name": "LayoutModel",
          "state": {
            "_view_name": "LayoutView",
            "grid_template_rows": null,
            "right": null,
            "justify_content": null,
            "_view_module": "@jupyter-widgets/base",
            "overflow": null,
            "_model_module_version": "1.2.0",
            "_view_count": null,
            "flex_flow": null,
            "width": null,
            "min_width": null,
            "border": null,
            "align_items": null,
            "bottom": null,
            "_model_module": "@jupyter-widgets/base",
            "top": null,
            "grid_column": null,
            "overflow_y": null,
            "overflow_x": null,
            "grid_auto_flow": null,
            "grid_area": null,
            "grid_template_columns": null,
            "flex": null,
            "_model_name": "LayoutModel",
            "justify_items": null,
            "grid_row": null,
            "max_height": null,
            "align_content": null,
            "visibility": null,
            "align_self": null,
            "height": null,
            "min_height": null,
            "padding": null,
            "grid_auto_rows": null,
            "grid_gap": null,
            "max_width": null,
            "order": null,
            "_view_module_version": "1.2.0",
            "grid_template_areas": null,
            "object_position": null,
            "object_fit": null,
            "grid_auto_columns": null,
            "margin": null,
            "display": null,
            "left": null
          }
        },
        "3bd94bfa108d4180ae1bda01c38c7171": {
          "model_module": "@jupyter-widgets/controls",
          "model_name": "HBoxModel",
          "state": {
            "_view_name": "HBoxView",
            "_dom_classes": [],
            "_model_name": "HBoxModel",
            "_view_module": "@jupyter-widgets/controls",
            "_model_module_version": "1.5.0",
            "_view_count": null,
            "_view_module_version": "1.5.0",
            "box_style": "",
            "layout": "IPY_MODEL_3f627e01985449a7b8c33ba1c5adc6bd",
            "_model_module": "@jupyter-widgets/controls",
            "children": [
              "IPY_MODEL_74d1526b124141df881e77e49017c7ed",
              "IPY_MODEL_81a70f272bce41db92499f57c08d3c42"
            ]
          }
        },
        "3f627e01985449a7b8c33ba1c5adc6bd": {
          "model_module": "@jupyter-widgets/base",
          "model_name": "LayoutModel",
          "state": {
            "_view_name": "LayoutView",
            "grid_template_rows": null,
            "right": null,
            "justify_content": null,
            "_view_module": "@jupyter-widgets/base",
            "overflow": null,
            "_model_module_version": "1.2.0",
            "_view_count": null,
            "flex_flow": null,
            "width": null,
            "min_width": null,
            "border": null,
            "align_items": null,
            "bottom": null,
            "_model_module": "@jupyter-widgets/base",
            "top": null,
            "grid_column": null,
            "overflow_y": null,
            "overflow_x": null,
            "grid_auto_flow": null,
            "grid_area": null,
            "grid_template_columns": null,
            "flex": null,
            "_model_name": "LayoutModel",
            "justify_items": null,
            "grid_row": null,
            "max_height": null,
            "align_content": null,
            "visibility": null,
            "align_self": null,
            "height": null,
            "min_height": null,
            "padding": null,
            "grid_auto_rows": null,
            "grid_gap": null,
            "max_width": null,
            "order": null,
            "_view_module_version": "1.2.0",
            "grid_template_areas": null,
            "object_position": null,
            "object_fit": null,
            "grid_auto_columns": null,
            "margin": null,
            "display": null,
            "left": null
          }
        },
        "74d1526b124141df881e77e49017c7ed": {
          "model_module": "@jupyter-widgets/controls",
          "model_name": "FloatProgressModel",
          "state": {
            "_view_name": "ProgressView",
            "style": "IPY_MODEL_7e0059789843414da0f8c43f6176cb8d",
            "_dom_classes": [],
            "description": "Downloading: 100%",
            "_model_name": "FloatProgressModel",
            "bar_style": "success",
            "max": 28,
            "_view_module": "@jupyter-widgets/controls",
            "_model_module_version": "1.5.0",
            "value": 28,
            "_view_count": null,
            "_view_module_version": "1.5.0",
            "orientation": "horizontal",
            "min": 0,
            "description_tooltip": null,
            "_model_module": "@jupyter-widgets/controls",
            "layout": "IPY_MODEL_b9561d60d00a46c9b1096c716df89d02"
          }
        },
        "81a70f272bce41db92499f57c08d3c42": {
          "model_module": "@jupyter-widgets/controls",
          "model_name": "HTMLModel",
          "state": {
            "_view_name": "HTMLView",
            "style": "IPY_MODEL_de10ae96c7a2439387a51a0e0e120eca",
            "_dom_classes": [],
            "description": "",
            "_model_name": "HTMLModel",
            "placeholder": "​",
            "_view_module": "@jupyter-widgets/controls",
            "_model_module_version": "1.5.0",
            "value": " 28.0/28.0 [00:14&lt;00:00, 1.90B/s]",
            "_view_count": null,
            "_view_module_version": "1.5.0",
            "description_tooltip": null,
            "_model_module": "@jupyter-widgets/controls",
            "layout": "IPY_MODEL_099c37d77d5342878e5da80667df6f22"
          }
        },
        "7e0059789843414da0f8c43f6176cb8d": {
          "model_module": "@jupyter-widgets/controls",
          "model_name": "ProgressStyleModel",
          "state": {
            "_view_name": "StyleView",
            "_model_name": "ProgressStyleModel",
            "description_width": "initial",
            "_view_module": "@jupyter-widgets/base",
            "_model_module_version": "1.5.0",
            "_view_count": null,
            "_view_module_version": "1.2.0",
            "bar_color": null,
            "_model_module": "@jupyter-widgets/controls"
          }
        },
        "b9561d60d00a46c9b1096c716df89d02": {
          "model_module": "@jupyter-widgets/base",
          "model_name": "LayoutModel",
          "state": {
            "_view_name": "LayoutView",
            "grid_template_rows": null,
            "right": null,
            "justify_content": null,
            "_view_module": "@jupyter-widgets/base",
            "overflow": null,
            "_model_module_version": "1.2.0",
            "_view_count": null,
            "flex_flow": null,
            "width": null,
            "min_width": null,
            "border": null,
            "align_items": null,
            "bottom": null,
            "_model_module": "@jupyter-widgets/base",
            "top": null,
            "grid_column": null,
            "overflow_y": null,
            "overflow_x": null,
            "grid_auto_flow": null,
            "grid_area": null,
            "grid_template_columns": null,
            "flex": null,
            "_model_name": "LayoutModel",
            "justify_items": null,
            "grid_row": null,
            "max_height": null,
            "align_content": null,
            "visibility": null,
            "align_self": null,
            "height": null,
            "min_height": null,
            "padding": null,
            "grid_auto_rows": null,
            "grid_gap": null,
            "max_width": null,
            "order": null,
            "_view_module_version": "1.2.0",
            "grid_template_areas": null,
            "object_position": null,
            "object_fit": null,
            "grid_auto_columns": null,
            "margin": null,
            "display": null,
            "left": null
          }
        },
        "de10ae96c7a2439387a51a0e0e120eca": {
          "model_module": "@jupyter-widgets/controls",
          "model_name": "DescriptionStyleModel",
          "state": {
            "_view_name": "StyleView",
            "_model_name": "DescriptionStyleModel",
            "description_width": "",
            "_view_module": "@jupyter-widgets/base",
            "_model_module_version": "1.5.0",
            "_view_count": null,
            "_view_module_version": "1.2.0",
            "_model_module": "@jupyter-widgets/controls"
          }
        },
        "099c37d77d5342878e5da80667df6f22": {
          "model_module": "@jupyter-widgets/base",
          "model_name": "LayoutModel",
          "state": {
            "_view_name": "LayoutView",
            "grid_template_rows": null,
            "right": null,
            "justify_content": null,
            "_view_module": "@jupyter-widgets/base",
            "overflow": null,
            "_model_module_version": "1.2.0",
            "_view_count": null,
            "flex_flow": null,
            "width": null,
            "min_width": null,
            "border": null,
            "align_items": null,
            "bottom": null,
            "_model_module": "@jupyter-widgets/base",
            "top": null,
            "grid_column": null,
            "overflow_y": null,
            "overflow_x": null,
            "grid_auto_flow": null,
            "grid_area": null,
            "grid_template_columns": null,
            "flex": null,
            "_model_name": "LayoutModel",
            "justify_items": null,
            "grid_row": null,
            "max_height": null,
            "align_content": null,
            "visibility": null,
            "align_self": null,
            "height": null,
            "min_height": null,
            "padding": null,
            "grid_auto_rows": null,
            "grid_gap": null,
            "max_width": null,
            "order": null,
            "_view_module_version": "1.2.0",
            "grid_template_areas": null,
            "object_position": null,
            "object_fit": null,
            "grid_auto_columns": null,
            "margin": null,
            "display": null,
            "left": null
          }
        },
        "26f0c689f620411499d628b59fa108b9": {
          "model_module": "@jupyter-widgets/controls",
          "model_name": "HBoxModel",
          "state": {
            "_view_name": "HBoxView",
            "_dom_classes": [],
            "_model_name": "HBoxModel",
            "_view_module": "@jupyter-widgets/controls",
            "_model_module_version": "1.5.0",
            "_view_count": null,
            "_view_module_version": "1.5.0",
            "box_style": "",
            "layout": "IPY_MODEL_3dd4a206cb1f4e46a63edbb6c56b9cc5",
            "_model_module": "@jupyter-widgets/controls",
            "children": [
              "IPY_MODEL_55324fc2cdc9447cb7b82430f421a325",
              "IPY_MODEL_dce8b9cd766048b09be5102a7a442aff"
            ]
          }
        },
        "3dd4a206cb1f4e46a63edbb6c56b9cc5": {
          "model_module": "@jupyter-widgets/base",
          "model_name": "LayoutModel",
          "state": {
            "_view_name": "LayoutView",
            "grid_template_rows": null,
            "right": null,
            "justify_content": null,
            "_view_module": "@jupyter-widgets/base",
            "overflow": null,
            "_model_module_version": "1.2.0",
            "_view_count": null,
            "flex_flow": null,
            "width": null,
            "min_width": null,
            "border": null,
            "align_items": null,
            "bottom": null,
            "_model_module": "@jupyter-widgets/base",
            "top": null,
            "grid_column": null,
            "overflow_y": null,
            "overflow_x": null,
            "grid_auto_flow": null,
            "grid_area": null,
            "grid_template_columns": null,
            "flex": null,
            "_model_name": "LayoutModel",
            "justify_items": null,
            "grid_row": null,
            "max_height": null,
            "align_content": null,
            "visibility": null,
            "align_self": null,
            "height": null,
            "min_height": null,
            "padding": null,
            "grid_auto_rows": null,
            "grid_gap": null,
            "max_width": null,
            "order": null,
            "_view_module_version": "1.2.0",
            "grid_template_areas": null,
            "object_position": null,
            "object_fit": null,
            "grid_auto_columns": null,
            "margin": null,
            "display": null,
            "left": null
          }
        },
        "55324fc2cdc9447cb7b82430f421a325": {
          "model_module": "@jupyter-widgets/controls",
          "model_name": "FloatProgressModel",
          "state": {
            "_view_name": "ProgressView",
            "style": "IPY_MODEL_06c8c09d004b43439b0bab03cfced5c2",
            "_dom_classes": [],
            "description": "Downloading: 100%",
            "_model_name": "FloatProgressModel",
            "bar_style": "success",
            "max": 440473133,
            "_view_module": "@jupyter-widgets/controls",
            "_model_module_version": "1.5.0",
            "value": 440473133,
            "_view_count": null,
            "_view_module_version": "1.5.0",
            "orientation": "horizontal",
            "min": 0,
            "description_tooltip": null,
            "_model_module": "@jupyter-widgets/controls",
            "layout": "IPY_MODEL_2a571f80baf540c184138e4f5c790867"
          }
        },
        "dce8b9cd766048b09be5102a7a442aff": {
          "model_module": "@jupyter-widgets/controls",
          "model_name": "HTMLModel",
          "state": {
            "_view_name": "HTMLView",
            "style": "IPY_MODEL_0f927a6393234730988900444edf0ecb",
            "_dom_classes": [],
            "description": "",
            "_model_name": "HTMLModel",
            "placeholder": "​",
            "_view_module": "@jupyter-widgets/controls",
            "_model_module_version": "1.5.0",
            "value": " 440M/440M [00:14&lt;00:00, 31.3MB/s]",
            "_view_count": null,
            "_view_module_version": "1.5.0",
            "description_tooltip": null,
            "_model_module": "@jupyter-widgets/controls",
            "layout": "IPY_MODEL_8eb5304c5a8a446494d9602f2248be2c"
          }
        },
        "06c8c09d004b43439b0bab03cfced5c2": {
          "model_module": "@jupyter-widgets/controls",
          "model_name": "ProgressStyleModel",
          "state": {
            "_view_name": "StyleView",
            "_model_name": "ProgressStyleModel",
            "description_width": "initial",
            "_view_module": "@jupyter-widgets/base",
            "_model_module_version": "1.5.0",
            "_view_count": null,
            "_view_module_version": "1.2.0",
            "bar_color": null,
            "_model_module": "@jupyter-widgets/controls"
          }
        },
        "2a571f80baf540c184138e4f5c790867": {
          "model_module": "@jupyter-widgets/base",
          "model_name": "LayoutModel",
          "state": {
            "_view_name": "LayoutView",
            "grid_template_rows": null,
            "right": null,
            "justify_content": null,
            "_view_module": "@jupyter-widgets/base",
            "overflow": null,
            "_model_module_version": "1.2.0",
            "_view_count": null,
            "flex_flow": null,
            "width": null,
            "min_width": null,
            "border": null,
            "align_items": null,
            "bottom": null,
            "_model_module": "@jupyter-widgets/base",
            "top": null,
            "grid_column": null,
            "overflow_y": null,
            "overflow_x": null,
            "grid_auto_flow": null,
            "grid_area": null,
            "grid_template_columns": null,
            "flex": null,
            "_model_name": "LayoutModel",
            "justify_items": null,
            "grid_row": null,
            "max_height": null,
            "align_content": null,
            "visibility": null,
            "align_self": null,
            "height": null,
            "min_height": null,
            "padding": null,
            "grid_auto_rows": null,
            "grid_gap": null,
            "max_width": null,
            "order": null,
            "_view_module_version": "1.2.0",
            "grid_template_areas": null,
            "object_position": null,
            "object_fit": null,
            "grid_auto_columns": null,
            "margin": null,
            "display": null,
            "left": null
          }
        },
        "0f927a6393234730988900444edf0ecb": {
          "model_module": "@jupyter-widgets/controls",
          "model_name": "DescriptionStyleModel",
          "state": {
            "_view_name": "StyleView",
            "_model_name": "DescriptionStyleModel",
            "description_width": "",
            "_view_module": "@jupyter-widgets/base",
            "_model_module_version": "1.5.0",
            "_view_count": null,
            "_view_module_version": "1.2.0",
            "_model_module": "@jupyter-widgets/controls"
          }
        },
        "8eb5304c5a8a446494d9602f2248be2c": {
          "model_module": "@jupyter-widgets/base",
          "model_name": "LayoutModel",
          "state": {
            "_view_name": "LayoutView",
            "grid_template_rows": null,
            "right": null,
            "justify_content": null,
            "_view_module": "@jupyter-widgets/base",
            "overflow": null,
            "_model_module_version": "1.2.0",
            "_view_count": null,
            "flex_flow": null,
            "width": null,
            "min_width": null,
            "border": null,
            "align_items": null,
            "bottom": null,
            "_model_module": "@jupyter-widgets/base",
            "top": null,
            "grid_column": null,
            "overflow_y": null,
            "overflow_x": null,
            "grid_auto_flow": null,
            "grid_area": null,
            "grid_template_columns": null,
            "flex": null,
            "_model_name": "LayoutModel",
            "justify_items": null,
            "grid_row": null,
            "max_height": null,
            "align_content": null,
            "visibility": null,
            "align_self": null,
            "height": null,
            "min_height": null,
            "padding": null,
            "grid_auto_rows": null,
            "grid_gap": null,
            "max_width": null,
            "order": null,
            "_view_module_version": "1.2.0",
            "grid_template_areas": null,
            "object_position": null,
            "object_fit": null,
            "grid_auto_columns": null,
            "margin": null,
            "display": null,
            "left": null
          }
        }
      }
    },
    "accelerator": "GPU"
  },
  "cells": [
    {
      "cell_type": "markdown",
      "metadata": {
        "id": "tK3pow6ZR-b0"
      },
      "source": [
        "#Data_Augmentation_Methods:"
      ]
    },
    {
      "cell_type": "markdown",
      "metadata": {
        "id": "nN6j8KTIRWXy"
      },
      "source": [
        "### This notebook contains three different state-of-the-art data augmentation techniques:\n",
        "1. Easy Data Augmentation Techniques for Boosting Performance on Text Classification Tasks\n",
        "2. Backtranslation using transformer models\n",
        "3. Feeding surroundings word to BERT language model to find out the most suitlabe word for augmentation (nlpaug)"
      ]
    },
    {
      "cell_type": "markdown",
      "metadata": {
        "id": "6rNLoNli3It3"
      },
      "source": [
        "## Method 1. EDA: Easy Data Augmentation Techniques for Boosting Performance on Text Classification Tasks"
      ]
    },
    {
      "cell_type": "markdown",
      "metadata": {
        "id": "InKBbtIGQTb7"
      },
      "source": [
        "Reference: https://arxiv.org/abs/1901.11196"
      ]
    },
    {
      "cell_type": "markdown",
      "metadata": {
        "id": "dPqObO0_OA7m"
      },
      "source": [
        "1. Synonym Replacement (SR): Randomly choose n words from the sentence that are not stop words. Replace each of these words with one of its synonyms chosen at random.\n",
        "\n",
        "2. Random Insertion (RI): Find a random synonym of a random word in the sentence that is not a stop word. Insert that synonym into a random position in the sentence. Do this n times.\n",
        "3. Random Swap (RS): Randomly choose two words in the sentence and swap their positions. Do this n times.\n",
        "4. Random Deletion (RD): For each word in the sentence, randomly remove it with probability p."
      ]
    },
    {
      "cell_type": "code",
      "metadata": {
        "colab": {
          "base_uri": "https://localhost:8080/"
        },
        "id": "qdIZx6uc1uPw",
        "outputId": "c4e8a051-39f2-4014-b089-452009c98001"
      },
      "source": [
        "!pip install -U nltk"
      ],
      "execution_count": null,
      "outputs": [
        {
          "output_type": "stream",
          "text": [
            "Collecting nltk\n",
            "\u001b[?25l  Downloading https://files.pythonhosted.org/packages/5e/37/9532ddd4b1bbb619333d5708aaad9bf1742f051a664c3c6fa6632a105fd8/nltk-3.6.2-py3-none-any.whl (1.5MB)\n",
            "\r\u001b[K     |▎                               | 10kB 17.2MB/s eta 0:00:01\r\u001b[K     |▌                               | 20kB 21.3MB/s eta 0:00:01\r\u001b[K     |▊                               | 30kB 24.3MB/s eta 0:00:01\r\u001b[K     |█                               | 40kB 22.7MB/s eta 0:00:01\r\u001b[K     |█▏                              | 51kB 11.7MB/s eta 0:00:01\r\u001b[K     |█▍                              | 61kB 11.8MB/s eta 0:00:01\r\u001b[K     |█▋                              | 71kB 10.4MB/s eta 0:00:01\r\u001b[K     |█▉                              | 81kB 11.3MB/s eta 0:00:01\r\u001b[K     |██                              | 92kB 12.2MB/s eta 0:00:01\r\u001b[K     |██▎                             | 102kB 11.1MB/s eta 0:00:01\r\u001b[K     |██▌                             | 112kB 11.1MB/s eta 0:00:01\r\u001b[K     |██▊                             | 122kB 11.1MB/s eta 0:00:01\r\u001b[K     |███                             | 133kB 11.1MB/s eta 0:00:01\r\u001b[K     |███▏                            | 143kB 11.1MB/s eta 0:00:01\r\u001b[K     |███▍                            | 153kB 11.1MB/s eta 0:00:01\r\u001b[K     |███▋                            | 163kB 11.1MB/s eta 0:00:01\r\u001b[K     |███▉                            | 174kB 11.1MB/s eta 0:00:01\r\u001b[K     |████                            | 184kB 11.1MB/s eta 0:00:01\r\u001b[K     |████▎                           | 194kB 11.1MB/s eta 0:00:01\r\u001b[K     |████▌                           | 204kB 11.1MB/s eta 0:00:01\r\u001b[K     |████▊                           | 215kB 11.1MB/s eta 0:00:01\r\u001b[K     |█████                           | 225kB 11.1MB/s eta 0:00:01\r\u001b[K     |█████▏                          | 235kB 11.1MB/s eta 0:00:01\r\u001b[K     |█████▍                          | 245kB 11.1MB/s eta 0:00:01\r\u001b[K     |█████▋                          | 256kB 11.1MB/s eta 0:00:01\r\u001b[K     |█████▉                          | 266kB 11.1MB/s eta 0:00:01\r\u001b[K     |██████                          | 276kB 11.1MB/s eta 0:00:01\r\u001b[K     |██████▎                         | 286kB 11.1MB/s eta 0:00:01\r\u001b[K     |██████▌                         | 296kB 11.1MB/s eta 0:00:01\r\u001b[K     |██████▊                         | 307kB 11.1MB/s eta 0:00:01\r\u001b[K     |███████                         | 317kB 11.1MB/s eta 0:00:01\r\u001b[K     |███████▏                        | 327kB 11.1MB/s eta 0:00:01\r\u001b[K     |███████▍                        | 337kB 11.1MB/s eta 0:00:01\r\u001b[K     |███████▊                        | 348kB 11.1MB/s eta 0:00:01\r\u001b[K     |████████                        | 358kB 11.1MB/s eta 0:00:01\r\u001b[K     |████████▏                       | 368kB 11.1MB/s eta 0:00:01\r\u001b[K     |████████▍                       | 378kB 11.1MB/s eta 0:00:01\r\u001b[K     |████████▋                       | 389kB 11.1MB/s eta 0:00:01\r\u001b[K     |████████▉                       | 399kB 11.1MB/s eta 0:00:01\r\u001b[K     |█████████                       | 409kB 11.1MB/s eta 0:00:01\r\u001b[K     |█████████▎                      | 419kB 11.1MB/s eta 0:00:01\r\u001b[K     |█████████▌                      | 430kB 11.1MB/s eta 0:00:01\r\u001b[K     |█████████▊                      | 440kB 11.1MB/s eta 0:00:01\r\u001b[K     |██████████                      | 450kB 11.1MB/s eta 0:00:01\r\u001b[K     |██████████▏                     | 460kB 11.1MB/s eta 0:00:01\r\u001b[K     |██████████▍                     | 471kB 11.1MB/s eta 0:00:01\r\u001b[K     |██████████▋                     | 481kB 11.1MB/s eta 0:00:01\r\u001b[K     |██████████▉                     | 491kB 11.1MB/s eta 0:00:01\r\u001b[K     |███████████                     | 501kB 11.1MB/s eta 0:00:01\r\u001b[K     |███████████▎                    | 512kB 11.1MB/s eta 0:00:01\r\u001b[K     |███████████▌                    | 522kB 11.1MB/s eta 0:00:01\r\u001b[K     |███████████▊                    | 532kB 11.1MB/s eta 0:00:01\r\u001b[K     |████████████                    | 542kB 11.1MB/s eta 0:00:01\r\u001b[K     |████████████▏                   | 552kB 11.1MB/s eta 0:00:01\r\u001b[K     |████████████▍                   | 563kB 11.1MB/s eta 0:00:01\r\u001b[K     |████████████▋                   | 573kB 11.1MB/s eta 0:00:01\r\u001b[K     |████████████▉                   | 583kB 11.1MB/s eta 0:00:01\r\u001b[K     |█████████████                   | 593kB 11.1MB/s eta 0:00:01\r\u001b[K     |█████████████▎                  | 604kB 11.1MB/s eta 0:00:01\r\u001b[K     |█████████████▌                  | 614kB 11.1MB/s eta 0:00:01\r\u001b[K     |█████████████▊                  | 624kB 11.1MB/s eta 0:00:01\r\u001b[K     |██████████████                  | 634kB 11.1MB/s eta 0:00:01\r\u001b[K     |██████████████▏                 | 645kB 11.1MB/s eta 0:00:01\r\u001b[K     |██████████████▍                 | 655kB 11.1MB/s eta 0:00:01\r\u001b[K     |██████████████▋                 | 665kB 11.1MB/s eta 0:00:01\r\u001b[K     |██████████████▉                 | 675kB 11.1MB/s eta 0:00:01\r\u001b[K     |███████████████▏                | 686kB 11.1MB/s eta 0:00:01\r\u001b[K     |███████████████▍                | 696kB 11.1MB/s eta 0:00:01\r\u001b[K     |███████████████▋                | 706kB 11.1MB/s eta 0:00:01\r\u001b[K     |███████████████▉                | 716kB 11.1MB/s eta 0:00:01\r\u001b[K     |████████████████                | 727kB 11.1MB/s eta 0:00:01\r\u001b[K     |████████████████▎               | 737kB 11.1MB/s eta 0:00:01\r\u001b[K     |████████████████▌               | 747kB 11.1MB/s eta 0:00:01\r\u001b[K     |████████████████▊               | 757kB 11.1MB/s eta 0:00:01\r\u001b[K     |█████████████████               | 768kB 11.1MB/s eta 0:00:01\r\u001b[K     |█████████████████▏              | 778kB 11.1MB/s eta 0:00:01\r\u001b[K     |█████████████████▍              | 788kB 11.1MB/s eta 0:00:01\r\u001b[K     |█████████████████▋              | 798kB 11.1MB/s eta 0:00:01\r\u001b[K     |█████████████████▉              | 808kB 11.1MB/s eta 0:00:01\r\u001b[K     |██████████████████              | 819kB 11.1MB/s eta 0:00:01\r\u001b[K     |██████████████████▎             | 829kB 11.1MB/s eta 0:00:01\r\u001b[K     |██████████████████▌             | 839kB 11.1MB/s eta 0:00:01\r\u001b[K     |██████████████████▊             | 849kB 11.1MB/s eta 0:00:01\r\u001b[K     |███████████████████             | 860kB 11.1MB/s eta 0:00:01\r\u001b[K     |███████████████████▏            | 870kB 11.1MB/s eta 0:00:01\r\u001b[K     |███████████████████▍            | 880kB 11.1MB/s eta 0:00:01\r\u001b[K     |███████████████████▋            | 890kB 11.1MB/s eta 0:00:01\r\u001b[K     |███████████████████▉            | 901kB 11.1MB/s eta 0:00:01\r\u001b[K     |████████████████████            | 911kB 11.1MB/s eta 0:00:01\r\u001b[K     |████████████████████▎           | 921kB 11.1MB/s eta 0:00:01\r\u001b[K     |████████████████████▌           | 931kB 11.1MB/s eta 0:00:01\r\u001b[K     |████████████████████▊           | 942kB 11.1MB/s eta 0:00:01\r\u001b[K     |█████████████████████           | 952kB 11.1MB/s eta 0:00:01\r\u001b[K     |█████████████████████▏          | 962kB 11.1MB/s eta 0:00:01\r\u001b[K     |█████████████████████▍          | 972kB 11.1MB/s eta 0:00:01\r\u001b[K     |█████████████████████▋          | 983kB 11.1MB/s eta 0:00:01\r\u001b[K     |█████████████████████▉          | 993kB 11.1MB/s eta 0:00:01\r\u001b[K     |██████████████████████          | 1.0MB 11.1MB/s eta 0:00:01\r\u001b[K     |██████████████████████▎         | 1.0MB 11.1MB/s eta 0:00:01\r\u001b[K     |██████████████████████▌         | 1.0MB 11.1MB/s eta 0:00:01\r\u001b[K     |██████████████████████▉         | 1.0MB 11.1MB/s eta 0:00:01\r\u001b[K     |███████████████████████         | 1.0MB 11.1MB/s eta 0:00:01\r\u001b[K     |███████████████████████▎        | 1.1MB 11.1MB/s eta 0:00:01\r\u001b[K     |███████████████████████▌        | 1.1MB 11.1MB/s eta 0:00:01\r\u001b[K     |███████████████████████▊        | 1.1MB 11.1MB/s eta 0:00:01\r\u001b[K     |████████████████████████        | 1.1MB 11.1MB/s eta 0:00:01\r\u001b[K     |████████████████████████▏       | 1.1MB 11.1MB/s eta 0:00:01\r\u001b[K     |████████████████████████▍       | 1.1MB 11.1MB/s eta 0:00:01\r\u001b[K     |████████████████████████▋       | 1.1MB 11.1MB/s eta 0:00:01\r\u001b[K     |████████████████████████▉       | 1.1MB 11.1MB/s eta 0:00:01\r\u001b[K     |█████████████████████████       | 1.1MB 11.1MB/s eta 0:00:01\r\u001b[K     |█████████████████████████▎      | 1.1MB 11.1MB/s eta 0:00:01\r\u001b[K     |█████████████████████████▌      | 1.2MB 11.1MB/s eta 0:00:01\r\u001b[K     |█████████████████████████▊      | 1.2MB 11.1MB/s eta 0:00:01\r\u001b[K     |██████████████████████████      | 1.2MB 11.1MB/s eta 0:00:01\r\u001b[K     |██████████████████████████▏     | 1.2MB 11.1MB/s eta 0:00:01\r\u001b[K     |██████████████████████████▍     | 1.2MB 11.1MB/s eta 0:00:01\r\u001b[K     |██████████████████████████▋     | 1.2MB 11.1MB/s eta 0:00:01\r\u001b[K     |██████████████████████████▉     | 1.2MB 11.1MB/s eta 0:00:01\r\u001b[K     |███████████████████████████     | 1.2MB 11.1MB/s eta 0:00:01\r\u001b[K     |███████████████████████████▎    | 1.2MB 11.1MB/s eta 0:00:01\r\u001b[K     |███████████████████████████▌    | 1.2MB 11.1MB/s eta 0:00:01\r\u001b[K     |███████████████████████████▊    | 1.3MB 11.1MB/s eta 0:00:01\r\u001b[K     |████████████████████████████    | 1.3MB 11.1MB/s eta 0:00:01\r\u001b[K     |████████████████████████████▏   | 1.3MB 11.1MB/s eta 0:00:01\r\u001b[K     |████████████████████████████▍   | 1.3MB 11.1MB/s eta 0:00:01\r\u001b[K     |████████████████████████████▋   | 1.3MB 11.1MB/s eta 0:00:01\r\u001b[K     |████████████████████████████▉   | 1.3MB 11.1MB/s eta 0:00:01\r\u001b[K     |█████████████████████████████   | 1.3MB 11.1MB/s eta 0:00:01\r\u001b[K     |█████████████████████████████▎  | 1.3MB 11.1MB/s eta 0:00:01\r\u001b[K     |█████████████████████████████▌  | 1.3MB 11.1MB/s eta 0:00:01\r\u001b[K     |█████████████████████████████▊  | 1.4MB 11.1MB/s eta 0:00:01\r\u001b[K     |██████████████████████████████  | 1.4MB 11.1MB/s eta 0:00:01\r\u001b[K     |██████████████████████████████▎ | 1.4MB 11.1MB/s eta 0:00:01\r\u001b[K     |██████████████████████████████▌ | 1.4MB 11.1MB/s eta 0:00:01\r\u001b[K     |██████████████████████████████▊ | 1.4MB 11.1MB/s eta 0:00:01\r\u001b[K     |███████████████████████████████ | 1.4MB 11.1MB/s eta 0:00:01\r\u001b[K     |███████████████████████████████▏| 1.4MB 11.1MB/s eta 0:00:01\r\u001b[K     |███████████████████████████████▍| 1.4MB 11.1MB/s eta 0:00:01\r\u001b[K     |███████████████████████████████▋| 1.4MB 11.1MB/s eta 0:00:01\r\u001b[K     |███████████████████████████████▉| 1.4MB 11.1MB/s eta 0:00:01\r\u001b[K     |████████████████████████████████| 1.5MB 11.1MB/s \n",
            "\u001b[?25hRequirement already satisfied, skipping upgrade: tqdm in /usr/local/lib/python3.7/dist-packages (from nltk) (4.41.1)\n",
            "Requirement already satisfied, skipping upgrade: click in /usr/local/lib/python3.7/dist-packages (from nltk) (8.0.0)\n",
            "Requirement already satisfied, skipping upgrade: regex in /usr/local/lib/python3.7/dist-packages (from nltk) (2019.12.20)\n",
            "Requirement already satisfied, skipping upgrade: joblib in /usr/local/lib/python3.7/dist-packages (from nltk) (1.0.1)\n",
            "Installing collected packages: nltk\n",
            "  Found existing installation: nltk 3.2.5\n",
            "    Uninstalling nltk-3.2.5:\n",
            "      Successfully uninstalled nltk-3.2.5\n",
            "Successfully installed nltk-3.6.2\n"
          ],
          "name": "stdout"
        }
      ]
    },
    {
      "cell_type": "code",
      "metadata": {
        "colab": {
          "base_uri": "https://localhost:8080/"
        },
        "id": "-wtXx52X2sT6",
        "outputId": "6a327632-0f01-46c7-c6d4-b5d0e4eb2253"
      },
      "source": [
        "import nltk; nltk.download('wordnet')"
      ],
      "execution_count": null,
      "outputs": [
        {
          "output_type": "stream",
          "text": [
            "[nltk_data] Downloading package wordnet to /root/nltk_data...\n",
            "[nltk_data]   Unzipping corpora/wordnet.zip.\n"
          ],
          "name": "stderr"
        },
        {
          "output_type": "execute_result",
          "data": {
            "text/plain": [
              "True"
            ]
          },
          "metadata": {
            "tags": []
          },
          "execution_count": 2
        }
      ]
    },
    {
      "cell_type": "code",
      "metadata": {
        "id": "-E-7_oUr21o3"
      },
      "source": [
        "%cd /content/drive/MyDrive/Capstone-project_Bhavika/data_aug"
      ],
      "execution_count": null,
      "outputs": []
    },
    {
      "cell_type": "code",
      "metadata": {
        "colab": {
          "base_uri": "https://localhost:8080/"
        },
        "id": "ZxYUkLSbfYgl",
        "outputId": "5b014dfe-71ad-43c2-e587-638fe1242858"
      },
      "source": [
        "from google.colab import drive\n",
        "drive.mount('/content/drive')"
      ],
      "execution_count": null,
      "outputs": [
        {
          "output_type": "stream",
          "text": [
            "Mounted at /content/drive\n"
          ],
          "name": "stdout"
        }
      ]
    },
    {
      "cell_type": "code",
      "metadata": {
        "colab": {
          "base_uri": "https://localhost:8080/"
        },
        "id": "M_MWh1BE7H7S",
        "outputId": "9c9c4d81-f004-4750-b797-2ad335e96827"
      },
      "source": [
        "%cd /content/drive/MyDrive/projects/Capstone_Project/Checkpoint_6/processed_data"
      ],
      "execution_count": null,
      "outputs": [
        {
          "output_type": "stream",
          "text": [
            "/content/drive/MyDrive/projects/Capstone_Project/Checkpoint_6/processed_data\n"
          ],
          "name": "stdout"
        }
      ]
    },
    {
      "cell_type": "code",
      "metadata": {
        "colab": {
          "base_uri": "https://localhost:8080/"
        },
        "id": "jR-1CF5M5tJF",
        "outputId": "b146a411-cec5-4224-a5ec-628dd2136c16"
      },
      "source": [
        "!python code/augment.py --input=/content/drive/MyDrive/projects/Capstone_Project/Checkpoint_6/processed_data/labeled_1.pkl --num_aug=10 --alpha_sr=0.05 --alpha_rd=0.05 --alpha_ri=0.05 --alpha_rs=0.05"
      ],
      "execution_count": null,
      "outputs": [
        {
          "output_type": "stream",
          "text": [
            "python3: can't open file 'code/augment.py': [Errno 2] No such file or directory\n"
          ],
          "name": "stdout"
        }
      ]
    },
    {
      "cell_type": "code",
      "metadata": {
        "id": "xhnkKzRt9Sum"
      },
      "source": [
        "lines = open(\"/content/drive/MyDrive/Capstone-project_Bhavika/data_aug/eda_nlp/data/train_Q2.tsv\", 'r').readlines()\n",
        "counter =0\n",
        "for i, line in enumerate(lines):\n",
        "  parts = line.split(\" \",1)\n",
        "  label = parts[0]\n",
        "  sentence = parts[1]\n",
        "  if len(parts[1])==0:\n",
        "    counter = counter+1\n",
        "  #print(len(parts[1]),\"------\",parts[0],\"------\",parts[1])\n",
        "print(counter)"
      ],
      "execution_count": null,
      "outputs": []
    },
    {
      "cell_type": "markdown",
      "metadata": {
        "id": "fcidjw2YauMW"
      },
      "source": [
        "# Method 2. Backtranslation\n",
        "\n",
        "Reference: https://github.com/makcedward/nlpaug"
      ]
    },
    {
      "cell_type": "code",
      "metadata": {
        "colab": {
          "base_uri": "https://localhost:8080/"
        },
        "id": "Y1La_bAHd3h-",
        "outputId": "1e9cf474-5029-4be8-fd03-685eff1688a1"
      },
      "source": [
        "%cd"
      ],
      "execution_count": null,
      "outputs": [
        {
          "output_type": "stream",
          "text": [
            "/root\n"
          ],
          "name": "stdout"
        }
      ]
    },
    {
      "cell_type": "code",
      "metadata": {
        "colab": {
          "base_uri": "https://localhost:8080/"
        },
        "id": "azHfPWdOd8nQ",
        "outputId": "4e88942d-4478-4873-8f5a-66865fba63c8"
      },
      "source": [
        "!pip install numpy requests nlpaug"
      ],
      "execution_count": null,
      "outputs": [
        {
          "output_type": "stream",
          "text": [
            "Requirement already satisfied: numpy in /usr/local/lib/python3.7/dist-packages (1.19.5)\n",
            "Requirement already satisfied: requests in /usr/local/lib/python3.7/dist-packages (2.23.0)\n",
            "Collecting nlpaug\n",
            "\u001b[?25l  Downloading https://files.pythonhosted.org/packages/eb/f8/b11caecdd19aa2b1b2cb46c6cbbec692abd621aad884e653e459a8546add/nlpaug-1.1.3-py3-none-any.whl (394kB)\n",
            "\u001b[K     |████████████████████████████████| 399kB 10.9MB/s \n",
            "\u001b[?25hRequirement already satisfied: certifi>=2017.4.17 in /usr/local/lib/python3.7/dist-packages (from requests) (2020.12.5)\n",
            "Requirement already satisfied: urllib3!=1.25.0,!=1.25.1,<1.26,>=1.21.1 in /usr/local/lib/python3.7/dist-packages (from requests) (1.24.3)\n",
            "Requirement already satisfied: chardet<4,>=3.0.2 in /usr/local/lib/python3.7/dist-packages (from requests) (3.0.4)\n",
            "Requirement already satisfied: idna<3,>=2.5 in /usr/local/lib/python3.7/dist-packages (from requests) (2.10)\n",
            "Installing collected packages: nlpaug\n",
            "Successfully installed nlpaug-1.1.3\n"
          ],
          "name": "stdout"
        }
      ]
    },
    {
      "cell_type": "code",
      "metadata": {
        "id": "S-EqJswRd8k4"
      },
      "source": [
        "!pip install torch>=1.6.0 fairseq>=0.9.0 sacremoses>=0.0.43 fastBPE>=0.1.0"
      ],
      "execution_count": null,
      "outputs": []
    },
    {
      "cell_type": "code",
      "metadata": {
        "id": "pKE0N8la5CAN"
      },
      "source": [
        "import pandas as pd"
      ],
      "execution_count": null,
      "outputs": []
    },
    {
      "cell_type": "code",
      "metadata": {
        "id": "2skjJCdxnNoA"
      },
      "source": [
        "import nlpaug.augmenter.char as nac\n",
        "import nlpaug.augmenter.word as naw\n",
        "import nlpaug.augmenter.sentence as nas\n",
        "import nlpaug.flow as nafc\n",
        "\n",
        "from nlpaug.util import Action"
      ],
      "execution_count": null,
      "outputs": []
    },
    {
      "cell_type": "code",
      "metadata": {
        "colab": {
          "base_uri": "https://localhost:8080/",
          "height": 106
        },
        "id": "-knkkvhjnNa4",
        "outputId": "3f90a4af-3b2c-473a-ba02-a321eb98b9f9"
      },
      "source": [
        "# This is just a test\n",
        "import nlpaug.augmenter.word as naw\n",
        "\n",
        "text = 'The quick brown fox jumped over the lazy dog'\n",
        "back_translation_aug = naw.BackTranslationAug(\n",
        "    from_model_name='transformer.wmt19.en-de', \n",
        "    to_model_name='transformer.wmt19.de-en'\n",
        ")\n",
        "back_translation_aug.augment(text)"
      ],
      "execution_count": null,
      "outputs": [
        {
          "output_type": "stream",
          "text": [
            "Downloading: \"https://github.com/pytorch/fairseq/archive/master.zip\" to /root/.cache/torch/hub/master.zip\n",
            "100%|██████████| 11946275315/11946275315 [08:07<00:00, 24517982.52B/s]\n",
            "Using cache found in /root/.cache/torch/hub/pytorch_fairseq_master\n",
            "100%|██████████| 11958904958/11958904958 [08:26<00:00, 23633844.79B/s]\n"
          ],
          "name": "stderr"
        },
        {
          "output_type": "execute_result",
          "data": {
            "application/vnd.google.colaboratory.intrinsic+json": {
              "type": "string"
            },
            "text/plain": [
              "'The speedy brown fox jumped over the lazy dog'"
            ]
          },
          "metadata": {
            "tags": []
          },
          "execution_count": 44
        }
      ]
    },
    {
      "cell_type": "code",
      "metadata": {
        "id": "RCwuHsxGpWRW"
      },
      "source": [
        "# Let's try to not cry here\n",
        "input_data = \"/content/drive/MyDrive/Capstone-project_Bhavika/data_aug/backtranslation/data/train_Q2.tsv\"\n",
        "output_file = \"/content/drive/MyDrive/Capstone-project_Bhavika/data_aug/backtranslation/data/bt_train_Q2.tsv\"\n",
        "writer = open(output_file, 'w')\n",
        "lines = open(input_data, 'r').readlines()\n",
        "\n",
        "\n",
        "for i, line in enumerate(lines):\n",
        "  # parts = line[:-1].split('\\t')\n",
        "  parts = line.split(\" \",1)\n",
        "  label = parts[0]\n",
        "  sentence = parts[1]\n",
        "  writer.write(label + \"\\t\" + back_translation_aug.augment(parts[1]) + '\\n')\n",
        "  df.append({'label':[label],'sentence':[back_translation_aug.augment(parts[1])]},ignore_index=True)\n",
        "  print(i)\n",
        "\n",
        "writer.close()"
      ],
      "execution_count": null,
      "outputs": []
    },
    {
      "cell_type": "code",
      "metadata": {
        "id": "sDDm6fcMQ-8j"
      },
      "source": [
        "%%bash\n",
        "pip install fastBPE regex requests sacremoses subword_nmt"
      ],
      "execution_count": null,
      "outputs": []
    },
    {
      "cell_type": "code",
      "metadata": {
        "id": "pC0-2kCQRB_L"
      },
      "source": [
        "# List available models\n",
        "#print(torch.hub.list('pytorch/fairseq'))  # [..., 'transformer.wmt19.en-de.single_model', ... ]\n",
        "# Load a transformer trained on WMT'16 En-De\n",
        "en2de = torch.hub.load('pytorch/fairseq', 'transformer.wmt19.en-de.single_model', tokenizer='moses', bpe='fastbpe')\n",
        "de2en = torch.hub.load('pytorch/fairseq', 'transformer.wmt19.de-en.single_model', tokenizer='moses', bpe='fastbpe')\n",
        "\n",
        "\n",
        "data_path = '/content/drive/MyDrive/projects/Capstone_Project/Checkpoint_6/processed_data/'\n",
        "\n",
        "with open(data_path + 'labeled_1.pkl', 'rb') as f:\n",
        "    train_labeled_data = pickle.load(f)\n",
        "\n",
        "num_sample_sen = 2\n",
        "cnt = 0\n",
        "train_unlabeled_data_aug = {}\n",
        "\n",
        "for key, value in tqdm(train_labeled_data.items(), ncols=50, desc=\"Iteration:\"):\n",
        "    new_value = []\n",
        "\n",
        "    for i in range(num_sample_sen):\n",
        "        v = de2en.translate(en2de.translate(value, sampling = True, temperature = 0.8),\n",
        "                                    sampling = True, temperature = 0.8)\n",
        "        if cnt % 100 == 0:\n",
        "            print(\"***************\")\n",
        "            print(\"org: \", value)\n",
        "            print(\"new: \", v)\n",
        "        new_value.append(v)\n",
        "    train_unlabeled_data_aug[key] = new_value\n",
        "    if cnt % 1000 == 0:\n",
        "        with open(data_path + 'train_labeled_data_bt.pkl', 'wb') as f:\n",
        "            assert len(train_unlabeled_data_aug[key]) == num_sample_sen\n",
        "            pickle.dump(train_unlabeled_data_aug, f)\n",
        "    cnt += 1\n",
        "\n",
        "with open(data_path + 'train_labeled_data_bt.pkl', 'wb') as f:\n",
        "    pickle.dump(train_unlabeled_data_aug, f)"
      ],
      "execution_count": null,
      "outputs": []
    },
    {
      "cell_type": "code",
      "metadata": {
        "id": "kXZ-4ITuRFDa"
      },
      "source": [
        "with open(data_path + 'labeled_2.pkl', 'rb') as g:\n",
        "    train_labeled_data = pickle.load(g)\n",
        "\n",
        "num_sample_sen = 2\n",
        "cnt = 0\n",
        "\n",
        "for key, value in tqdm(train_labeled_data.items(), ncols=50, desc=\"Iteration:\"):\n",
        "    new_value = []\n",
        "\n",
        "    for i in range(num_sample_sen):\n",
        "        v = de2en.translate(en2de.translate(value, sampling = True, temperature = 0.8),\n",
        "                                    sampling = True, temperature = 0.8)\n",
        "        print(key)\n",
        "        if cnt % 100 == 0:\n",
        "            print(\"***************\")\n",
        "            print(\"Original Value: \", value)\n",
        "            print(\"New Value: \", v)\n",
        "            print(\"***************\")\n",
        "        new_value.append(v)\n",
        "    if cnt % 1000 == 0:\n",
        "        with open(data_path + 'train_labeled_data_bt_2.pkl', 'wb') as f:\n",
        "            assert len(new_value) == num_sample_sen\n",
        "            pickle.dump(new_value, f)\n",
        "    cnt += 1\n",
        "\n",
        "with open(data_path + 'train_labeled_data_bt_2.pkl', 'wb') as f:\n",
        "    pickle.dump(new_value, f)"
      ],
      "execution_count": null,
      "outputs": []
    },
    {
      "cell_type": "markdown",
      "metadata": {
        "id": "WDfw9xr-YHfp"
      },
      "source": [
        "# Method 3: Feeding surroundings word to BERT language model to find out the most suitlabe word for augmentation\n",
        "\n",
        "Reference: https://github.com/makcedward/nlpaug"
      ]
    },
    {
      "cell_type": "code",
      "metadata": {
        "colab": {
          "base_uri": "https://localhost:8080/"
        },
        "id": "U77xU9zJMuVd",
        "outputId": "aae1b0b3-66e4-473f-a773-9de4721f2afc"
      },
      "source": [
        "!pip install transformers"
      ],
      "execution_count": null,
      "outputs": [
        {
          "output_type": "stream",
          "text": [
            "Collecting transformers\n",
            "\u001b[?25l  Downloading https://files.pythonhosted.org/packages/b0/9e/5b80becd952d5f7250eaf8fc64b957077b12ccfe73e9c03d37146ab29712/transformers-4.6.0-py3-none-any.whl (2.3MB)\n",
            "\u001b[K     |████████████████████████████████| 2.3MB 11.2MB/s \n",
            "\u001b[?25hRequirement already satisfied: importlib-metadata; python_version < \"3.8\" in /usr/local/lib/python3.7/dist-packages (from transformers) (4.0.1)\n",
            "Requirement already satisfied: filelock in /usr/local/lib/python3.7/dist-packages (from transformers) (3.0.12)\n",
            "Requirement already satisfied: requests in /usr/local/lib/python3.7/dist-packages (from transformers) (2.23.0)\n",
            "Collecting sacremoses\n",
            "\u001b[?25l  Downloading https://files.pythonhosted.org/packages/75/ee/67241dc87f266093c533a2d4d3d69438e57d7a90abb216fa076e7d475d4a/sacremoses-0.0.45-py3-none-any.whl (895kB)\n",
            "\u001b[K     |████████████████████████████████| 901kB 37.1MB/s \n",
            "\u001b[?25hRequirement already satisfied: packaging in /usr/local/lib/python3.7/dist-packages (from transformers) (20.9)\n",
            "Collecting tokenizers<0.11,>=0.10.1\n",
            "\u001b[?25l  Downloading https://files.pythonhosted.org/packages/ae/04/5b870f26a858552025a62f1649c20d29d2672c02ff3c3fb4c688ca46467a/tokenizers-0.10.2-cp37-cp37m-manylinux2010_x86_64.whl (3.3MB)\n",
            "\u001b[K     |████████████████████████████████| 3.3MB 28.3MB/s \n",
            "\u001b[?25hRequirement already satisfied: numpy>=1.17 in /usr/local/lib/python3.7/dist-packages (from transformers) (1.19.5)\n",
            "Collecting huggingface-hub==0.0.8\n",
            "  Downloading https://files.pythonhosted.org/packages/a1/88/7b1e45720ecf59c6c6737ff332f41c955963090a18e72acbcbeac6b25e86/huggingface_hub-0.0.8-py3-none-any.whl\n",
            "Requirement already satisfied: regex!=2019.12.17 in /usr/local/lib/python3.7/dist-packages (from transformers) (2019.12.20)\n",
            "Requirement already satisfied: tqdm>=4.27 in /usr/local/lib/python3.7/dist-packages (from transformers) (4.41.1)\n",
            "Requirement already satisfied: typing-extensions>=3.6.4; python_version < \"3.8\" in /usr/local/lib/python3.7/dist-packages (from importlib-metadata; python_version < \"3.8\"->transformers) (3.7.4.3)\n",
            "Requirement already satisfied: zipp>=0.5 in /usr/local/lib/python3.7/dist-packages (from importlib-metadata; python_version < \"3.8\"->transformers) (3.4.1)\n",
            "Requirement already satisfied: certifi>=2017.4.17 in /usr/local/lib/python3.7/dist-packages (from requests->transformers) (2020.12.5)\n",
            "Requirement already satisfied: chardet<4,>=3.0.2 in /usr/local/lib/python3.7/dist-packages (from requests->transformers) (3.0.4)\n",
            "Requirement already satisfied: idna<3,>=2.5 in /usr/local/lib/python3.7/dist-packages (from requests->transformers) (2.10)\n",
            "Requirement already satisfied: urllib3!=1.25.0,!=1.25.1,<1.26,>=1.21.1 in /usr/local/lib/python3.7/dist-packages (from requests->transformers) (1.24.3)\n",
            "Requirement already satisfied: click in /usr/local/lib/python3.7/dist-packages (from sacremoses->transformers) (8.0.0)\n",
            "Requirement already satisfied: joblib in /usr/local/lib/python3.7/dist-packages (from sacremoses->transformers) (1.0.1)\n",
            "Requirement already satisfied: six in /usr/local/lib/python3.7/dist-packages (from sacremoses->transformers) (1.15.0)\n",
            "Requirement already satisfied: pyparsing>=2.0.2 in /usr/local/lib/python3.7/dist-packages (from packaging->transformers) (2.4.7)\n",
            "Installing collected packages: sacremoses, tokenizers, huggingface-hub, transformers\n",
            "Successfully installed huggingface-hub-0.0.8 sacremoses-0.0.45 tokenizers-0.10.2 transformers-4.6.0\n"
          ],
          "name": "stdout"
        }
      ]
    },
    {
      "cell_type": "code",
      "metadata": {
        "id": "gzuYhXDbX0yl"
      },
      "source": [
        "import transformers"
      ],
      "execution_count": null,
      "outputs": []
    },
    {
      "cell_type": "code",
      "metadata": {
        "colab": {
          "base_uri": "https://localhost:8080/",
          "height": 336,
          "referenced_widgets": [
            "bfbcb8768ec14f43b8a035c30865bde8",
            "c00775bf2e3f4a61831946cc5681a0c2",
            "cc5fa8ca55714f838209d5827679cb8d",
            "04447e905598491f8c52d330e4ab4da3",
            "d6acbc0c4ed34ca29c48ef02938ac498",
            "587d4ac9030449eb8f33130a93ebf116",
            "1132307752a44898bd2da429f2e61c75",
            "9831012953c04364bf18dda56ff65df4",
            "5c7f4e39d758434db8b69c47acf1a874",
            "17d81cc0beef45a8bb1336b81046ab4d",
            "92d2fa3a5c084cc6b45bd7ceba0ea322",
            "8ed445abc75c412da0b61a07e02ea856",
            "62c11f6e9d4d468595f656cd5bd844fb",
            "2b9ab96855604028a415baeffbd405c7",
            "0c8dda0ff3724f0e9bce0b5b2c925131",
            "6c9342c3863c460d9b02b85dfd78af9d",
            "35820644b5084789b3628f7bcd7aac8e",
            "7c02e21d0f984f4a8868a47834511945",
            "ec469c5f9f1d45aebd08deb3cd5fa4e8",
            "9023220c788142e7b414618ca11d0e4b",
            "3e70487f522448d3a2993afbb17b1950",
            "6ef2fbc2c0bd42f0aaf79c9a8602b944",
            "6e91b3b7cad54a20adb557af9da883c0",
            "1e7ee23751b3473d87ae6d11a65c0d71",
            "3bd94bfa108d4180ae1bda01c38c7171",
            "3f627e01985449a7b8c33ba1c5adc6bd",
            "74d1526b124141df881e77e49017c7ed",
            "81a70f272bce41db92499f57c08d3c42",
            "7e0059789843414da0f8c43f6176cb8d",
            "b9561d60d00a46c9b1096c716df89d02",
            "de10ae96c7a2439387a51a0e0e120eca",
            "099c37d77d5342878e5da80667df6f22",
            "26f0c689f620411499d628b59fa108b9",
            "3dd4a206cb1f4e46a63edbb6c56b9cc5",
            "55324fc2cdc9447cb7b82430f421a325",
            "dce8b9cd766048b09be5102a7a442aff",
            "06c8c09d004b43439b0bab03cfced5c2",
            "2a571f80baf540c184138e4f5c790867",
            "0f927a6393234730988900444edf0ecb",
            "8eb5304c5a8a446494d9602f2248be2c"
          ]
        },
        "id": "C_S5lPp8MuNw",
        "outputId": "8694d534-c18f-4f94-93a6-a44757cd44ed"
      },
      "source": [
        "text = \"The quick brown fox jumps over the lazy dog\"\n",
        "aug = naw.ContextualWordEmbsAug(\n",
        "    model_path='bert-base-uncased', action=\"insert\")\n",
        "augmented_text = aug.augment(text)\n",
        "print(\"Original:\")\n",
        "print(text)\n",
        "print(\"Augmented Text:\")\n",
        "print(augmented_text)"
      ],
      "execution_count": null,
      "outputs": [
        {
          "output_type": "display_data",
          "data": {
            "application/vnd.jupyter.widget-view+json": {
              "model_id": "bfbcb8768ec14f43b8a035c30865bde8",
              "version_minor": 0,
              "version_major": 2
            },
            "text/plain": [
              "HBox(children=(FloatProgress(value=0.0, description='Downloading', max=570.0, style=ProgressStyle(description_…"
            ]
          },
          "metadata": {
            "tags": []
          }
        },
        {
          "output_type": "stream",
          "text": [
            "\n"
          ],
          "name": "stdout"
        },
        {
          "output_type": "display_data",
          "data": {
            "application/vnd.jupyter.widget-view+json": {
              "model_id": "5c7f4e39d758434db8b69c47acf1a874",
              "version_minor": 0,
              "version_major": 2
            },
            "text/plain": [
              "HBox(children=(FloatProgress(value=0.0, description='Downloading', max=231508.0, style=ProgressStyle(descripti…"
            ]
          },
          "metadata": {
            "tags": []
          }
        },
        {
          "output_type": "stream",
          "text": [
            "\n"
          ],
          "name": "stdout"
        },
        {
          "output_type": "display_data",
          "data": {
            "application/vnd.jupyter.widget-view+json": {
              "model_id": "35820644b5084789b3628f7bcd7aac8e",
              "version_minor": 0,
              "version_major": 2
            },
            "text/plain": [
              "HBox(children=(FloatProgress(value=0.0, description='Downloading', max=466062.0, style=ProgressStyle(descripti…"
            ]
          },
          "metadata": {
            "tags": []
          }
        },
        {
          "output_type": "stream",
          "text": [
            "\n"
          ],
          "name": "stdout"
        },
        {
          "output_type": "display_data",
          "data": {
            "application/vnd.jupyter.widget-view+json": {
              "model_id": "3bd94bfa108d4180ae1bda01c38c7171",
              "version_minor": 0,
              "version_major": 2
            },
            "text/plain": [
              "HBox(children=(FloatProgress(value=0.0, description='Downloading', max=28.0, style=ProgressStyle(description_w…"
            ]
          },
          "metadata": {
            "tags": []
          }
        },
        {
          "output_type": "stream",
          "text": [
            "\n"
          ],
          "name": "stdout"
        },
        {
          "output_type": "display_data",
          "data": {
            "application/vnd.jupyter.widget-view+json": {
              "model_id": "26f0c689f620411499d628b59fa108b9",
              "version_minor": 0,
              "version_major": 2
            },
            "text/plain": [
              "HBox(children=(FloatProgress(value=0.0, description='Downloading', max=440473133.0, style=ProgressStyle(descri…"
            ]
          },
          "metadata": {
            "tags": []
          }
        },
        {
          "output_type": "stream",
          "text": [
            "\n",
            "Original:\n",
            "The quick brown fox jumps over the lazy dog\n",
            "Augmented Text:\n",
            "the quick brown fox jumps both over on the lazy dog\n"
          ],
          "name": "stdout"
        }
      ]
    },
    {
      "cell_type": "code",
      "metadata": {
        "id": "4pb35981oq2j"
      },
      "source": [
        "#pkl file\n",
        "import pickle\n",
        "\n",
        "with open('/content/drive/MyDrive/Capstone-project_Bhavika/data_aug/backtranslation/data/labeled_1.pkl', 'rb') as f:\n",
        "    labeled_1 = pickle.load(f)\n",
        "\n",
        "with open('/content/drive/MyDrive/Capstone-project_Bhavika/data_aug/backtranslation/data/labeled_2.pkl', 'rb') as t:\n",
        "    labeled_2 = pickle.load(t)"
      ],
      "execution_count": null,
      "outputs": []
    },
    {
      "cell_type": "code",
      "metadata": {
        "colab": {
          "base_uri": "https://localhost:8080/",
          "height": 77
        },
        "id": "VuIKWquUpCxt",
        "outputId": "718b1e41-cc07-48ab-c24a-46e5d63d0a4e"
      },
      "source": [
        "labeled_1.head(1)"
      ],
      "execution_count": null,
      "outputs": [
        {
          "output_type": "execute_result",
          "data": {
            "text/html": [
              "<div>\n",
              "<style scoped>\n",
              "    .dataframe tbody tr th:only-of-type {\n",
              "        vertical-align: middle;\n",
              "    }\n",
              "\n",
              "    .dataframe tbody tr th {\n",
              "        vertical-align: top;\n",
              "    }\n",
              "\n",
              "    .dataframe thead th {\n",
              "        text-align: right;\n",
              "    }\n",
              "</style>\n",
              "<table border=\"1\" class=\"dataframe\">\n",
              "  <thead>\n",
              "    <tr style=\"text-align: right;\">\n",
              "      <th></th>\n",
              "      <th>full_text</th>\n",
              "      <th>label</th>\n",
              "    </tr>\n",
              "  </thead>\n",
              "  <tbody>\n",
              "    <tr>\n",
              "      <th>0</th>\n",
              "      <td>Hi piston  My crankshaft depends on your bore ...</td>\n",
              "      <td>Providing_information</td>\n",
              "    </tr>\n",
              "  </tbody>\n",
              "</table>\n",
              "</div>"
            ],
            "text/plain": [
              "                                           full_text                  label\n",
              "0  Hi piston  My crankshaft depends on your bore ...  Providing_information"
            ]
          },
          "metadata": {
            "tags": []
          },
          "execution_count": 25
        }
      ]
    },
    {
      "cell_type": "code",
      "metadata": {
        "colab": {
          "base_uri": "https://localhost:8080/",
          "height": 35
        },
        "id": "RMTIcpMcs21r",
        "outputId": "8b657a74-5ba6-4d30-d4e6-c74ca0aa48f9"
      },
      "source": [
        "labeled_1.full_text.iloc[1]"
      ],
      "execution_count": null,
      "outputs": [
        {
          "output_type": "execute_result",
          "data": {
            "application/vnd.google.colaboratory.intrinsic+json": {
              "type": "string"
            },
            "text/plain": [
              "'How low can you go on the piston bore diameter ? '"
            ]
          },
          "metadata": {
            "tags": []
          },
          "execution_count": 28
        }
      ]
    },
    {
      "cell_type": "code",
      "metadata": {
        "id": "VHmw7QVgYGNK"
      },
      "source": [
        "input_data = \"/content/drive/MyDrive/Capstone-project_Bhavika/data_aug/bert_aug/train_Q2.tsv\"\n",
        "output_file = \"/content/drive/MyDrive/Capstone-project_Bhavika/data_aug/bert_aug/distilbert_train_Q2.tsv\"\n",
        "writer = open(output_file, 'w')\n",
        "lines = open(input_data, 'r').readlines()\n",
        "\n",
        "\n",
        "for i, line in enumerate(lines):\n",
        "  # parts = line[:-1].split('\\t')\n",
        "  parts = line.split(\" \",1)\n",
        "  label = parts[0]\n",
        "  sentence = parts[1]\n",
        "  writer.write(label + \"\\t\" + aug.augment(parts[1]) + '\\n')\n",
        "  print(i)\n",
        "\n",
        "writer.close()"
      ],
      "execution_count": null,
      "outputs": []
    },
    {
      "cell_type": "code",
      "metadata": {
        "id": "bLgCe-_-uPEx"
      },
      "source": [
        "from csv import writer"
      ],
      "execution_count": null,
      "outputs": []
    },
    {
      "cell_type": "code",
      "metadata": {
        "id": "Eh8fW_p6sZLL"
      },
      "source": [
        "# input_data = \"/content/drive/MyDrive/Capstone-project_Bhavika/data_aug/bert_aug/train_Q2.tsv\"\n",
        "output_file = \"/content/drive/MyDrive/Capstone-project_Bhavika/data_aug/bert_aug/bert_labeled_2.csv\"\n",
        "# writer = open(output_file, 'w')\n",
        "# lines = open(input_data, 'r').readlines()\n",
        "\n",
        "\n",
        "with open(output_file, 'a') as f_object:\n",
        "    writer_object = writer(f_object)\n",
        "\n",
        "####For labeled_1\n",
        "    for i in range(labeled_2.shape[0]):\n",
        "      label = labeled_2.label.iloc[i]\n",
        "      sentence = labeled_2.full_text.iloc[i]\n",
        "      writer_object.writerow([aug.augment(sentence), label])\n",
        "      writer\n",
        "      print(i)\n"
      ],
      "execution_count": null,
      "outputs": []
    },
    {
      "cell_type": "code",
      "metadata": {
        "id": "fGRvUsHWxVcx"
      },
      "source": [
        "aug_labeled_1 = pd.read_csv('/content/drive/MyDrive/Capstone-project_Bhavika/data_aug/bert_aug/bert_labeled_1.csv', header = None)\n",
        "aug_labeled_2 = pd.read_csv('/content/drive/MyDrive/Capstone-project_Bhavika/data_aug/bert_aug/bert_labeled_2.csv', header = None)\n",
        "\n",
        "aug_labeled_1.columns = ['full_text', 'label']\n",
        "aug_labeled_2.columns = ['full_text', 'label']"
      ],
      "execution_count": null,
      "outputs": []
    },
    {
      "cell_type": "code",
      "metadata": {
        "id": "vewEHQUgyIAD"
      },
      "source": [
        "with open('/content/drive/MyDrive/Capstone-project_Bhavika/data_aug/bert_aug/bert_labeled_1.pkl', 'wb') as f:\n",
        "        pickle.dump(aug_labeled_1, f)\n",
        "\n",
        "with open('/content/drive/MyDrive/Capstone-project_Bhavika/data_aug/bert_aug/bert_labeled_2.pkl', 'wb') as f:\n",
        "        pickle.dump(aug_labeled_2, f)"
      ],
      "execution_count": null,
      "outputs": []
    },
    {
      "cell_type": "code",
      "metadata": {
        "colab": {
          "base_uri": "https://localhost:8080/",
          "height": 406
        },
        "id": "-mgKlHAcyzYr",
        "outputId": "e947c5be-a760-44fa-ab6d-60004db18a06"
      },
      "source": [
        "###test if pickle files were saved properly\n",
        "\n",
        "with open('/content/drive/MyDrive/Capstone-project_Bhavika/data_aug/bert_aug/bert_labeled_2.pkl', 'rb') as t:\n",
        "    bert_labeled_2 = pickle.load(t)\n",
        "bert_labeled_2"
      ],
      "execution_count": null,
      "outputs": [
        {
          "output_type": "execute_result",
          "data": {
            "text/html": [
              "<div>\n",
              "<style scoped>\n",
              "    .dataframe tbody tr th:only-of-type {\n",
              "        vertical-align: middle;\n",
              "    }\n",
              "\n",
              "    .dataframe tbody tr th {\n",
              "        vertical-align: top;\n",
              "    }\n",
              "\n",
              "    .dataframe thead th {\n",
              "        text-align: right;\n",
              "    }\n",
              "</style>\n",
              "<table border=\"1\" class=\"dataframe\">\n",
              "  <thead>\n",
              "    <tr style=\"text-align: right;\">\n",
              "      <th></th>\n",
              "      <th>full_text</th>\n",
              "      <th>label</th>\n",
              "    </tr>\n",
              "  </thead>\n",
              "  <tbody>\n",
              "    <tr>\n",
              "      <th>0</th>\n",
              "      <td>how low can pitch you go off on the piston bor...</td>\n",
              "      <td>Exploration_of_design_parameter_values</td>\n",
              "    </tr>\n",
              "    <tr>\n",
              "      <th>1</th>\n",
              "      <td>all my factorofsafety values tested are in abo...</td>\n",
              "      <td>Effects_of_design_parameters_on_objectives</td>\n",
              "    </tr>\n",
              "    <tr>\n",
              "      <th>2</th>\n",
              "      <td>1 hi flywheel shaft my crankshaft design depen...</td>\n",
              "      <td>Dependencies_between_design_parameters</td>\n",
              "    </tr>\n",
              "    <tr>\n",
              "      <th>3</th>\n",
              "      <td>min as of 40</td>\n",
              "      <td>Selected_design_parameter_values_for_objective(s)</td>\n",
              "    </tr>\n",
              "    <tr>\n",
              "      <th>4</th>\n",
              "      <td>what value works that best if for your simulat...</td>\n",
              "      <td>Exploration_of_design_parameter_values</td>\n",
              "    </tr>\n",
              "    <tr>\n",
              "      <th>...</th>\n",
              "      <td>...</td>\n",
              "      <td>...</td>\n",
              "    </tr>\n",
              "    <tr>\n",
              "      <th>223</th>\n",
              "      <td>we are at this excellent agian</td>\n",
              "      <td>Monitoring_objective_values</td>\n",
              "    </tr>\n",
              "    <tr>\n",
              "      <th>224</th>\n",
              "      <td>flywheel changed a value now and i once lost 5...</td>\n",
              "      <td>Effects_of_design_parameters_on_objectives</td>\n",
              "    </tr>\n",
              "    <tr>\n",
              "      <th>225</th>\n",
              "      <td>now i have decreased my weight parameter a bit</td>\n",
              "      <td>Effects_of_design_parameters_on_objectives</td>\n",
              "    </tr>\n",
              "    <tr>\n",
              "      <th>226</th>\n",
              "      <td>bearingoffset equals 1 to 0 60 pa dc equals to 15</td>\n",
              "      <td>Dependencies_between_design_parameters</td>\n",
              "    </tr>\n",
              "    <tr>\n",
              "      <th>227</th>\n",
              "      <td>now hey i need to know what double piston stro...</td>\n",
              "      <td>Exploration_of_design_parameter_values</td>\n",
              "    </tr>\n",
              "  </tbody>\n",
              "</table>\n",
              "<p>228 rows × 2 columns</p>\n",
              "</div>"
            ],
            "text/plain": [
              "                                             full_text                                              label\n",
              "0    how low can pitch you go off on the piston bor...             Exploration_of_design_parameter_values\n",
              "1    all my factorofsafety values tested are in abo...         Effects_of_design_parameters_on_objectives\n",
              "2    1 hi flywheel shaft my crankshaft design depen...             Dependencies_between_design_parameters\n",
              "3                                         min as of 40  Selected_design_parameter_values_for_objective(s)\n",
              "4    what value works that best if for your simulat...             Exploration_of_design_parameter_values\n",
              "..                                                 ...                                                ...\n",
              "223                     we are at this excellent agian                        Monitoring_objective_values\n",
              "224  flywheel changed a value now and i once lost 5...         Effects_of_design_parameters_on_objectives\n",
              "225     now i have decreased my weight parameter a bit         Effects_of_design_parameters_on_objectives\n",
              "226  bearingoffset equals 1 to 0 60 pa dc equals to 15             Dependencies_between_design_parameters\n",
              "227  now hey i need to know what double piston stro...             Exploration_of_design_parameter_values\n",
              "\n",
              "[228 rows x 2 columns]"
            ]
          },
          "metadata": {
            "tags": []
          },
          "execution_count": 39
        }
      ]
    },
    {
      "cell_type": "markdown",
      "metadata": {
        "id": "9TpRgFNYSHHF"
      },
      "source": [
        "Concluion: We found out that the best augmentation results were given out by m ethod 3. Hence, we used the augmented data given out by method 3 - i.e. by feeding surroundings word to BERT language model to find out the most suitlabe word for augmentation and moved on to do further steps."
      ]
    }
  ]
}