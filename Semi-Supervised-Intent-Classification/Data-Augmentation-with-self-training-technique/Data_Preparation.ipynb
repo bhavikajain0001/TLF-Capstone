{
  "nbformat": 4,
  "nbformat_minor": 0,
  "metadata": {
    "accelerator": "GPU",
    "colab": {
      "name": "Data_Preparation.ipynb",
      "provenance": [],
      "collapsed_sections": []
    },
    "kernelspec": {
      "display_name": "Python 3",
      "name": "python3"
    },
    "language_info": {
      "name": "python"
    }
  },
  "cells": [
    {
      "cell_type": "markdown",
      "metadata": {
        "id": "_fO5FZa0-epU"
      },
      "source": [
        "## Mounting the drive:"
      ]
    },
    {
      "cell_type": "code",
      "metadata": {
        "colab": {
          "base_uri": "https://localhost:8080/"
        },
        "id": "oArYt8UpmEHp",
        "outputId": "7758630b-c103-45a0-fc56-a584b90521fe"
      },
      "source": [
        "from google.colab import drive\n",
        "drive.mount('/content/drive')"
      ],
      "execution_count": null,
      "outputs": [
        {
          "output_type": "stream",
          "text": [
            "Drive already mounted at /content/drive; to attempt to forcibly remount, call drive.mount(\"/content/drive\", force_remount=True).\n"
          ],
          "name": "stdout"
        }
      ]
    },
    {
      "cell_type": "markdown",
      "metadata": {
        "id": "FMSpK8VW-pBN"
      },
      "source": [
        "## Data Preparation:"
      ]
    },
    {
      "cell_type": "code",
      "metadata": {
        "id": "tDLmPn5p-pg5"
      },
      "source": [
        "# Importing all the modules\n",
        "import os\n",
        "import csv\n",
        "import pandas as pd\n",
        "import numpy as np\n",
        "import torch\n",
        "import argparse\n",
        "import pickle\n",
        "import os\n",
        "import logging\n",
        "from tqdm import tqdm\n",
        "from sklearn.metrics import classification_report\n",
        "from sklearn.model_selection import train_test_split\n",
        "from sklearn.preprocessing import OneHotEncoder\n",
        "from sklearn.preprocessing import LabelEncoder\n",
        "import pickle\n",
        "import numpy as np\n",
        "import torch\n",
        "import matplotlib.pyplot as plt\n",
        "import warnings\n",
        "import torch.nn as nn\n",
        "from torch.utils.data import Dataset\n",
        "warnings.filterwarnings('ignore')\n",
        "%matplotlib notebook\n",
        "%matplotlib inline"
      ],
      "execution_count": null,
      "outputs": []
    },
    {
      "cell_type": "code",
      "metadata": {
        "colab": {
          "base_uri": "https://localhost:8080/",
          "height": 111
        },
        "id": "cSEHViuh_qm4",
        "outputId": "3d4c7cec-ffba-4e87-c6c2-9fd7a16a6429"
      },
      "source": [
        "# Reading the base line file which has 347 labeled data points\n",
        "df = pd.read_csv('/content/drive/MyDrive/projects/Capstone_Project/Checkpoint_5/GAN-BERT/original_data/chat_messages_intents.csv',na_values=' ')\n",
        "df = df[['body', 'intent_1', 'intent_2']]\n",
        "df.head(2)"
      ],
      "execution_count": null,
      "outputs": [
        {
          "output_type": "execute_result",
          "data": {
            "text/html": [
              "<div>\n",
              "<style scoped>\n",
              "    .dataframe tbody tr th:only-of-type {\n",
              "        vertical-align: middle;\n",
              "    }\n",
              "\n",
              "    .dataframe tbody tr th {\n",
              "        vertical-align: top;\n",
              "    }\n",
              "\n",
              "    .dataframe thead th {\n",
              "        text-align: right;\n",
              "    }\n",
              "</style>\n",
              "<table border=\"1\" class=\"dataframe\">\n",
              "  <thead>\n",
              "    <tr style=\"text-align: right;\">\n",
              "      <th></th>\n",
              "      <th>body</th>\n",
              "      <th>intent_1</th>\n",
              "      <th>intent_2</th>\n",
              "    </tr>\n",
              "  </thead>\n",
              "  <tbody>\n",
              "    <tr>\n",
              "      <th>0</th>\n",
              "      <td>Hi piston! My crankshaft depends on your bore ...</td>\n",
              "      <td>Providing information</td>\n",
              "      <td>NAN</td>\n",
              "    </tr>\n",
              "    <tr>\n",
              "      <th>1</th>\n",
              "      <td>thank you!</td>\n",
              "      <td>NAN</td>\n",
              "      <td>NAN</td>\n",
              "    </tr>\n",
              "  </tbody>\n",
              "</table>\n",
              "</div>"
            ],
            "text/plain": [
              "                                                body  ... intent_2\n",
              "0  Hi piston! My crankshaft depends on your bore ...  ...      NAN\n",
              "1                                         thank you!  ...      NAN\n",
              "\n",
              "[2 rows x 3 columns]"
            ]
          },
          "metadata": {
            "tags": []
          },
          "execution_count": 4
        }
      ]
    },
    {
      "cell_type": "code",
      "metadata": {
        "colab": {
          "base_uri": "https://localhost:8080/"
        },
        "id": "wkXCo5yJ_5Kb",
        "outputId": "f6799dfe-4e41-444d-fcef-981bf950b0b5"
      },
      "source": [
        "# Unique intents \n",
        "df['intent_1'].unique(), df['intent_2'].unique()"
      ],
      "execution_count": null,
      "outputs": [
        {
          "output_type": "execute_result",
          "data": {
            "text/plain": [
              "(array(['Providing information', 'NAN', 'Asking for information', nan],\n",
              "       dtype=object), array(['NAN', 'Exploration of design parameter values',\n",
              "        'Effects of design parameters on objectives',\n",
              "        'Dependencies between design parameters',\n",
              "        'Selected design parameter values for objective(s)',\n",
              "        'Monitoring objective values', nan, 'Tradeoff between objectives',\n",
              "        'Selected design parameter values for objective(s)\\r\\n',\n",
              "        'Effects of design parameters on objectives\\r\\n'], dtype=object))"
            ]
          },
          "metadata": {
            "tags": []
          },
          "execution_count": 5
        }
      ]
    },
    {
      "cell_type": "markdown",
      "metadata": {
        "id": "QweRzOdDAIhh"
      },
      "source": [
        "Takeaway: We have identified 3 unique intents for the first intent and 8 unique intents for the second intent experimental notebook. We plan to remove the NAN/ None of the above intent as it is not contributing much to the analysis."
      ]
    },
    {
      "cell_type": "markdown",
      "metadata": {
        "id": "gi8BhM9YsHvK"
      },
      "source": [
        "## Data Preprocessing\n"
      ]
    },
    {
      "cell_type": "markdown",
      "metadata": {
        "id": "yXFOI0QnsLq4"
      },
      "source": [
        "#### Spell Correction"
      ]
    },
    {
      "cell_type": "code",
      "metadata": {
        "colab": {
          "base_uri": "https://localhost:8080/"
        },
        "id": "0gIs-k9fr0U4",
        "outputId": "8b77ab26-6899-49ae-b177-526d03980a52"
      },
      "source": [
        "!pip install pyspellchecker"
      ],
      "execution_count": null,
      "outputs": [
        {
          "output_type": "stream",
          "text": [
            "Collecting pyspellchecker\n",
            "\u001b[?25l  Downloading https://files.pythonhosted.org/packages/64/c7/435f49c0ac6bec031d1aba4daf94dc21dc08a9db329692cdb77faac51cea/pyspellchecker-0.6.2-py3-none-any.whl (2.7MB)\n",
            "\u001b[K     |████████████████████████████████| 2.7MB 8.4MB/s \n",
            "\u001b[?25hInstalling collected packages: pyspellchecker\n",
            "Successfully installed pyspellchecker-0.6.2\n"
          ],
          "name": "stdout"
        }
      ]
    },
    {
      "cell_type": "code",
      "metadata": {
        "id": "o0Bn6wHjsP03"
      },
      "source": [
        "from spellchecker import SpellChecker\n",
        "\n",
        "spell = SpellChecker()\n",
        "def correct_spellings(text):\n",
        "    \"\"\"custom function to check the spelling of text\"\"\"\n",
        "    corrected_text = []\n",
        "    misspelled_words = spell.unknown(text.split())\n",
        "    for word in text.split():\n",
        "        if word in misspelled_words:\n",
        "            corrected_text.append(spell.correction(word))\n",
        "        else:\n",
        "            corrected_text.append(word)\n",
        "    return \" \".join(corrected_text)\n",
        "\n",
        "for i in range(len(df['body'])):     \n",
        "  text = df['body'][i]\n",
        "  correct_spellings(text)"
      ],
      "execution_count": null,
      "outputs": []
    },
    {
      "cell_type": "markdown",
      "metadata": {
        "id": "przOj1w8sbzv"
      },
      "source": [
        "#### Chat Word Conversion"
      ]
    },
    {
      "cell_type": "code",
      "metadata": {
        "colab": {
          "base_uri": "https://localhost:8080/"
        },
        "id": "Oq1-xEYvsdRv",
        "outputId": "1d156c19-669e-4e3b-b37d-f93d1bd0a1a0"
      },
      "source": [
        "import csv\n",
        "import re\n",
        "\n",
        "# Testing function for slang.txt\n",
        "def translator(user_string):\n",
        "    user_string = user_string.split(\" \")\n",
        "    j = 0\n",
        "    for _str in user_string:\n",
        "        # File path which consists of Abbreviations.\n",
        "        fileName = \"/content/drive/MyDrive/projects/Capstone_Project/Data_Checkpoint_2/slang.txt\"\n",
        "        # File Access mode [Read Mode]\n",
        "        accessMode = \"r\"\n",
        "        with open(fileName, accessMode) as myCSVfile:\n",
        "            # Reading file as CSV with delimiter as \"=\", so that abbreviation are stored in row[0] and phrases in row[1]\n",
        "            dataFromFile = csv.reader(myCSVfile, delimiter=\"=\")\n",
        "            # Removing Special Characters.\n",
        "            _str = re.sub('[^a-zA-Z0-9-_.]', '', _str)\n",
        "            for row in dataFromFile:\n",
        "                # Check if selected word matches short forms[LHS] in text file.\n",
        "                if _str.upper() == row[0]:\n",
        "                    # If match found replace it with its Abbreviation in text file.\n",
        "                    user_string[j] = row[1]\n",
        "            myCSVfile.close()\n",
        "        j = j + 1\n",
        "    # Replacing commas with spaces for final output.\n",
        "    print(' '.join(user_string))\n",
        "\n",
        "chat_words_str = pd.read_csv('/content/drive/MyDrive/projects/Capstone_Project/Data_Checkpoint_2/slang.txt', delimiter = \"\\t\")\n",
        "chat_words_str.T.reset_index().T\n",
        "chat_words_str.columns = ['Abbrevations']\n",
        "chat_words_str[['Abbrevations','Chat Words Converted']] = chat_words_str.Abbrevations.str.split(\"=\",expand=True) \n",
        "\n",
        "def chat_words_conversion(text):\n",
        "  \"\"\"custom function for chat words conversion\"\"\"\n",
        "  new_text = []\n",
        "  for w in text.split():\n",
        "    if w.upper() in chat_words_str['Abbrevations']:\n",
        "      new_text.append(chat_words_map_dict[w.upper()])\n",
        "    else:\n",
        "      new_text.append(w)\n",
        "  return \" \".join(new_text)\n",
        "\n",
        "df[\"body\"] = df[\"body\"].apply(lambda text: chat_words_conversion(text))\n",
        "df[\"body\"].head()"
      ],
      "execution_count": null,
      "outputs": [
        {
          "output_type": "execute_result",
          "data": {
            "text/plain": [
              "0    Hi piston! My crankshaft depends on your bore ...\n",
              "1                                           thank you!\n",
              "2      How low can you go on the piston bore diameter?\n",
              "3    all my fos values are in the hundreds, i suspe...\n",
              "4    Hi flywheel! My crankshaft depends on your fly...\n",
              "Name: body, dtype: object"
            ]
          },
          "metadata": {
            "tags": []
          },
          "execution_count": 8
        }
      ]
    },
    {
      "cell_type": "markdown",
      "metadata": {
        "id": "97_KOWXLtFjb"
      },
      "source": [
        "#### Expanding the symbols"
      ]
    },
    {
      "cell_type": "code",
      "metadata": {
        "id": "1td8rNRRtLu4"
      },
      "source": [
        "def expsym(user_string):\n",
        "    user_string = re.sub(\";\", \" ; \", user_string)\n",
        "    user_string = re.sub(\"\\\\?\", \" ? \", user_string)\n",
        "    user_string = re.sub(\"=\", \" equals to \", user_string)\n",
        "    user_string = re.sub(\":\", \" : \", user_string)\n",
        "    user_string = re.sub(\">\", \" greater than \", user_string)\n",
        "    user_string = re.sub(\"<\", \" lesser than \", user_string)\n",
        "    user_string = re.sub(\"_\", \" _ \", user_string)\n",
        "    user_string = re.sub(\"[^0-9a-zA-Z=\\s:;?_-]+\", \" \",user_string)\n",
        "    user_string = ' '.join(re.split('(\\d+)', user_string))\n",
        "    user_string = user_string.split(\" \")\n",
        "    # File path which consists of Abbreviations.\n",
        "    fileName = \"/content/drive/MyDrive/projects/Capstone_Project/Data_Checkpoint_2/symbols.txt\"\n",
        "    j = 0\n",
        "\n",
        "    for _str in user_string:\n",
        "      # File Access mode [Read Mode]\n",
        "      accessMode = \"r\"\n",
        "      with open(fileName, accessMode) as myCSVfile:\n",
        "      # Reading file as CSV with delimiter as \"=\", so that abbreviation are stored in row[0] and phrases in row[1]\n",
        "          dataFromFile = csv.reader(myCSVfile, delimiter=\"=\")\n",
        "          for row in dataFromFile:\n",
        "            # Check if selected word matches short forms[LHS] in text file.\n",
        "            if _str == row[0]:  \n",
        "              user_string[j] = row[1]   \n",
        "          myCSVfile.close()\n",
        "      j = j + 1\n",
        "    # Replacing commas with spaces for final output.\n",
        "    return ' '.join(user_string)"
      ],
      "execution_count": null,
      "outputs": []
    },
    {
      "cell_type": "code",
      "metadata": {
        "colab": {
          "background_save": true
        },
        "id": "J_ojrKU2taxj",
        "outputId": "5a186bfb-d5ae-4a19-b703-6e7554c3df92"
      },
      "source": [
        "for i in range(len(df['body'])):\n",
        "  df['body'][i] = expsym(df['body'][i])\n",
        "\n",
        "df['body']"
      ],
      "execution_count": null,
      "outputs": [
        {
          "output_type": "execute_result",
          "data": {
            "text/plain": [
              "0       Hi piston  My crankshaft depends on your bore ...\n",
              "1                                              thank you \n",
              "2       How low can you go on the piston bore diameter ? \n",
              "3       all my factorofsafety values are in the hundre...\n",
              "4       Hi flywheel  My crankshaft depends on your fly...\n",
              "                              ...                        \n",
              "7685                                   ok no one anything\n",
              "7686                                  increase it to  50 \n",
              "7687                  what about thickness of flywheel ? \n",
              "7688                                  its at  12   lowest\n",
              "7689                          raise it a little like  20 \n",
              "Name: body, Length: 7690, dtype: object"
            ]
          },
          "metadata": {
            "tags": []
          },
          "execution_count": 0
        }
      ]
    },
    {
      "cell_type": "markdown",
      "metadata": {
        "id": "B1sOQXwivyh0"
      },
      "source": [
        "## Dividing data set into labeled and unlabeled data parts:"
      ]
    },
    {
      "cell_type": "code",
      "metadata": {
        "colab": {
          "background_save": true
        },
        "id": "jS-FpVtOPrtF",
        "outputId": "8530d853-6c73-4db7-bafb-8f617a61e3f8"
      },
      "source": [
        "# Dividing dataset for two questions \n",
        "df_Q1 = df[['body', 'intent_1']]\n",
        "df_Q2 = df[['body', 'intent_2']]\n",
        "df_Q1.head(3), df_Q2.head(3)"
      ],
      "execution_count": null,
      "outputs": [
        {
          "output_type": "execute_result",
          "data": {
            "text/plain": [
              "(                                                body                intent_1\n",
              " 0  Hi piston  My crankshaft depends on your bore ...   Providing information\n",
              " 1                                         thank you                      NAN\n",
              " 2  How low can you go on the piston bore diameter ?   Asking for information,\n",
              "                                                 body                                intent_2\n",
              " 0  Hi piston  My crankshaft depends on your bore ...                                     NAN\n",
              " 1                                         thank you                                      NAN\n",
              " 2  How low can you go on the piston bore diameter ?   Exploration of design parameter values)"
            ]
          },
          "metadata": {
            "tags": []
          },
          "execution_count": 0
        }
      ]
    },
    {
      "cell_type": "code",
      "metadata": {
        "colab": {
          "background_save": true
        },
        "id": "EQI8GtXMAbqj",
        "outputId": "14d30cc0-b6ec-4610-aadb-01142b77e4ab"
      },
      "source": [
        "# Checking out the final labeled and unlabeled instances for the first df\n",
        "total_Q1 = len(df_Q1['intent_1'])\n",
        "unlabeled_instances_Q1 = df_Q1['intent_1'].isnull().sum()\n",
        "labeled_instances_Q1 = total_Q1 - unlabeled_instances_Q1\n",
        "print('Labeled instances in first dataframe: ', labeled_instances_Q1, ' and Unlabeled instances in first dataframe: ', unlabeled_instances_Q1)"
      ],
      "execution_count": null,
      "outputs": [
        {
          "output_type": "stream",
          "text": [
            "Labeled instances in first dataframe:  347  and Unlabeled instances in first dataframe:  7343\n"
          ],
          "name": "stdout"
        }
      ]
    },
    {
      "cell_type": "code",
      "metadata": {
        "colab": {
          "background_save": true
        },
        "id": "CYB0cFr0BTAw",
        "outputId": "adf49e7f-34df-4d53-85f4-66ee8d9c74cd"
      },
      "source": [
        "# Checking out the final labeled and unlabeled instances in the first instance\n",
        "total_Q2 = len(df_Q2['intent_2'])\n",
        "unlabeled_instances_Q2 = df_Q2['intent_2'].isnull().sum()\n",
        "labeled_instances_Q2 = total_Q2 - unlabeled_instances_Q2\n",
        "print('Labeled instances in second dataframe: ', labeled_instances_Q2, ' and Unlabeled instances in second dataframe: ', unlabeled_instances_Q2)"
      ],
      "execution_count": null,
      "outputs": [
        {
          "output_type": "stream",
          "text": [
            "Labeled instances in second dataframe:  347  and Unlabeled instances in second dataframe:  7343\n"
          ],
          "name": "stdout"
        }
      ]
    },
    {
      "cell_type": "code",
      "metadata": {
        "colab": {
          "background_save": true
        },
        "id": "eRV-q-2fABtm",
        "outputId": "61b5bc18-2c6e-4699-ce45-dc524749ac17"
      },
      "source": [
        "# Dropping the NAN/None of the above intent\n",
        "df_Q1.drop(index = df_Q1.index[(df_Q1['intent_1']=='NAN')], axis=0, inplace = True)\n",
        "df_Q2.drop(index = df_Q2.index[(df_Q2['intent_2']=='NAN')], axis=0, inplace = True)\n",
        "df_Q1['intent_1'].unique(), df_Q2['intent_2'].unique()"
      ],
      "execution_count": null,
      "outputs": [
        {
          "output_type": "execute_result",
          "data": {
            "text/plain": [
              "(array(['Providing information', 'Asking for information', nan],\n",
              "       dtype=object), array(['Exploration of design parameter values',\n",
              "        'Effects of design parameters on objectives',\n",
              "        'Dependencies between design parameters',\n",
              "        'Selected design parameter values for objective(s)',\n",
              "        'Monitoring objective values', nan, 'Tradeoff between objectives',\n",
              "        'Selected design parameter values for objective(s)\\r\\n',\n",
              "        'Effects of design parameters on objectives\\r\\n'], dtype=object))"
            ]
          },
          "metadata": {
            "tags": []
          },
          "execution_count": 0
        }
      ]
    },
    {
      "cell_type": "code",
      "metadata": {
        "colab": {
          "background_save": true
        },
        "id": "x34o8D-fhZVr",
        "outputId": "90c0a8c5-3f61-426f-ad9b-92f76fb65005"
      },
      "source": [
        "# Checking out the final labeled and unlabeled instances for the first df\n",
        "total_Q1 = len(df_Q1['intent_1'])\n",
        "unlabeled_instances_Q1 = df_Q1['intent_1'].isnull().sum()\n",
        "labeled_instances_Q1 = total_Q1 - unlabeled_instances_Q1\n",
        "print('Labeled instances in first dataframe: ', labeled_instances_Q1, ' and Unlabeled instances in first dataframe: ', unlabeled_instances_Q1)"
      ],
      "execution_count": null,
      "outputs": [
        {
          "output_type": "stream",
          "text": [
            "Labeled instances in first dataframe:  272  and Unlabeled instances in first dataframe:  7343\n"
          ],
          "name": "stdout"
        }
      ]
    },
    {
      "cell_type": "code",
      "metadata": {
        "colab": {
          "background_save": true
        },
        "id": "N976sfPqhatn",
        "outputId": "0f4c5a5e-a5ba-4a8b-856c-ea8b3d2ac965"
      },
      "source": [
        "# Checking out the final labeled and unlabeled instances in the first instance\n",
        "total_Q2 = len(df_Q2['intent_2'])\n",
        "unlabeled_instances_Q2 = df_Q2['intent_2'].isnull().sum()\n",
        "labeled_instances_Q2 = total_Q2 - unlabeled_instances_Q2\n",
        "print('Labeled instances in second dataframe: ', labeled_instances_Q2, ' and Unlabeled instances in second dataframe: ', unlabeled_instances_Q2)"
      ],
      "execution_count": null,
      "outputs": [
        {
          "output_type": "stream",
          "text": [
            "Labeled instances in second dataframe:  228  and Unlabeled instances in second dataframe:  7343\n"
          ],
          "name": "stdout"
        }
      ]
    },
    {
      "cell_type": "code",
      "metadata": {
        "colab": {
          "background_save": true
        },
        "id": "ME81hGWXB7WO",
        "outputId": "b2059cb8-a6ca-479a-fbc4-87983dbe4115"
      },
      "source": [
        "# Renaming columns to suitable names\n",
        "df_Q1.rename(columns = {'intent_1': 'label', 'body':'full_text'}, inplace = True)\n",
        "df_Q2.rename(columns = {'intent_2': 'label', 'body':'full_text'}, inplace = True)\n",
        "df_Q1.head(2), df_Q2.head(2)"
      ],
      "execution_count": null,
      "outputs": [
        {
          "output_type": "execute_result",
          "data": {
            "text/plain": [
              "(                                           full_text                   label\n",
              " 0  Hi piston  My crankshaft depends on your bore ...   Providing information\n",
              " 2  How low can you go on the piston bore diameter ?   Asking for information,\n",
              "                                            full_text                                       label\n",
              " 2  How low can you go on the piston bore diameter ?       Exploration of design parameter values\n",
              " 3  all my factorofsafety values are in the hundre...  Effects of design parameters on objectives)"
            ]
          },
          "metadata": {
            "tags": []
          },
          "execution_count": 0
        }
      ]
    },
    {
      "cell_type": "code",
      "metadata": {
        "colab": {
          "background_save": true
        },
        "id": "jOk4qpS7GBKc",
        "outputId": "a6f7547b-0693-49f3-ba12-1fb3d6b8d4d1"
      },
      "source": [
        "# Defining the unlabeled instances dataframe\n",
        "df_unlabeled_Q1 = df_Q1[pd.isnull(df_Q1['label'])]\n",
        "df_unlabeled_Q2 = df_Q2[pd.isnull(df_Q2['label'])]\n",
        "df_unlabeled_Q1 = df_unlabeled_Q1['full_text']\n",
        "df_unlabeled_Q2 = df_unlabeled_Q2['full_text']\n",
        "df_unlabeled_Q1, df_unlabeled_Q2"
      ],
      "execution_count": null,
      "outputs": [
        {
          "output_type": "execute_result",
          "data": {
            "text/plain": [
              "(56                  we have excellent quality right now\n",
              " 57      Have you broadcasted your most recent design ? \n",
              " 58                  we have excellent quality right now\n",
              " 65                             looks like we re done ? \n",
              " 68                                        seems like it\n",
              "                              ...                       \n",
              " 7685                                 ok no one anything\n",
              " 7686                                increase it to  50 \n",
              " 7687                what about thickness of flywheel ? \n",
              " 7688                                its at  12   lowest\n",
              " 7689                        raise it a little like  20 \n",
              " Name: full_text, Length: 7343, dtype: object,\n",
              " 56                  we have excellent quality right now\n",
              " 57      Have you broadcasted your most recent design ? \n",
              " 58                  we have excellent quality right now\n",
              " 65                             looks like we re done ? \n",
              " 68                                        seems like it\n",
              "                              ...                       \n",
              " 7685                                 ok no one anything\n",
              " 7686                                increase it to  50 \n",
              " 7687                what about thickness of flywheel ? \n",
              " 7688                                its at  12   lowest\n",
              " 7689                        raise it a little like  20 \n",
              " Name: full_text, Length: 7343, dtype: object)"
            ]
          },
          "metadata": {
            "tags": []
          },
          "execution_count": 0
        }
      ]
    },
    {
      "cell_type": "code",
      "metadata": {
        "colab": {
          "background_save": true
        },
        "id": "-I2sjAM2GJex",
        "outputId": "5ead592b-49f2-4b4c-9b8c-cb5e67121536"
      },
      "source": [
        "# Defining the labeled instances dataframe\n",
        "df_labeled_Q1 = df_Q1[pd.notnull(df_Q1['label'])]\n",
        "df_labeled_Q2 = df_Q2[pd.notnull(df_Q2['label'])]\n",
        "df_labeled_Q1,df_labeled_Q2"
      ],
      "execution_count": null,
      "outputs": [
        {
          "output_type": "execute_result",
          "data": {
            "text/plain": [
              "(                                             full_text                   label\n",
              " 0    Hi piston  My crankshaft depends on your bore ...   Providing information\n",
              " 2    How low can you go on the piston bore diameter ?   Asking for information\n",
              " 3    all my factorofsafety values are in the hundre...  Asking for information\n",
              " 4    Hi flywheel  My crankshaft depends on your fly...   Providing information\n",
              " 5                                          min of  40    Providing information\n",
              " ..                                                 ...                     ...\n",
              " 701                         we are at excelelent again   Providing information\n",
              " 719       flywheel changed a value and I lost  5  lbs    Providing information\n",
              " 729              I decreased my weight parameter a bit   Providing information\n",
              " 735    bearingoffset equals to  60   dc equals to  15    Providing information\n",
              " 772  Hey  I need to know what PISTON BORE DIAMETER ...  Asking for information\n",
              " \n",
              " [272 rows x 2 columns],\n",
              "                                              full_text                                              label\n",
              " 2    How low can you go on the piston bore diameter ?              Exploration of design parameter values\n",
              " 3    all my factorofsafety values are in the hundre...         Effects of design parameters on objectives\n",
              " 4    Hi flywheel  My crankshaft depends on your fly...             Dependencies between design parameters\n",
              " 5                                          min of  40   Selected design parameter values for objective(s)\n",
              " 6         What value works best for your simulation ?              Exploration of design parameter values\n",
              " ..                                                 ...                                                ...\n",
              " 698                          we are at excellent agian                        Monitoring objective values\n",
              " 719       flywheel changed a value and I lost  5  lbs          Effects of design parameters on objectives\n",
              " 729              I decreased my weight parameter a bit         Effects of design parameters on objectives\n",
              " 735    bearingoffset equals to  60   dc equals to  15              Dependencies between design parameters\n",
              " 772  Hey  I need to know what PISTON BORE DIAMETER ...             Exploration of design parameter values\n",
              " \n",
              " [228 rows x 2 columns])"
            ]
          },
          "metadata": {
            "tags": []
          },
          "execution_count": 0
        }
      ]
    },
    {
      "cell_type": "code",
      "metadata": {
        "colab": {
          "background_save": true
        },
        "id": "ya9TQHr0iNDy"
      },
      "source": [
        "# Mapping intents to shorter abbreviations\n",
        "intent = {'Asking for information': 'Asking_for_information','Providing information': 'Providing_information'}\n",
        "sub_intent = {'Exploration of design parameter values' : 'Exploration_of_design_parameter_values',\n",
        "        'Effects of design parameters on objectives': 'Effects_of_design_parameters_on_objectives',\n",
        "        'Effects of design parameters on objectives\\r\\n' : 'Effects_of_design_parameters_on_objectives',\n",
        "        'Dependencies between design parameters' : 'Dependencies_between_design_parameters',\n",
        "        'Selected design parameter values for objective(s)': 'Selected_design_parameter_values_for_objective(s)',\n",
        "        'Monitoring objective values':'Monitoring_objective_values', 'Tradeoff between objectives': 'Tradeoff_between_objectives',\n",
        "        'Selected design parameter values for objective(s)\\r\\n': 'Selected_design_parameter_values_for_objective(s)'}      "
      ],
      "execution_count": null,
      "outputs": []
    },
    {
      "cell_type": "code",
      "metadata": {
        "colab": {
          "background_save": true
        },
        "id": "4kdjpnVWi2Vm",
        "outputId": "d01df6d6-f20c-4f53-9b31-1fe4da9866f1"
      },
      "source": [
        "# Cleaning the labeled dataset\n",
        "df_labeled_Q1[\"label\"] = df_labeled_Q1[\"label\"].map(intent)\n",
        "df_labeled_Q2[\"label\"] = df_labeled_Q2[\"label\"].map(sub_intent)\n",
        "df_labeled_Q1.head(2), df_labeled_Q2.head(2)"
      ],
      "execution_count": null,
      "outputs": [
        {
          "output_type": "execute_result",
          "data": {
            "text/plain": [
              "(                                           full_text                   label\n",
              " 0  Hi piston  My crankshaft depends on your bore ...   Providing_information\n",
              " 2  How low can you go on the piston bore diameter ?   Asking_for_information,\n",
              "                                            full_text                                       label\n",
              " 2  How low can you go on the piston bore diameter ?       Exploration_of_design_parameter_values\n",
              " 3  all my factorofsafety values are in the hundre...  Effects_of_design_parameters_on_objectives)"
            ]
          },
          "metadata": {
            "tags": []
          },
          "execution_count": 0
        }
      ]
    },
    {
      "cell_type": "code",
      "metadata": {
        "colab": {
          "background_save": true
        },
        "id": "3b91jeEhCROb",
        "outputId": "d0770a2f-c874-4916-e1e5-1532b776a0d3"
      },
      "source": [
        "# Double checking the intents of labeled dataset\n",
        "df_labeled_Q1.label.unique(), df_labeled_Q2.label.unique()"
      ],
      "execution_count": null,
      "outputs": [
        {
          "output_type": "execute_result",
          "data": {
            "text/plain": [
              "(array(['Providing_information', 'Asking_for_information'], dtype=object),\n",
              " array(['Exploration_of_design_parameter_values',\n",
              "        'Effects_of_design_parameters_on_objectives',\n",
              "        'Dependencies_between_design_parameters',\n",
              "        'Selected_design_parameter_values_for_objective(s)',\n",
              "        'Monitoring_objective_values', 'Tradeoff_between_objectives'],\n",
              "       dtype=object))"
            ]
          },
          "metadata": {
            "tags": []
          },
          "execution_count": 0
        }
      ]
    },
    {
      "cell_type": "code",
      "metadata": {
        "colab": {
          "background_save": true
        },
        "id": "0lRnWPlMuLzN",
        "outputId": "b73290b1-173c-4d5e-cdb7-9b1977cbede1"
      },
      "source": [
        "pd.value_counts(df_labeled_Q1['label']).plot.bar()"
      ],
      "execution_count": null,
      "outputs": [
        {
          "output_type": "execute_result",
          "data": {
            "text/plain": [
              "<matplotlib.axes._subplots.AxesSubplot at 0x7ff7c3d50890>"
            ]
          },
          "metadata": {
            "tags": []
          },
          "execution_count": 0
        },
        {
          "output_type": "display_data",
          "data": {
            "image/png": "[encoded data removed]",
            "text/plain": [
              "<Figure size 432x288 with 1 Axes>"
            ]
          },
          "metadata": {
            "tags": []
          }
        }
      ]
    },
    {
      "cell_type": "code",
      "metadata": {
        "colab": {
          "background_save": true
        },
        "id": "wCNaQwhF-2To",
        "outputId": "c6476bde-7e1e-4422-ddff-b1dd8be0aefd"
      },
      "source": [
        "pd.value_counts(df_labeled_Q2['label']).plot.bar()"
      ],
      "execution_count": null,
      "outputs": [
        {
          "output_type": "execute_result",
          "data": {
            "text/plain": [
              "<matplotlib.axes._subplots.AxesSubplot at 0x7ff7c3c07e50>"
            ]
          },
          "metadata": {
            "tags": []
          },
          "execution_count": 0
        },
        {
          "output_type": "display_data",
          "data": {
            "image/png": "[encoded data removed]",
            "text/plain": [
              "<Figure size 432x288 with 1 Axes>"
            ]
          },
          "metadata": {
            "tags": []
          }
        }
      ]
    },
    {
      "cell_type": "code",
      "metadata": {
        "colab": {
          "background_save": true
        },
        "id": "z3CxALJpTNe4",
        "outputId": "3beb1fbf-9948-4e82-9b44-b68b3a6d1f43"
      },
      "source": [
        "print('length of df_labeled_Q1: ', len(df_labeled_Q1) , ', length of df_unlabeled_Q1: ', len(df_unlabeled_Q1) , \n",
        "      'and length of df_labeled_Q2: ', len(df_labeled_Q2) , ', length of df_unlabeled_Q2: ', len(df_unlabeled_Q2))      "
      ],
      "execution_count": null,
      "outputs": [
        {
          "output_type": "stream",
          "text": [
            "length of df_labeled_Q1:  272 , length of df_unlabeled_Q1:  7343 and length of df_labeled_Q2:  228 , length of df_unlabeled_Q2:  7343\n"
          ],
          "name": "stdout"
        }
      ]
    },
    {
      "cell_type": "code",
      "metadata": {
        "colab": {
          "background_save": true
        },
        "id": "l8xCZzF59Zlh",
        "outputId": "278f3df2-0e3e-4d2b-cf78-61dbb09019c7"
      },
      "source": [
        "# Get one hot encoding of columns label\n",
        "one_hot = pd.get_dummies(df_labeled_Q1['label'])\n",
        "# Drop column label as it is now encoded\n",
        "df_labeled_Q1 = df_labeled_Q1.drop('label',axis = 1)\n",
        "# Join the encoded df\n",
        "df_labeled_Q1 = df_labeled_Q1.join(one_hot)\n",
        "df_labeled_Q1  "
      ],
      "execution_count": null,
      "outputs": [
        {
          "output_type": "execute_result",
          "data": {
            "text/html": [
              "<div>\n",
              "<style scoped>\n",
              "    .dataframe tbody tr th:only-of-type {\n",
              "        vertical-align: middle;\n",
              "    }\n",
              "\n",
              "    .dataframe tbody tr th {\n",
              "        vertical-align: top;\n",
              "    }\n",
              "\n",
              "    .dataframe thead th {\n",
              "        text-align: right;\n",
              "    }\n",
              "</style>\n",
              "<table border=\"1\" class=\"dataframe\">\n",
              "  <thead>\n",
              "    <tr style=\"text-align: right;\">\n",
              "      <th></th>\n",
              "      <th>full_text</th>\n",
              "      <th>Asking_for_information</th>\n",
              "      <th>Providing_information</th>\n",
              "    </tr>\n",
              "  </thead>\n",
              "  <tbody>\n",
              "    <tr>\n",
              "      <th>0</th>\n",
              "      <td>Hi piston  My crankshaft depends on your bore ...</td>\n",
              "      <td>0</td>\n",
              "      <td>1</td>\n",
              "    </tr>\n",
              "    <tr>\n",
              "      <th>2</th>\n",
              "      <td>How low can you go on the piston bore diameter ?</td>\n",
              "      <td>1</td>\n",
              "      <td>0</td>\n",
              "    </tr>\n",
              "    <tr>\n",
              "      <th>3</th>\n",
              "      <td>all my factorofsafety values are in the hundre...</td>\n",
              "      <td>1</td>\n",
              "      <td>0</td>\n",
              "    </tr>\n",
              "    <tr>\n",
              "      <th>4</th>\n",
              "      <td>Hi flywheel  My crankshaft depends on your fly...</td>\n",
              "      <td>0</td>\n",
              "      <td>1</td>\n",
              "    </tr>\n",
              "    <tr>\n",
              "      <th>5</th>\n",
              "      <td>min of  40</td>\n",
              "      <td>0</td>\n",
              "      <td>1</td>\n",
              "    </tr>\n",
              "    <tr>\n",
              "      <th>...</th>\n",
              "      <td>...</td>\n",
              "      <td>...</td>\n",
              "      <td>...</td>\n",
              "    </tr>\n",
              "    <tr>\n",
              "      <th>701</th>\n",
              "      <td>we are at excelelent again</td>\n",
              "      <td>0</td>\n",
              "      <td>1</td>\n",
              "    </tr>\n",
              "    <tr>\n",
              "      <th>719</th>\n",
              "      <td>flywheel changed a value and I lost  5  lbs</td>\n",
              "      <td>0</td>\n",
              "      <td>1</td>\n",
              "    </tr>\n",
              "    <tr>\n",
              "      <th>729</th>\n",
              "      <td>I decreased my weight parameter a bit</td>\n",
              "      <td>0</td>\n",
              "      <td>1</td>\n",
              "    </tr>\n",
              "    <tr>\n",
              "      <th>735</th>\n",
              "      <td>bearingoffset equals to  60   dc equals to  15</td>\n",
              "      <td>0</td>\n",
              "      <td>1</td>\n",
              "    </tr>\n",
              "    <tr>\n",
              "      <th>772</th>\n",
              "      <td>Hey  I need to know what PISTON BORE DIAMETER ...</td>\n",
              "      <td>1</td>\n",
              "      <td>0</td>\n",
              "    </tr>\n",
              "  </tbody>\n",
              "</table>\n",
              "<p>272 rows × 3 columns</p>\n",
              "</div>"
            ],
            "text/plain": [
              "                                             full_text  ...  Providing_information\n",
              "0    Hi piston  My crankshaft depends on your bore ...  ...                      1\n",
              "2    How low can you go on the piston bore diameter ?   ...                      0\n",
              "3    all my factorofsafety values are in the hundre...  ...                      0\n",
              "4    Hi flywheel  My crankshaft depends on your fly...  ...                      1\n",
              "5                                          min of  40   ...                      1\n",
              "..                                                 ...  ...                    ...\n",
              "701                         we are at excelelent again  ...                      1\n",
              "719       flywheel changed a value and I lost  5  lbs   ...                      1\n",
              "729              I decreased my weight parameter a bit  ...                      1\n",
              "735    bearingoffset equals to  60   dc equals to  15   ...                      1\n",
              "772  Hey  I need to know what PISTON BORE DIAMETER ...  ...                      0\n",
              "\n",
              "[272 rows x 3 columns]"
            ]
          },
          "metadata": {
            "tags": []
          },
          "execution_count": 0
        }
      ]
    },
    {
      "cell_type": "code",
      "metadata": {
        "colab": {
          "background_save": true
        },
        "id": "dTAfLPxCoFK4",
        "outputId": "498771e9-e045-4608-db81-092966377fd8"
      },
      "source": [
        "# Get one hot encoding of columns label\n",
        "one_hot = pd.get_dummies(df_labeled_Q2['label'])\n",
        "# Drop column label as it is now encoded\n",
        "df_labeled_Q2 = df_labeled_Q2.drop('label',axis = 1)\n",
        "# Join the encoded df\n",
        "df_labeled_Q2 = df_labeled_Q2.join(one_hot)\n",
        "df_labeled_Q2  "
      ],
      "execution_count": null,
      "outputs": [
        {
          "output_type": "execute_result",
          "data": {
            "text/html": [
              "<div>\n",
              "<style scoped>\n",
              "    .dataframe tbody tr th:only-of-type {\n",
              "        vertical-align: middle;\n",
              "    }\n",
              "\n",
              "    .dataframe tbody tr th {\n",
              "        vertical-align: top;\n",
              "    }\n",
              "\n",
              "    .dataframe thead th {\n",
              "        text-align: right;\n",
              "    }\n",
              "</style>\n",
              "<table border=\"1\" class=\"dataframe\">\n",
              "  <thead>\n",
              "    <tr style=\"text-align: right;\">\n",
              "      <th></th>\n",
              "      <th>full_text</th>\n",
              "      <th>Dependencies_between_design_parameters</th>\n",
              "      <th>Effects_of_design_parameters_on_objectives</th>\n",
              "      <th>Exploration_of_design_parameter_values</th>\n",
              "      <th>Monitoring_objective_values</th>\n",
              "      <th>Selected_design_parameter_values_for_objective(s)</th>\n",
              "      <th>Tradeoff_between_objectives</th>\n",
              "    </tr>\n",
              "  </thead>\n",
              "  <tbody>\n",
              "    <tr>\n",
              "      <th>2</th>\n",
              "      <td>How low can you go on the piston bore diameter ?</td>\n",
              "      <td>0</td>\n",
              "      <td>0</td>\n",
              "      <td>1</td>\n",
              "      <td>0</td>\n",
              "      <td>0</td>\n",
              "      <td>0</td>\n",
              "    </tr>\n",
              "    <tr>\n",
              "      <th>3</th>\n",
              "      <td>all my factorofsafety values are in the hundre...</td>\n",
              "      <td>0</td>\n",
              "      <td>1</td>\n",
              "      <td>0</td>\n",
              "      <td>0</td>\n",
              "      <td>0</td>\n",
              "      <td>0</td>\n",
              "    </tr>\n",
              "    <tr>\n",
              "      <th>4</th>\n",
              "      <td>Hi flywheel  My crankshaft depends on your fly...</td>\n",
              "      <td>1</td>\n",
              "      <td>0</td>\n",
              "      <td>0</td>\n",
              "      <td>0</td>\n",
              "      <td>0</td>\n",
              "      <td>0</td>\n",
              "    </tr>\n",
              "    <tr>\n",
              "      <th>5</th>\n",
              "      <td>min of  40</td>\n",
              "      <td>0</td>\n",
              "      <td>0</td>\n",
              "      <td>0</td>\n",
              "      <td>0</td>\n",
              "      <td>1</td>\n",
              "      <td>0</td>\n",
              "    </tr>\n",
              "    <tr>\n",
              "      <th>6</th>\n",
              "      <td>What value works best for your simulation ?</td>\n",
              "      <td>0</td>\n",
              "      <td>0</td>\n",
              "      <td>1</td>\n",
              "      <td>0</td>\n",
              "      <td>0</td>\n",
              "      <td>0</td>\n",
              "    </tr>\n",
              "    <tr>\n",
              "      <th>...</th>\n",
              "      <td>...</td>\n",
              "      <td>...</td>\n",
              "      <td>...</td>\n",
              "      <td>...</td>\n",
              "      <td>...</td>\n",
              "      <td>...</td>\n",
              "      <td>...</td>\n",
              "    </tr>\n",
              "    <tr>\n",
              "      <th>698</th>\n",
              "      <td>we are at excellent agian</td>\n",
              "      <td>0</td>\n",
              "      <td>0</td>\n",
              "      <td>0</td>\n",
              "      <td>1</td>\n",
              "      <td>0</td>\n",
              "      <td>0</td>\n",
              "    </tr>\n",
              "    <tr>\n",
              "      <th>719</th>\n",
              "      <td>flywheel changed a value and I lost  5  lbs</td>\n",
              "      <td>0</td>\n",
              "      <td>1</td>\n",
              "      <td>0</td>\n",
              "      <td>0</td>\n",
              "      <td>0</td>\n",
              "      <td>0</td>\n",
              "    </tr>\n",
              "    <tr>\n",
              "      <th>729</th>\n",
              "      <td>I decreased my weight parameter a bit</td>\n",
              "      <td>0</td>\n",
              "      <td>1</td>\n",
              "      <td>0</td>\n",
              "      <td>0</td>\n",
              "      <td>0</td>\n",
              "      <td>0</td>\n",
              "    </tr>\n",
              "    <tr>\n",
              "      <th>735</th>\n",
              "      <td>bearingoffset equals to  60   dc equals to  15</td>\n",
              "      <td>1</td>\n",
              "      <td>0</td>\n",
              "      <td>0</td>\n",
              "      <td>0</td>\n",
              "      <td>0</td>\n",
              "      <td>0</td>\n",
              "    </tr>\n",
              "    <tr>\n",
              "      <th>772</th>\n",
              "      <td>Hey  I need to know what PISTON BORE DIAMETER ...</td>\n",
              "      <td>0</td>\n",
              "      <td>0</td>\n",
              "      <td>1</td>\n",
              "      <td>0</td>\n",
              "      <td>0</td>\n",
              "      <td>0</td>\n",
              "    </tr>\n",
              "  </tbody>\n",
              "</table>\n",
              "<p>228 rows × 7 columns</p>\n",
              "</div>"
            ],
            "text/plain": [
              "                                             full_text  ...  Tradeoff_between_objectives\n",
              "2    How low can you go on the piston bore diameter ?   ...                            0\n",
              "3    all my factorofsafety values are in the hundre...  ...                            0\n",
              "4    Hi flywheel  My crankshaft depends on your fly...  ...                            0\n",
              "5                                          min of  40   ...                            0\n",
              "6         What value works best for your simulation ?   ...                            0\n",
              "..                                                 ...  ...                          ...\n",
              "698                          we are at excellent agian  ...                            0\n",
              "719       flywheel changed a value and I lost  5  lbs   ...                            0\n",
              "729              I decreased my weight parameter a bit  ...                            0\n",
              "735    bearingoffset equals to  60   dc equals to  15   ...                            0\n",
              "772  Hey  I need to know what PISTON BORE DIAMETER ...  ...                            0\n",
              "\n",
              "[228 rows x 7 columns]"
            ]
          },
          "metadata": {
            "tags": []
          },
          "execution_count": 0
        }
      ]
    },
    {
      "cell_type": "code",
      "metadata": {
        "colab": {
          "background_save": true
        },
        "id": "VcFEP37fskPF"
      },
      "source": [
        "df_data_aug_labeled_1 = pd.read_csv('/content/drive/MyDrive/projects/Capstone_Project/Checkpoint_6/processed_data/dataaug_bert_labeled_1.csv', names = ['full_text','label'])\n",
        "df_data_aug_labeled_2 = pd.read_csv('/content/drive/MyDrive/projects/Capstone_Project/Checkpoint_6/processed_data/dataaug_bert_labeled_2.csv', names = ['full_text','label'])"
      ],
      "execution_count": null,
      "outputs": []
    },
    {
      "cell_type": "code",
      "metadata": {
        "colab": {
          "background_save": true
        },
        "id": "GqbYLAiFs5cH",
        "outputId": "eaee048b-66e7-453e-acd1-e500a674b178"
      },
      "source": [
        "# Get one hot encoding of columns label\n",
        "one_hot = pd.get_dummies(df_data_aug_labeled_1['label'])\n",
        "# Drop column label as it is now encoded\n",
        "df_data_aug_labeled_1 = df_data_aug_labeled_1.drop('label',axis = 1)\n",
        "# Join the encoded df\n",
        "df_data_aug_labeled_1 = df_data_aug_labeled_1.join(one_hot)\n",
        "df_data_aug_labeled_1  "
      ],
      "execution_count": null,
      "outputs": [
        {
          "output_type": "execute_result",
          "data": {
            "text/html": [
              "<div>\n",
              "<style scoped>\n",
              "    .dataframe tbody tr th:only-of-type {\n",
              "        vertical-align: middle;\n",
              "    }\n",
              "\n",
              "    .dataframe tbody tr th {\n",
              "        vertical-align: top;\n",
              "    }\n",
              "\n",
              "    .dataframe thead th {\n",
              "        text-align: right;\n",
              "    }\n",
              "</style>\n",
              "<table border=\"1\" class=\"dataframe\">\n",
              "  <thead>\n",
              "    <tr style=\"text-align: right;\">\n",
              "      <th></th>\n",
              "      <th>full_text</th>\n",
              "      <th>Asking_for_information</th>\n",
              "      <th>Providing_information</th>\n",
              "    </tr>\n",
              "  </thead>\n",
              "  <tbody>\n",
              "    <tr>\n",
              "      <th>0</th>\n",
              "      <td>hi piston my crankshaft depends on your bore p...</td>\n",
              "      <td>0</td>\n",
              "      <td>1</td>\n",
              "    </tr>\n",
              "    <tr>\n",
              "      <th>1</th>\n",
              "      <td>how great low that can let you go on the pisto...</td>\n",
              "      <td>1</td>\n",
              "      <td>0</td>\n",
              "    </tr>\n",
              "    <tr>\n",
              "      <th>2</th>\n",
              "      <td>all my cash factorofsafety values are in the e...</td>\n",
              "      <td>1</td>\n",
              "      <td>0</td>\n",
              "    </tr>\n",
              "    <tr>\n",
              "      <th>3</th>\n",
              "      <td>o hi flywheel my crankshaft depends on your fl...</td>\n",
              "      <td>0</td>\n",
              "      <td>1</td>\n",
              "    </tr>\n",
              "    <tr>\n",
              "      <th>4</th>\n",
              "      <td>min of episode 40</td>\n",
              "      <td>0</td>\n",
              "      <td>1</td>\n",
              "    </tr>\n",
              "    <tr>\n",
              "      <th>...</th>\n",
              "      <td>...</td>\n",
              "      <td>...</td>\n",
              "      <td>...</td>\n",
              "    </tr>\n",
              "    <tr>\n",
              "      <th>267</th>\n",
              "      <td>we are at his excelelent port again</td>\n",
              "      <td>0</td>\n",
              "      <td>1</td>\n",
              "    </tr>\n",
              "    <tr>\n",
              "      <th>268</th>\n",
              "      <td>flywheel changed a value and by i had lost 5 l...</td>\n",
              "      <td>0</td>\n",
              "      <td>1</td>\n",
              "    </tr>\n",
              "    <tr>\n",
              "      <th>269</th>\n",
              "      <td>i greatly decreased my weight parameter of a bit</td>\n",
              "      <td>0</td>\n",
              "      <td>1</td>\n",
              "    </tr>\n",
              "    <tr>\n",
              "      <th>270</th>\n",
              "      <td>bearingoffset equals to only 60 so dc equals u...</td>\n",
              "      <td>0</td>\n",
              "      <td>1</td>\n",
              "    </tr>\n",
              "    <tr>\n",
              "      <th>271</th>\n",
              "      <td>hey and i also need information to know what p...</td>\n",
              "      <td>1</td>\n",
              "      <td>0</td>\n",
              "    </tr>\n",
              "  </tbody>\n",
              "</table>\n",
              "<p>272 rows × 3 columns</p>\n",
              "</div>"
            ],
            "text/plain": [
              "                                             full_text  ...  Providing_information\n",
              "0    hi piston my crankshaft depends on your bore p...  ...                      1\n",
              "1    how great low that can let you go on the pisto...  ...                      0\n",
              "2    all my cash factorofsafety values are in the e...  ...                      0\n",
              "3    o hi flywheel my crankshaft depends on your fl...  ...                      1\n",
              "4                                    min of episode 40  ...                      1\n",
              "..                                                 ...  ...                    ...\n",
              "267                we are at his excelelent port again  ...                      1\n",
              "268  flywheel changed a value and by i had lost 5 l...  ...                      1\n",
              "269   i greatly decreased my weight parameter of a bit  ...                      1\n",
              "270  bearingoffset equals to only 60 so dc equals u...  ...                      1\n",
              "271  hey and i also need information to know what p...  ...                      0\n",
              "\n",
              "[272 rows x 3 columns]"
            ]
          },
          "metadata": {
            "tags": []
          },
          "execution_count": 0
        }
      ]
    },
    {
      "cell_type": "code",
      "metadata": {
        "colab": {
          "background_save": true
        },
        "id": "n1y4stDVtx4d",
        "outputId": "a6f547a6-a884-4959-9f07-ae5751c8b845"
      },
      "source": [
        "# Get one hot encoding of columns label\n",
        "one_hot = pd.get_dummies(df_data_aug_labeled_2['label'])\n",
        "# Drop column label as it is now encoded\n",
        "df_data_aug_labeled_2 = df_data_aug_labeled_2.drop('label',axis = 1)\n",
        "# Join the encoded df\n",
        "df_data_aug_labeled_2 = df_data_aug_labeled_2.join(one_hot)\n",
        "df_data_aug_labeled_2  "
      ],
      "execution_count": null,
      "outputs": [
        {
          "output_type": "execute_result",
          "data": {
            "text/html": [
              "<div>\n",
              "<style scoped>\n",
              "    .dataframe tbody tr th:only-of-type {\n",
              "        vertical-align: middle;\n",
              "    }\n",
              "\n",
              "    .dataframe tbody tr th {\n",
              "        vertical-align: top;\n",
              "    }\n",
              "\n",
              "    .dataframe thead th {\n",
              "        text-align: right;\n",
              "    }\n",
              "</style>\n",
              "<table border=\"1\" class=\"dataframe\">\n",
              "  <thead>\n",
              "    <tr style=\"text-align: right;\">\n",
              "      <th></th>\n",
              "      <th>full_text</th>\n",
              "      <th>Dependencies_between_design_parameters</th>\n",
              "      <th>Effects_of_design_parameters_on_objectives</th>\n",
              "      <th>Exploration_of_design_parameter_values</th>\n",
              "      <th>Monitoring_objective_values</th>\n",
              "      <th>Selected_design_parameter_values_for_objective(s)</th>\n",
              "      <th>Tradeoff_between_objectives</th>\n",
              "    </tr>\n",
              "  </thead>\n",
              "  <tbody>\n",
              "    <tr>\n",
              "      <th>0</th>\n",
              "      <td>how low can pitch you go off on the piston bor...</td>\n",
              "      <td>0</td>\n",
              "      <td>0</td>\n",
              "      <td>1</td>\n",
              "      <td>0</td>\n",
              "      <td>0</td>\n",
              "      <td>0</td>\n",
              "    </tr>\n",
              "    <tr>\n",
              "      <th>1</th>\n",
              "      <td>all my factorofsafety values tested are in abo...</td>\n",
              "      <td>0</td>\n",
              "      <td>1</td>\n",
              "      <td>0</td>\n",
              "      <td>0</td>\n",
              "      <td>0</td>\n",
              "      <td>0</td>\n",
              "    </tr>\n",
              "    <tr>\n",
              "      <th>2</th>\n",
              "      <td>1 hi flywheel shaft my crankshaft design depen...</td>\n",
              "      <td>1</td>\n",
              "      <td>0</td>\n",
              "      <td>0</td>\n",
              "      <td>0</td>\n",
              "      <td>0</td>\n",
              "      <td>0</td>\n",
              "    </tr>\n",
              "    <tr>\n",
              "      <th>3</th>\n",
              "      <td>min as of 40</td>\n",
              "      <td>0</td>\n",
              "      <td>0</td>\n",
              "      <td>0</td>\n",
              "      <td>0</td>\n",
              "      <td>1</td>\n",
              "      <td>0</td>\n",
              "    </tr>\n",
              "    <tr>\n",
              "      <th>4</th>\n",
              "      <td>what value works that best if for your simulat...</td>\n",
              "      <td>0</td>\n",
              "      <td>0</td>\n",
              "      <td>1</td>\n",
              "      <td>0</td>\n",
              "      <td>0</td>\n",
              "      <td>0</td>\n",
              "    </tr>\n",
              "    <tr>\n",
              "      <th>...</th>\n",
              "      <td>...</td>\n",
              "      <td>...</td>\n",
              "      <td>...</td>\n",
              "      <td>...</td>\n",
              "      <td>...</td>\n",
              "      <td>...</td>\n",
              "      <td>...</td>\n",
              "    </tr>\n",
              "    <tr>\n",
              "      <th>223</th>\n",
              "      <td>we are at this excellent agian</td>\n",
              "      <td>0</td>\n",
              "      <td>0</td>\n",
              "      <td>0</td>\n",
              "      <td>1</td>\n",
              "      <td>0</td>\n",
              "      <td>0</td>\n",
              "    </tr>\n",
              "    <tr>\n",
              "      <th>224</th>\n",
              "      <td>flywheel changed a value now and i once lost 5...</td>\n",
              "      <td>0</td>\n",
              "      <td>1</td>\n",
              "      <td>0</td>\n",
              "      <td>0</td>\n",
              "      <td>0</td>\n",
              "      <td>0</td>\n",
              "    </tr>\n",
              "    <tr>\n",
              "      <th>225</th>\n",
              "      <td>now i have decreased my weight parameter a bit</td>\n",
              "      <td>0</td>\n",
              "      <td>1</td>\n",
              "      <td>0</td>\n",
              "      <td>0</td>\n",
              "      <td>0</td>\n",
              "      <td>0</td>\n",
              "    </tr>\n",
              "    <tr>\n",
              "      <th>226</th>\n",
              "      <td>bearingoffset equals 1 to 0 60 pa dc equals to 15</td>\n",
              "      <td>1</td>\n",
              "      <td>0</td>\n",
              "      <td>0</td>\n",
              "      <td>0</td>\n",
              "      <td>0</td>\n",
              "      <td>0</td>\n",
              "    </tr>\n",
              "    <tr>\n",
              "      <th>227</th>\n",
              "      <td>now hey i need to know what double piston stro...</td>\n",
              "      <td>0</td>\n",
              "      <td>0</td>\n",
              "      <td>1</td>\n",
              "      <td>0</td>\n",
              "      <td>0</td>\n",
              "      <td>0</td>\n",
              "    </tr>\n",
              "  </tbody>\n",
              "</table>\n",
              "<p>228 rows × 7 columns</p>\n",
              "</div>"
            ],
            "text/plain": [
              "                                             full_text  ...  Tradeoff_between_objectives\n",
              "0    how low can pitch you go off on the piston bor...  ...                            0\n",
              "1    all my factorofsafety values tested are in abo...  ...                            0\n",
              "2    1 hi flywheel shaft my crankshaft design depen...  ...                            0\n",
              "3                                         min as of 40  ...                            0\n",
              "4    what value works that best if for your simulat...  ...                            0\n",
              "..                                                 ...  ...                          ...\n",
              "223                     we are at this excellent agian  ...                            0\n",
              "224  flywheel changed a value now and i once lost 5...  ...                            0\n",
              "225     now i have decreased my weight parameter a bit  ...                            0\n",
              "226  bearingoffset equals 1 to 0 60 pa dc equals to 15  ...                            0\n",
              "227  now hey i need to know what double piston stro...  ...                            0\n",
              "\n",
              "[228 rows x 7 columns]"
            ]
          },
          "metadata": {
            "tags": []
          },
          "execution_count": 0
        }
      ]
    },
    {
      "cell_type": "code",
      "metadata": {
        "colab": {
          "background_save": true
        },
        "id": "W56deON1t9VH",
        "outputId": "aca3204c-2947-425a-d438-e706d9cf6dce"
      },
      "source": [
        "#Appending dataframes\n",
        "df_labeled_Q1.append(df_data_aug_labeled_1, ignore_index=True)"
      ],
      "execution_count": null,
      "outputs": [
        {
          "output_type": "execute_result",
          "data": {
            "text/html": [
              "<div>\n",
              "<style scoped>\n",
              "    .dataframe tbody tr th:only-of-type {\n",
              "        vertical-align: middle;\n",
              "    }\n",
              "\n",
              "    .dataframe tbody tr th {\n",
              "        vertical-align: top;\n",
              "    }\n",
              "\n",
              "    .dataframe thead th {\n",
              "        text-align: right;\n",
              "    }\n",
              "</style>\n",
              "<table border=\"1\" class=\"dataframe\">\n",
              "  <thead>\n",
              "    <tr style=\"text-align: right;\">\n",
              "      <th></th>\n",
              "      <th>full_text</th>\n",
              "      <th>Asking_for_information</th>\n",
              "      <th>Providing_information</th>\n",
              "    </tr>\n",
              "  </thead>\n",
              "  <tbody>\n",
              "    <tr>\n",
              "      <th>0</th>\n",
              "      <td>Hi piston  My crankshaft depends on your bore ...</td>\n",
              "      <td>0</td>\n",
              "      <td>1</td>\n",
              "    </tr>\n",
              "    <tr>\n",
              "      <th>1</th>\n",
              "      <td>How low can you go on the piston bore diameter ?</td>\n",
              "      <td>1</td>\n",
              "      <td>0</td>\n",
              "    </tr>\n",
              "    <tr>\n",
              "      <th>2</th>\n",
              "      <td>all my factorofsafety values are in the hundre...</td>\n",
              "      <td>1</td>\n",
              "      <td>0</td>\n",
              "    </tr>\n",
              "    <tr>\n",
              "      <th>3</th>\n",
              "      <td>Hi flywheel  My crankshaft depends on your fly...</td>\n",
              "      <td>0</td>\n",
              "      <td>1</td>\n",
              "    </tr>\n",
              "    <tr>\n",
              "      <th>4</th>\n",
              "      <td>min of  40</td>\n",
              "      <td>0</td>\n",
              "      <td>1</td>\n",
              "    </tr>\n",
              "    <tr>\n",
              "      <th>...</th>\n",
              "      <td>...</td>\n",
              "      <td>...</td>\n",
              "      <td>...</td>\n",
              "    </tr>\n",
              "    <tr>\n",
              "      <th>539</th>\n",
              "      <td>we are at his excelelent port again</td>\n",
              "      <td>0</td>\n",
              "      <td>1</td>\n",
              "    </tr>\n",
              "    <tr>\n",
              "      <th>540</th>\n",
              "      <td>flywheel changed a value and by i had lost 5 l...</td>\n",
              "      <td>0</td>\n",
              "      <td>1</td>\n",
              "    </tr>\n",
              "    <tr>\n",
              "      <th>541</th>\n",
              "      <td>i greatly decreased my weight parameter of a bit</td>\n",
              "      <td>0</td>\n",
              "      <td>1</td>\n",
              "    </tr>\n",
              "    <tr>\n",
              "      <th>542</th>\n",
              "      <td>bearingoffset equals to only 60 so dc equals u...</td>\n",
              "      <td>0</td>\n",
              "      <td>1</td>\n",
              "    </tr>\n",
              "    <tr>\n",
              "      <th>543</th>\n",
              "      <td>hey and i also need information to know what p...</td>\n",
              "      <td>1</td>\n",
              "      <td>0</td>\n",
              "    </tr>\n",
              "  </tbody>\n",
              "</table>\n",
              "<p>544 rows × 3 columns</p>\n",
              "</div>"
            ],
            "text/plain": [
              "                                             full_text  ...  Providing_information\n",
              "0    Hi piston  My crankshaft depends on your bore ...  ...                      1\n",
              "1    How low can you go on the piston bore diameter ?   ...                      0\n",
              "2    all my factorofsafety values are in the hundre...  ...                      0\n",
              "3    Hi flywheel  My crankshaft depends on your fly...  ...                      1\n",
              "4                                          min of  40   ...                      1\n",
              "..                                                 ...  ...                    ...\n",
              "539                we are at his excelelent port again  ...                      1\n",
              "540  flywheel changed a value and by i had lost 5 l...  ...                      1\n",
              "541   i greatly decreased my weight parameter of a bit  ...                      1\n",
              "542  bearingoffset equals to only 60 so dc equals u...  ...                      1\n",
              "543  hey and i also need information to know what p...  ...                      0\n",
              "\n",
              "[544 rows x 3 columns]"
            ]
          },
          "metadata": {
            "tags": []
          },
          "execution_count": 0
        }
      ]
    },
    {
      "cell_type": "code",
      "metadata": {
        "colab": {
          "background_save": true
        },
        "id": "ZrKfVA-0uY3h",
        "outputId": "f476b400-f7ed-48aa-c937-7d92a5f7c1e7"
      },
      "source": [
        "df_labeled_Q2.append(df_data_aug_labeled_2, ignore_index=True)"
      ],
      "execution_count": null,
      "outputs": [
        {
          "output_type": "execute_result",
          "data": {
            "text/html": [
              "<div>\n",
              "<style scoped>\n",
              "    .dataframe tbody tr th:only-of-type {\n",
              "        vertical-align: middle;\n",
              "    }\n",
              "\n",
              "    .dataframe tbody tr th {\n",
              "        vertical-align: top;\n",
              "    }\n",
              "\n",
              "    .dataframe thead th {\n",
              "        text-align: right;\n",
              "    }\n",
              "</style>\n",
              "<table border=\"1\" class=\"dataframe\">\n",
              "  <thead>\n",
              "    <tr style=\"text-align: right;\">\n",
              "      <th></th>\n",
              "      <th>full_text</th>\n",
              "      <th>Dependencies_between_design_parameters</th>\n",
              "      <th>Effects_of_design_parameters_on_objectives</th>\n",
              "      <th>Exploration_of_design_parameter_values</th>\n",
              "      <th>Monitoring_objective_values</th>\n",
              "      <th>Selected_design_parameter_values_for_objective(s)</th>\n",
              "      <th>Tradeoff_between_objectives</th>\n",
              "    </tr>\n",
              "  </thead>\n",
              "  <tbody>\n",
              "    <tr>\n",
              "      <th>0</th>\n",
              "      <td>How low can you go on the piston bore diameter ?</td>\n",
              "      <td>0</td>\n",
              "      <td>0</td>\n",
              "      <td>1</td>\n",
              "      <td>0</td>\n",
              "      <td>0</td>\n",
              "      <td>0</td>\n",
              "    </tr>\n",
              "    <tr>\n",
              "      <th>1</th>\n",
              "      <td>all my factorofsafety values are in the hundre...</td>\n",
              "      <td>0</td>\n",
              "      <td>1</td>\n",
              "      <td>0</td>\n",
              "      <td>0</td>\n",
              "      <td>0</td>\n",
              "      <td>0</td>\n",
              "    </tr>\n",
              "    <tr>\n",
              "      <th>2</th>\n",
              "      <td>Hi flywheel  My crankshaft depends on your fly...</td>\n",
              "      <td>1</td>\n",
              "      <td>0</td>\n",
              "      <td>0</td>\n",
              "      <td>0</td>\n",
              "      <td>0</td>\n",
              "      <td>0</td>\n",
              "    </tr>\n",
              "    <tr>\n",
              "      <th>3</th>\n",
              "      <td>min of  40</td>\n",
              "      <td>0</td>\n",
              "      <td>0</td>\n",
              "      <td>0</td>\n",
              "      <td>0</td>\n",
              "      <td>1</td>\n",
              "      <td>0</td>\n",
              "    </tr>\n",
              "    <tr>\n",
              "      <th>4</th>\n",
              "      <td>What value works best for your simulation ?</td>\n",
              "      <td>0</td>\n",
              "      <td>0</td>\n",
              "      <td>1</td>\n",
              "      <td>0</td>\n",
              "      <td>0</td>\n",
              "      <td>0</td>\n",
              "    </tr>\n",
              "    <tr>\n",
              "      <th>...</th>\n",
              "      <td>...</td>\n",
              "      <td>...</td>\n",
              "      <td>...</td>\n",
              "      <td>...</td>\n",
              "      <td>...</td>\n",
              "      <td>...</td>\n",
              "      <td>...</td>\n",
              "    </tr>\n",
              "    <tr>\n",
              "      <th>451</th>\n",
              "      <td>we are at this excellent agian</td>\n",
              "      <td>0</td>\n",
              "      <td>0</td>\n",
              "      <td>0</td>\n",
              "      <td>1</td>\n",
              "      <td>0</td>\n",
              "      <td>0</td>\n",
              "    </tr>\n",
              "    <tr>\n",
              "      <th>452</th>\n",
              "      <td>flywheel changed a value now and i once lost 5...</td>\n",
              "      <td>0</td>\n",
              "      <td>1</td>\n",
              "      <td>0</td>\n",
              "      <td>0</td>\n",
              "      <td>0</td>\n",
              "      <td>0</td>\n",
              "    </tr>\n",
              "    <tr>\n",
              "      <th>453</th>\n",
              "      <td>now i have decreased my weight parameter a bit</td>\n",
              "      <td>0</td>\n",
              "      <td>1</td>\n",
              "      <td>0</td>\n",
              "      <td>0</td>\n",
              "      <td>0</td>\n",
              "      <td>0</td>\n",
              "    </tr>\n",
              "    <tr>\n",
              "      <th>454</th>\n",
              "      <td>bearingoffset equals 1 to 0 60 pa dc equals to 15</td>\n",
              "      <td>1</td>\n",
              "      <td>0</td>\n",
              "      <td>0</td>\n",
              "      <td>0</td>\n",
              "      <td>0</td>\n",
              "      <td>0</td>\n",
              "    </tr>\n",
              "    <tr>\n",
              "      <th>455</th>\n",
              "      <td>now hey i need to know what double piston stro...</td>\n",
              "      <td>0</td>\n",
              "      <td>0</td>\n",
              "      <td>1</td>\n",
              "      <td>0</td>\n",
              "      <td>0</td>\n",
              "      <td>0</td>\n",
              "    </tr>\n",
              "  </tbody>\n",
              "</table>\n",
              "<p>456 rows × 7 columns</p>\n",
              "</div>"
            ],
            "text/plain": [
              "                                             full_text  ...  Tradeoff_between_objectives\n",
              "0    How low can you go on the piston bore diameter ?   ...                            0\n",
              "1    all my factorofsafety values are in the hundre...  ...                            0\n",
              "2    Hi flywheel  My crankshaft depends on your fly...  ...                            0\n",
              "3                                          min of  40   ...                            0\n",
              "4         What value works best for your simulation ?   ...                            0\n",
              "..                                                 ...  ...                          ...\n",
              "451                     we are at this excellent agian  ...                            0\n",
              "452  flywheel changed a value now and i once lost 5...  ...                            0\n",
              "453     now i have decreased my weight parameter a bit  ...                            0\n",
              "454  bearingoffset equals 1 to 0 60 pa dc equals to 15  ...                            0\n",
              "455  now hey i need to know what double piston stro...  ...                            0\n",
              "\n",
              "[456 rows x 7 columns]"
            ]
          },
          "metadata": {
            "tags": []
          },
          "execution_count": 0
        }
      ]
    },
    {
      "cell_type": "code",
      "metadata": {
        "colab": {
          "background_save": true
        },
        "id": "W9h4OAk8sD1R"
      },
      "source": [
        "df_labeled_Q1.to_csv('/content/drive/MyDrive/projects/Capstone_Project/Checkpoint_6/processed_data/labeled_1.csv')\n",
        "df_unlabeled_Q1.to_csv('/content/drive/MyDrive/projects/Capstone_Project/Checkpoint_6/processed_data/unlabeled_1.csv')\n",
        "df_labeled_Q2.to_csv('/content/drive/MyDrive/projects/Capstone_Project/Checkpoint_6/processed_data/labeled_2.csv')\n",
        "df_unlabeled_Q2.to_csv('/content/drive/MyDrive/projects/Capstone_Project/Checkpoint_6/processed_data/unlabeled_2.csv')"
      ],
      "execution_count": null,
      "outputs": []
    },
    {
      "cell_type": "markdown",
      "metadata": {
        "id": "buuMD3wlUTrU"
      },
      "source": [
        "For first problem statement, we have 272 labeled instances ad 7343 unlabeled instances. This accounts to 3.57% of labeled material.\n",
        "While in case of the second problem statement, we have 228 labeled instances ad 7343 unlabeled instances. This accounts to 3.0% of labeled material."
      ]
    }
  ]
}