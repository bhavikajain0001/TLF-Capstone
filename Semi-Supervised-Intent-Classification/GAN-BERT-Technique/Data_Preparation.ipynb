{
  "nbformat": 4,
  "nbformat_minor": 0,
  "metadata": {
    "colab": {
      "name": "Data_Preparation_Chat_Messages.ipynb",
      "provenance": [],
      "collapsed_sections": []
    },
    "kernelspec": {
      "name": "python3",
      "display_name": "Python 3"
    },
    "language_info": {
      "name": "python"
    }
  },
  "cells": [
    {
      "cell_type": "markdown",
      "metadata": {
        "id": "_fO5FZa0-epU"
      },
      "source": [
        "## Mounting the drive:"
      ]
    },
    {
      "cell_type": "code",
      "metadata": {
        "colab": {
          "base_uri": "https://localhost:8080/"
        },
        "id": "zFMkrYdI-Pv7",
        "outputId": "ee5e4abb-2ca4-41a5-8590-d5ed3f0fa9e4"
      },
      "source": [
        "%cd \"/content/drive/MyDrive/projects/Capstone_Project/Checkpoint_5/GAN-BERT\""
      ],
      "execution_count": null,
      "outputs": [
        {
          "output_type": "stream",
          "text": [
            "/content/drive/MyDrive/projects/Capstone_Project/Checkpoint_5/GAN-BERT\n"
          ],
          "name": "stdout"
        }
      ]
    },
    {
      "cell_type": "markdown",
      "metadata": {
        "id": "FMSpK8VW-pBN"
      },
      "source": [
        "## Data Preparation:"
      ]
    },
    {
      "cell_type": "code",
      "metadata": {
        "id": "tDLmPn5p-pg5"
      },
      "source": [
        "# Importing all the modules\n",
        "import os\n",
        "import csv\n",
        "import pandas as pd\n",
        "import numpy as np\n",
        "from sklearn.metrics import classification_report\n",
        "from sklearn.model_selection import train_test_split\n",
        "import matplotlib.pyplot as plt\n",
        "import warnings\n",
        "warnings.filterwarnings('ignore')\n",
        "%matplotlib notebook\n",
        "%matplotlib inline"
      ],
      "execution_count": null,
      "outputs": []
    },
    {
      "cell_type": "code",
      "metadata": {
        "colab": {
          "base_uri": "https://localhost:8080/",
          "height": 111
        },
        "id": "cSEHViuh_qm4",
        "outputId": "ba88f54d-377d-4da0-8a57-99fea7b1dbe4"
      },
      "source": [
        "# Reading the base line file which has 347 labeled data points\n",
        "df = pd.read_csv('/content/drive/MyDrive/projects/Capstone_Project/Checkpoint_5/GAN-BERT/chat_messages_intents.csv',na_values=' ')\n",
        "df = df[['body', 'intent_1', 'intent_2']]\n",
        "df.head(2)"
      ],
      "execution_count": null,
      "outputs": [
        {
          "output_type": "execute_result",
          "data": {
            "text/html": [
              "<div>\n",
              "<style scoped>\n",
              "    .dataframe tbody tr th:only-of-type {\n",
              "        vertical-align: middle;\n",
              "    }\n",
              "\n",
              "    .dataframe tbody tr th {\n",
              "        vertical-align: top;\n",
              "    }\n",
              "\n",
              "    .dataframe thead th {\n",
              "        text-align: right;\n",
              "    }\n",
              "</style>\n",
              "<table border=\"1\" class=\"dataframe\">\n",
              "  <thead>\n",
              "    <tr style=\"text-align: right;\">\n",
              "      <th></th>\n",
              "      <th>body</th>\n",
              "      <th>intent_1</th>\n",
              "      <th>intent_2</th>\n",
              "    </tr>\n",
              "  </thead>\n",
              "  <tbody>\n",
              "    <tr>\n",
              "      <th>0</th>\n",
              "      <td>Hi piston! My crankshaft depends on your bore ...</td>\n",
              "      <td>Providing information</td>\n",
              "      <td>NAN</td>\n",
              "    </tr>\n",
              "    <tr>\n",
              "      <th>1</th>\n",
              "      <td>thank you!</td>\n",
              "      <td>NAN</td>\n",
              "      <td>NAN</td>\n",
              "    </tr>\n",
              "  </tbody>\n",
              "</table>\n",
              "</div>"
            ],
            "text/plain": [
              "                                                body  ... intent_2\n",
              "0  Hi piston! My crankshaft depends on your bore ...  ...      NAN\n",
              "1                                         thank you!  ...      NAN\n",
              "\n",
              "[2 rows x 3 columns]"
            ]
          },
          "metadata": {
            "tags": []
          },
          "execution_count": 79
        }
      ]
    },
    {
      "cell_type": "code",
      "metadata": {
        "colab": {
          "base_uri": "https://localhost:8080/"
        },
        "id": "wkXCo5yJ_5Kb",
        "outputId": "b01d7fea-2606-4adf-8735-9e06fb5bb50f"
      },
      "source": [
        "# Unique intents \n",
        "df['intent_1'].unique(), df['intent_2'].unique()"
      ],
      "execution_count": null,
      "outputs": [
        {
          "output_type": "execute_result",
          "data": {
            "text/plain": [
              "(array(['Providing information', 'NAN', 'Asking for information', nan],\n",
              "       dtype=object), array(['NAN', 'Exploration of design parameter values',\n",
              "        'Effects of design parameters on objectives',\n",
              "        'Dependencies between design parameters',\n",
              "        'Selected design parameter values for objective(s)',\n",
              "        'Monitoring objective values', nan, 'Tradeoff between objectives',\n",
              "        'Selected design parameter values for objective(s)\\r\\n',\n",
              "        'Effects of design parameters on objectives\\r\\n'], dtype=object))"
            ]
          },
          "metadata": {
            "tags": []
          },
          "execution_count": 80
        }
      ]
    },
    {
      "cell_type": "markdown",
      "metadata": {
        "id": "QweRzOdDAIhh"
      },
      "source": [
        "Takeaway: We have identified 3 unique intents for the first intent and 8 unique intents for the second intent experimental notebook. We plan to remove the NAN/ None of the above intent as it is not contributing much to the analysis."
      ]
    },
    {
      "cell_type": "code",
      "metadata": {
        "colab": {
          "base_uri": "https://localhost:8080/"
        },
        "id": "jS-FpVtOPrtF",
        "outputId": "db5be221-8193-4a7f-ce29-f3fba03eae61"
      },
      "source": [
        "# Dividing dataset for two questions \n",
        "df_Q1 = df[['body', 'intent_1']]\n",
        "df_Q2 = df[['body', 'intent_2']]\n",
        "df_Q1.head(3), df_Q2.head(3)"
      ],
      "execution_count": null,
      "outputs": [
        {
          "output_type": "execute_result",
          "data": {
            "text/plain": [
              "(                                                body                intent_1\n",
              " 0  Hi piston! My crankshaft depends on your bore ...   Providing information\n",
              " 1                                         thank you!                     NAN\n",
              " 2    How low can you go on the piston bore diameter?  Asking for information,\n",
              "                                                 body                                intent_2\n",
              " 0  Hi piston! My crankshaft depends on your bore ...                                     NAN\n",
              " 1                                         thank you!                                     NAN\n",
              " 2    How low can you go on the piston bore diameter?  Exploration of design parameter values)"
            ]
          },
          "metadata": {
            "tags": []
          },
          "execution_count": 81
        }
      ]
    },
    {
      "cell_type": "code",
      "metadata": {
        "colab": {
          "base_uri": "https://localhost:8080/"
        },
        "id": "CYB0cFr0BTAw",
        "outputId": "4bb69ac3-42ac-4bac-ea37-97a98c182d40"
      },
      "source": [
        "# Checking out the final labeled and unlabeled instances for the first df\n",
        "total_Q1 = len(df_Q1['intent_1'])\n",
        "unlabeled_instances_Q1 = df_Q1['intent_1'].isnull().sum()\n",
        "labeled_instances_Q1 = total_Q1 - unlabeled_instances_Q1\n",
        "print('Labeled instances: ', labeled_instances_Q1, ' and Unlabeled instances: ', unlabeled_instances_Q1)"
      ],
      "execution_count": null,
      "outputs": [
        {
          "output_type": "stream",
          "text": [
            "Labeled instances:  347  and Unlabeled instances:  7343\n"
          ],
          "name": "stdout"
        }
      ]
    },
    {
      "cell_type": "code",
      "metadata": {
        "colab": {
          "base_uri": "https://localhost:8080/"
        },
        "id": "j-mMR4esQWWW",
        "outputId": "b9663373-df08-4be0-db9f-8e4dbd882238"
      },
      "source": [
        "# Checking out the final labeled and unlabeled instances in the first instance\n",
        "total_Q2 = len(df_Q2['intent_2'])\n",
        "unlabeled_instances_Q2 = df_Q2['intent_2'].isnull().sum()\n",
        "labeled_instances_Q2 = total_Q2 - unlabeled_instances_Q2\n",
        "print('Labeled instances: ', labeled_instances_Q2, ' and Unlabeled instances: ', unlabeled_instances_Q2)"
      ],
      "execution_count": null,
      "outputs": [
        {
          "output_type": "stream",
          "text": [
            "Labeled instances:  347  and Unlabeled instances:  7343\n"
          ],
          "name": "stdout"
        }
      ]
    },
    {
      "cell_type": "code",
      "metadata": {
        "colab": {
          "base_uri": "https://localhost:8080/"
        },
        "id": "eRV-q-2fABtm",
        "outputId": "9cc72347-1ed4-4d89-c2fa-9a17ccc964d8"
      },
      "source": [
        "# Dropping the NAN/None of the above intent\n",
        "df_Q1.drop(index = df.index[(df['intent_1']=='NAN')], axis=0, inplace = True)\n",
        "df_Q2.drop(index = df.index[(df['intent_2']=='NAN')], axis=0, inplace = True)\n",
        "df['intent_1'].unique(), df['intent_2'].unique()"
      ],
      "execution_count": null,
      "outputs": [
        {
          "output_type": "execute_result",
          "data": {
            "text/plain": [
              "(array(['Providing information', 'NAN', 'Asking for information', nan],\n",
              "       dtype=object), array(['NAN', 'Exploration of design parameter values',\n",
              "        'Effects of design parameters on objectives',\n",
              "        'Dependencies between design parameters',\n",
              "        'Selected design parameter values for objective(s)',\n",
              "        'Monitoring objective values', nan, 'Tradeoff between objectives',\n",
              "        'Selected design parameter values for objective(s)\\r\\n',\n",
              "        'Effects of design parameters on objectives\\r\\n'], dtype=object))"
            ]
          },
          "metadata": {
            "tags": []
          },
          "execution_count": 84
        }
      ]
    },
    {
      "cell_type": "code",
      "metadata": {
        "colab": {
          "base_uri": "https://localhost:8080/"
        },
        "id": "EQI8GtXMAbqj",
        "outputId": "71c1974b-164b-4b8b-e5b4-2f48f0dd62b1"
      },
      "source": [
        "# Checking out the final labeled and unlabeled instances for the first df\n",
        "total_Q1 = len(df_Q1['intent_1'])\n",
        "unlabeled_instances_Q1 = df_Q1['intent_1'].isnull().sum()\n",
        "labeled_instances_Q1 = total_Q1 - unlabeled_instances_Q1\n",
        "print('Labeled instances in first dataframe: ', labeled_instances_Q1, ' and Unlabeled instances in first dataframe: ', unlabeled_instances_Q1)"
      ],
      "execution_count": null,
      "outputs": [
        {
          "output_type": "stream",
          "text": [
            "Labeled instances:  272  and Unlabeled instances:  7343\n"
          ],
          "name": "stdout"
        }
      ]
    },
    {
      "cell_type": "code",
      "metadata": {
        "colab": {
          "base_uri": "https://localhost:8080/"
        },
        "id": "rAKVpM6-QzVd",
        "outputId": "d9a6c775-f6a5-4d2d-aa2f-535f0e808696"
      },
      "source": [
        "# Checking out the final labeled and unlabeled instances in the first instance\n",
        "total_Q2 = len(df_Q2['intent_2'])\n",
        "unlabeled_instances_Q2 = df_Q2['intent_2'].isnull().sum()\n",
        "labeled_instances_Q2 = total_Q2 - unlabeled_instances_Q2\n",
        "print('Labeled instances in second dataframe: ', labeled_instances_Q2, ' and Unlabeled instances in second dataframe: ', unlabeled_instances_Q2)"
      ],
      "execution_count": null,
      "outputs": [
        {
          "output_type": "stream",
          "text": [
            "Labeled instances:  228  and Unlabeled instances:  7343\n"
          ],
          "name": "stdout"
        }
      ]
    },
    {
      "cell_type": "code",
      "metadata": {
        "id": "m3yrxN8NAqxw"
      },
      "source": [
        "# Filling out \"UNK_UNK\" for unlabeled instances\n",
        "df_Q1 = df_Q1.fillna(\"UNK_UNK\")\n",
        "df_Q2 = df_Q2.fillna(\"UNK_UNK\")"
      ],
      "execution_count": null,
      "outputs": []
    },
    {
      "cell_type": "code",
      "metadata": {
        "colab": {
          "base_uri": "https://localhost:8080/"
        },
        "id": "tYH2CbLaBjv9",
        "outputId": "2d127690-f9b6-4f5c-851a-cec8b44d685c"
      },
      "source": [
        "# Defining the unlabeled instances dataframe\n",
        "df_unlabeled_Q1 = df_Q1[df_Q1['intent_1']=='UNK_UNK']\n",
        "df_unlabeled_Q2 = df_Q2[df_Q2['intent_2']=='UNK_UNK']\n",
        "df_unlabeled_Q1,df_unlabeled_Q2"
      ],
      "execution_count": null,
      "outputs": [
        {
          "output_type": "execute_result",
          "data": {
            "text/plain": [
              "(                                               body intent_1\n",
              " 56              we have excellent quality right now  UNK_UNK\n",
              " 57    Have you broadcasted your most recent design?  UNK_UNK\n",
              " 58              we have excellent quality right now  UNK_UNK\n",
              " 65                           looks like we're done?  UNK_UNK\n",
              " 68                                    seems like it  UNK_UNK\n",
              " ...                                             ...      ...\n",
              " 7685                             ok no one anything  UNK_UNK\n",
              " 7686                              increase it to 50  UNK_UNK\n",
              " 7687              what about thickness of flywheel?  UNK_UNK\n",
              " 7688                              its at 12, lowest  UNK_UNK\n",
              " 7689                      raise it a little like 20  UNK_UNK\n",
              " \n",
              " [7343 rows x 2 columns],\n",
              "                                                body intent_2\n",
              " 56              we have excellent quality right now  UNK_UNK\n",
              " 57    Have you broadcasted your most recent design?  UNK_UNK\n",
              " 58              we have excellent quality right now  UNK_UNK\n",
              " 65                           looks like we're done?  UNK_UNK\n",
              " 68                                    seems like it  UNK_UNK\n",
              " ...                                             ...      ...\n",
              " 7685                             ok no one anything  UNK_UNK\n",
              " 7686                              increase it to 50  UNK_UNK\n",
              " 7687              what about thickness of flywheel?  UNK_UNK\n",
              " 7688                              its at 12, lowest  UNK_UNK\n",
              " 7689                      raise it a little like 20  UNK_UNK\n",
              " \n",
              " [7343 rows x 2 columns])"
            ]
          },
          "metadata": {
            "tags": []
          },
          "execution_count": 88
        }
      ]
    },
    {
      "cell_type": "code",
      "metadata": {
        "colab": {
          "base_uri": "https://localhost:8080/"
        },
        "id": "qzu2kfyBBohK",
        "outputId": "3983b528-f6dd-4b4d-8029-fc5cdb44495a"
      },
      "source": [
        "# Defining the labeled instances dataframe\n",
        "df_labeled_Q1 = df_Q1[df_Q1['intent_1']!='UNK_UNK']\n",
        "df_labeled_Q2 = df_Q2[df_Q2['intent_2']!='UNK_UNK']\n",
        "df_labeled_Q1,df_labeled_Q2"
      ],
      "execution_count": null,
      "outputs": [
        {
          "output_type": "execute_result",
          "data": {
            "text/plain": [
              "(                                                  body                intent_1\n",
              " 0    Hi piston! My crankshaft depends on your bore ...   Providing information\n",
              " 2      How low can you go on the piston bore diameter?  Asking for information\n",
              " 3    all my fos values are in the hundreds, i suspe...  Asking for information\n",
              " 4    Hi flywheel! My crankshaft depends on your fly...   Providing information\n",
              " 5                                            min of 40   Providing information\n",
              " ..                                                 ...                     ...\n",
              " 701                         we are at excelelent again   Providing information\n",
              " 719         flywheel changed a value and I lost 5 lbs!   Providing information\n",
              " 729              I decreased my weight parameter a bit   Providing information\n",
              " 735                                        c=60, dc=15   Providing information\n",
              " 772  Hey, I need to know what PISTON BORE DIAMETER ...  Asking for information\n",
              " \n",
              " [272 rows x 2 columns],\n",
              "                                                   body                                           intent_2\n",
              " 2      How low can you go on the piston bore diameter?             Exploration of design parameter values\n",
              " 3    all my fos values are in the hundreds, i suspe...         Effects of design parameters on objectives\n",
              " 4    Hi flywheel! My crankshaft depends on your fly...             Dependencies between design parameters\n",
              " 5                                            min of 40  Selected design parameter values for objective(s)\n",
              " 6           What value works best for your simulation?             Exploration of design parameter values\n",
              " ..                                                 ...                                                ...\n",
              " 698                          we are at excellent agian                        Monitoring objective values\n",
              " 719         flywheel changed a value and I lost 5 lbs!         Effects of design parameters on objectives\n",
              " 729              I decreased my weight parameter a bit         Effects of design parameters on objectives\n",
              " 735                                        c=60, dc=15             Dependencies between design parameters\n",
              " 772  Hey, I need to know what PISTON BORE DIAMETER ...             Exploration of design parameter values\n",
              " \n",
              " [228 rows x 2 columns])"
            ]
          },
          "metadata": {
            "tags": []
          },
          "execution_count": 89
        }
      ]
    },
    {
      "cell_type": "code",
      "metadata": {
        "colab": {
          "base_uri": "https://localhost:8080/"
        },
        "id": "ME81hGWXB7WO",
        "outputId": "6b851444-aa68-4805-a1d1-fff71db08ea4"
      },
      "source": [
        "# Renaming columns to suitable names\n",
        "df_labeled_Q1.rename(columns = {'intent_1': 'intent', 'body':'text'}, inplace = True)\n",
        "df_unlabeled_Q1.rename(columns = {'intent_1': 'intent', 'body':'text'}, inplace = True)\n",
        "df_labeled_Q2.rename(columns = {'intent_2': 'sub_intent', 'body':'text'}, inplace = True)\n",
        "df_unlabeled_Q2.rename(columns = {'intent_2': 'sub_intent','body':'text'}, inplace = True)\n",
        "df_labeled_Q1.head(2), df_unlabeled_Q1.head(2), df_labeled_Q2.head(2), df_unlabeled_Q2.head(2)"
      ],
      "execution_count": null,
      "outputs": [
        {
          "output_type": "execute_result",
          "data": {
            "text/plain": [
              "(                                                text                  intent\n",
              " 0  Hi piston! My crankshaft depends on your bore ...   Providing information\n",
              " 2    How low can you go on the piston bore diameter?  Asking for information,\n",
              "                                              text   intent\n",
              " 56            we have excellent quality right now  UNK_UNK\n",
              " 57  Have you broadcasted your most recent design?  UNK_UNK,\n",
              "                                                 text                                  sub_intent\n",
              " 2    How low can you go on the piston bore diameter?      Exploration of design parameter values\n",
              " 3  all my fos values are in the hundreds, i suspe...  Effects of design parameters on objectives,\n",
              "                                              text sub_intent\n",
              " 56            we have excellent quality right now    UNK_UNK\n",
              " 57  Have you broadcasted your most recent design?    UNK_UNK)"
            ]
          },
          "metadata": {
            "tags": []
          },
          "execution_count": 90
        }
      ]
    },
    {
      "cell_type": "code",
      "metadata": {
        "colab": {
          "base_uri": "https://localhost:8080/"
        },
        "id": "3b91jeEhCROb",
        "outputId": "ff986d83-67fd-4e42-de47-e4bed3c533df"
      },
      "source": [
        "# Double checking the intents of labeled dataset\n",
        "df_labeled_Q1.intent.unique(), df_labeled_Q2.sub_intent.unique()"
      ],
      "execution_count": null,
      "outputs": [
        {
          "output_type": "execute_result",
          "data": {
            "text/plain": [
              "(array(['Providing information', 'Asking for information'], dtype=object),\n",
              " array(['Exploration of design parameter values',\n",
              "        'Effects of design parameters on objectives',\n",
              "        'Dependencies between design parameters',\n",
              "        'Selected design parameter values for objective(s)',\n",
              "        'Monitoring objective values', 'Tradeoff between objectives',\n",
              "        'Selected design parameter values for objective(s)\\r\\n',\n",
              "        'Effects of design parameters on objectives\\r\\n'], dtype=object))"
            ]
          },
          "metadata": {
            "tags": []
          },
          "execution_count": 91
        }
      ]
    },
    {
      "cell_type": "code",
      "metadata": {
        "id": "kwtaYDMmCfxO"
      },
      "source": [
        "# Mapping intents to shorter abbreviations\n",
        "intent = {'Asking for information': 'Ask_info','Providing information': 'Prov_Info'}\n",
        "sub_intent = {'Exploration of design parameter values' : 'Explore_params',\n",
        "        'Effects of design parameters on objectives': 'Effect_ofparams',\n",
        "        'Effects of design parameters on objectives\\r\\n' : 'Effect_ofparams',\n",
        "        'Dependencies between design parameters' : 'Dependencies_bwparams',\n",
        "        'Selected design parameter values for objective(s)': 'Selected_params',\n",
        "        'Monitoring objective values':'Monitoring_objectives', 'Tradeoff between objectives': 'Tradeoff_bw_objectives',\n",
        "        'Selected design parameter values for objective(s)\\r\\n': 'Selected_params'}      "
      ],
      "execution_count": null,
      "outputs": []
    },
    {
      "cell_type": "code",
      "metadata": {
        "colab": {
          "base_uri": "https://localhost:8080/"
        },
        "id": "PunUsuFpEnJE",
        "outputId": "c44facb7-dd79-4649-a61d-65d35297cfd9"
      },
      "source": [
        "# Cleaning the labeled dataset\n",
        "df_labeled_Q1[\"intent\"] = df_labeled_Q1[\"intent\"].map(intent)\n",
        "df_labeled_Q2[\"sub_intent\"] = df_labeled_Q2[\"sub_intent\"].map(sub_intent)\n",
        "df_labeled_Q1.reset_index(drop=True, inplace=True)\n",
        "df_labeled_Q2.reset_index(drop=True, inplace=True)\n",
        "df_labeled_Q1.head(2), df_labeled_Q2.head(2)"
      ],
      "execution_count": null,
      "outputs": [
        {
          "output_type": "execute_result",
          "data": {
            "text/plain": [
              "(                                                text     intent\n",
              " 0  Hi piston! My crankshaft depends on your bore ...  Prov_Info\n",
              " 1    How low can you go on the piston bore diameter?   Ask_info,\n",
              "                                                 text       sub_intent\n",
              " 0    How low can you go on the piston bore diameter?   Explore_params\n",
              " 1  all my fos values are in the hundreds, i suspe...  Effect_ofparams)"
            ]
          },
          "metadata": {
            "tags": []
          },
          "execution_count": 94
        }
      ]
    },
    {
      "cell_type": "code",
      "metadata": {
        "colab": {
          "base_uri": "https://localhost:8080/"
        },
        "id": "UOM5Iqm2E3tx",
        "outputId": "4b7da2bf-6c42-461d-fc18-4ef45b09da7a"
      },
      "source": [
        "# Cleaning the unlabeled dataset\n",
        "df_unlabeled_Q1[\"intent\"] = df_unlabeled_Q1[\"intent\"]\n",
        "df_unlabeled_Q2[\"sub_intent\"] = df_unlabeled_Q2[\"sub_intent\"]\n",
        "df_unlabeled_Q1.reset_index(drop=True, inplace=True)\n",
        "df_unlabeled_Q2.reset_index(drop=True, inplace=True)\n",
        "df_unlabeled_Q1.head(2), df_unlabeled_Q2.head(2)"
      ],
      "execution_count": null,
      "outputs": [
        {
          "output_type": "execute_result",
          "data": {
            "text/plain": [
              "(                                            text   intent\n",
              " 0            we have excellent quality right now  UNK_UNK\n",
              " 1  Have you broadcasted your most recent design?  UNK_UNK,\n",
              "                                             text sub_intent\n",
              " 0            we have excellent quality right now    UNK_UNK\n",
              " 1  Have you broadcasted your most recent design?    UNK_UNK)"
            ]
          },
          "metadata": {
            "tags": []
          },
          "execution_count": 95
        }
      ]
    },
    {
      "cell_type": "code",
      "metadata": {
        "colab": {
          "base_uri": "https://localhost:8080/"
        },
        "id": "4UlpVY04Fd8a",
        "outputId": "3a86f062-93c8-4f7d-d11e-987608a890d7"
      },
      "source": [
        "# Double checking the intents of labeled and unlabeled dataset\n",
        "df_labeled_Q1['intent'].unique(), df_unlabeled_Q1['intent'].unique()"
      ],
      "execution_count": null,
      "outputs": [
        {
          "output_type": "execute_result",
          "data": {
            "text/plain": [
              "(array(['Prov_Info', 'Ask_info'], dtype=object),\n",
              " array(['UNK_UNK'], dtype=object))"
            ]
          },
          "metadata": {
            "tags": []
          },
          "execution_count": 96
        }
      ]
    },
    {
      "cell_type": "code",
      "metadata": {
        "colab": {
          "base_uri": "https://localhost:8080/"
        },
        "id": "6DCEd8mKFsvf",
        "outputId": "7a012905-0f66-4c71-b130-c0f4d3dd3df7"
      },
      "source": [
        "df_labeled_Q2['sub_intent'].unique(), df_unlabeled_Q2['sub_intent'].unique()"
      ],
      "execution_count": null,
      "outputs": [
        {
          "output_type": "execute_result",
          "data": {
            "text/plain": [
              "(array(['Explore_params', 'Effect_ofparams', 'Dependencies_bwparams',\n",
              "        'Selected_params', 'Monitoring_objectives',\n",
              "        'Tradeoff_bw_objectives'], dtype=object),\n",
              " array(['UNK_UNK'], dtype=object))"
            ]
          },
          "metadata": {
            "tags": []
          },
          "execution_count": 98
        }
      ]
    },
    {
      "cell_type": "code",
      "metadata": {
        "colab": {
          "base_uri": "https://localhost:8080/"
        },
        "id": "z3CxALJpTNe4",
        "outputId": "f96a96db-78c8-4c91-ea7e-e69ede1c0841"
      },
      "source": [
        "print('length of df_labeled_Q1: ', len(df_labeled_Q1) , ', length of df_unlabeled_Q1: ', len(df_unlabeled_Q1) , \n",
        "      'and length of df_labeled_Q2: ', len(df_labeled_Q2) , ', length of df_unlabeled_Q2: ', len(df_unlabeled_Q2))      "
      ],
      "execution_count": null,
      "outputs": [
        {
          "output_type": "stream",
          "text": [
            "length of df_labeled_Q1:  272 , length of df_unlabeled_Q1:  7343 and length of df_labeled_Q2:  228 , length of df_unlabeled_Q2:  7343\n"
          ],
          "name": "stdout"
        }
      ]
    },
    {
      "cell_type": "markdown",
      "metadata": {
        "id": "buuMD3wlUTrU"
      },
      "source": [
        "For first problem statement, we have 272 labeled instances ad 7343 unlabeled instances. This accounts to 3.57% of labeled material.\n",
        "While in case of the second problem statement, we have 228 labeled instances ad 7343 unlabeled instances. This accounts to 3.0% of labeled material."
      ]
    },
    {
      "cell_type": "markdown",
      "metadata": {
        "id": "qxv1-7JYPTKN"
      },
      "source": [
        "## Preparing Data Files:\n",
        "\n"
      ]
    },
    {
      "cell_type": "markdown",
      "metadata": {
        "id": "sXpVSA15U9AL"
      },
      "source": [
        "We are dividing the labeled material into train, test and validation split by 70%, 20% and 10%. On top of this, we are dividing the unlabeled data into 60% unlabeled annotations and 40% test-out-of-space samples to finally test the model.\n"
      ]
    },
    {
      "cell_type": "code",
      "metadata": {
        "id": "0A659yDUF0EI"
      },
      "source": [
        "def split_labeled_Q1(df_labeled, df_unlabeled):\n",
        "  '''\n",
        "  This function splits the labeled and unlabeled dataset into four files which are listed as follows:\n",
        "  1. train_Q1.tsv: Contains all the training labeled data points \n",
        "  2. test_Q1.tsv: Contains the test utterances\n",
        "  3. valid_Q1.tsv: Contains the validation utterances\n",
        "  4. unlabeled_Q1.tsv: Contains all the unlabeled data points\n",
        "  5. test_OOS_Q1.tsv: Contains the test out-of-space utterances\n",
        "  '''\n",
        "  train_fraction = 0.7\n",
        "  test_fraction = 0.2\n",
        "  valid_fraction = 0.1\n",
        "  unlabeled_fraction = 0.6\n",
        "  split_point_train = int(train_fraction *len(df_labeled))\n",
        "  split_point_test = split_point_train+int(test_fraction *len(df_labeled))\n",
        "  split_point_valid = split_point_test+int(valid_fraction *len(df_labeled))\n",
        "  split_point_unlabeled = int(unlabeled_fraction *len(df_unlabeled))\n",
        "\n",
        "  df_labeled = df_labeled.sample(frac=1).reset_index(drop=True)\n",
        "  df_unlabeled = df_unlabeled.sample(frac=1).reset_index(drop=True)\n",
        "\n",
        "  with open(f'/content/drive/MyDrive/projects/Capstone_Project/Checkpoint_5/GAN-BERT/Q1/train_Q1.tsv','a+') as f_out:\n",
        "      f_out.write('fine_label utterance'+'\\n')\n",
        "      for i in range(len(df_labeled[:split_point_train])):\n",
        "          line = ' '.join([str(df_labeled.loc[i,'intent']), str(df_labeled.loc[i,'text'])])\n",
        "          f_out.write(line+'\\n')\n",
        "\n",
        "  test_data = df_labeled[split_point_train:split_point_test]\n",
        "  test_data = test_data.reset_index(drop=True)\n",
        "  with open(f'/content/drive/MyDrive/projects/Capstone_Project/Checkpoint_5/GAN-BERT/Q1/test_Q1.tsv','a+') as f_out:\n",
        "    f_out.write('fine_label utterance'+'\\n')\n",
        "    for i in range(len(test_data)):\n",
        "      line = ' '.join([str(test_data.loc[i,'intent']), str(test_data.loc[i,'text'])])\n",
        "      f_out.write(line+'\\n')\n",
        "\n",
        "  valid_data = df_labeled[split_point_test:split_point_valid]\n",
        "  valid_data = valid_data.reset_index(drop=True)\n",
        "  with open(f'/content/drive/MyDrive/projects/Capstone_Project/Checkpoint_5/GAN-BERT/Q1/valid_Q1.tsv','a+') as f_out:\n",
        "    f_out.write('fine_label utterance'+'\\n')\n",
        "    for i in range(len(valid_data)):\n",
        "      line = ' '.join([str(valid_data.loc[i,'intent']), str(valid_data.loc[i,'text'])])\n",
        "      f_out.write(line+'\\n')\n",
        "\n",
        "  with open(f'/content/drive/MyDrive/projects/Capstone_Project/Checkpoint_5/GAN-BERT/Q1/unlabeled_Q1.tsv','a+') as f_out:\n",
        "      f_out.write('fine_label utterance'+'\\n')\n",
        "      for i in range(len(df_unlabeled[:split_point_unlabeled])):\n",
        "          line = ' '.join(['UNK_UNK', str(df_unlabeled.loc[i,'text'])])\n",
        "          f_out.write(line+'\\n')\n",
        "\n",
        "  with open(f'/content/drive/MyDrive/projects/Capstone_Project/Checkpoint_5/GAN-BERT/Q1/test_OOS_Q1.tsv','a+') as f_out:\n",
        "      f_out.write('fine_label utterance'+'\\n')\n",
        "      for i in range(len(df_unlabeled[split_point_unlabeled:])):\n",
        "          line = ' '.join(['OOS', str(df_unlabeled.loc[i,'text'])])\n",
        "          f_out.write(line+'\\n')\n",
        "\n",
        "def split_labeled_Q2(df_labeled, df_unlabeled):\n",
        "  '''\n",
        "  This function splits the labeled and unlabeled dataset into four files which are listed as follows:\n",
        "  1. train_Q2.tsv: Contains all the training labeled data points \n",
        "  2. test_Q2.tsv: Contains the test utterances\n",
        "  3. valid_Q2.tsv: Contains the validation utterances\n",
        "  4. unlabeled_Q2.tsv: Contains all the unlabeled data points\n",
        "  5. test_OOS_Q2.tsv: Contains the test out-of-space utterances\n",
        "  '''\n",
        "  train_fraction = 0.7\n",
        "  test_fraction = 0.2\n",
        "  valid_fraction = 0.1\n",
        "  unlabeled_fraction = 0.6\n",
        "  split_point_train = int(train_fraction *len(df_labeled))\n",
        "  split_point_test = split_point_train+int(test_fraction *len(df_labeled))\n",
        "  split_point_valid = split_point_test+int(valid_fraction *len(df_labeled))\n",
        "  split_point_unlabeled = int(unlabeled_fraction *len(df_unlabeled))\n",
        "\n",
        "  df_labeled = df_labeled.sample(frac=1).reset_index(drop=True)\n",
        "  df_unlabeled = df_unlabeled.sample(frac=1).reset_index(drop=True)\n",
        "\n",
        "  with open(f'/content/drive/MyDrive/projects/Capstone_Project/Checkpoint_5/GAN-BERT/Q2/train_Q2.tsv','a+') as f_out:\n",
        "      f_out.write('fine_label utterance'+'\\n')\n",
        "      for i in range(len(df_labeled[:split_point_train])):\n",
        "          line = ' '.join([str(df_labeled.loc[i,'sub_intent']), str(df_labeled.loc[i,'text'])])\n",
        "          f_out.write(line+'\\n')\n",
        "\n",
        "  test_data = df_labeled[split_point_train:split_point_test]\n",
        "  test_data = test_data.reset_index(drop=True)\n",
        "  with open(f'/content/drive/MyDrive/projects/Capstone_Project/Checkpoint_5/GAN-BERT/Q2/test_Q2.tsv','a+') as f_out:\n",
        "    f_out.write('fine_label utterance'+'\\n')\n",
        "    for i in range(len(test_data)):\n",
        "      line = ' '.join([str(test_data.loc[i,'sub_intent']), str(test_data.loc[i,'text'])])\n",
        "      f_out.write(line+'\\n')\n",
        "\n",
        "  valid_data = df_labeled[split_point_test:split_point_valid]\n",
        "  valid_data = valid_data.reset_index(drop=True)\n",
        "  with open(f'/content/drive/MyDrive/projects/Capstone_Project/Checkpoint_5/GAN-BERT/Q2/valid_Q2.tsv','a+') as f_out:\n",
        "    f_out.write('fine_label utterance'+'\\n')\n",
        "    for i in range(len(valid_data)):\n",
        "      line = ' '.join([str(valid_data.loc[i,'sub_intent']), str(valid_data.loc[i,'text'])])\n",
        "      f_out.write(line+'\\n')\n",
        "\n",
        "  with open(f'/content/drive/MyDrive/projects/Capstone_Project/Checkpoint_5/GAN-BERT/Q2/unlabeled_Q2.tsv','a+') as f_out:\n",
        "      f_out.write('fine_label utterance'+'\\n')\n",
        "      for i in range(len(df_unlabeled[:split_point_unlabeled])):\n",
        "          line = ' '.join(['UNK_UNK', str(df_unlabeled.loc[i,'text'])])\n",
        "          f_out.write(line+'\\n')\n",
        "\n",
        "  with open(f'/content/drive/MyDrive/projects/Capstone_Project/Checkpoint_5/GAN-BERT/Q2/test_OOS_Q2.tsv','a+') as f_out:\n",
        "      f_out.write('fine_label utterance'+'\\n')\n",
        "      for i in range(len(df_unlabeled[split_point_unlabeled:])):\n",
        "          line = ' '.join(['OOS', str(df_unlabeled.loc[i,'text'])])\n",
        "          f_out.write(line+'\\n')\n",
        "\n",
        "split_labeled_Q1(df_labeled_Q1,df_unlabeled_Q1)\n",
        "split_labeled_Q2(df_labeled_Q2,df_unlabeled_Q2)"
      ],
      "execution_count": null,
      "outputs": []
    }
  ]
}